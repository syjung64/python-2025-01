{
 "cells": [
  {
   "cell_type": "markdown",
   "id": "83e87340-0cde-4876-925b-f32130578fe9",
   "metadata": {},
   "source": [
    "# Lecture 1 : 함수 정의와 활용"
   ]
  },
  {
   "cell_type": "markdown",
   "id": "dcdc285d-13b6-4756-8c00-d1ec9d841263",
   "metadata": {},
   "source": [
    "### 1. 함수 개요\n",
    "- 파이썬 함수는 내장함수(built-in function)과 사용자 정의 함수(user-defined function)으로 나눌 수 있음\n",
    "- **내장함수(built-in function)** : 파이썬 설치와 함께 이미 설치된 함수 <br>\n",
    "  > **len([1, 2, 3])**\n",
    "\n",
    "- **사용자 정의 함수(user-defined function)** : 사용자가 직접 만들어 활용하는 함수\n",
    "  > def add(x, y) :  <br>\n",
    "  > &nbsp;&nbsp;&nbsp;s = x + y <br>\n",
    "  > &nbsp;&nbsp;&nbsp;return s <br>\n",
    "  > <br>\n",
    "  > add(3, 5)\n",
    "\n"
   ]
  },
  {
   "cell_type": "markdown",
   "id": "95801d59-2d77-429d-8816-652e33d15ed7",
   "metadata": {},
   "source": [
    "### 2. 내장함수(built-in function)\n",
    "- **내장함수(built-in function)** : 파이썬 설치와 함께 이미 설치된 함수 <br>\n",
    "  > **len([1, 2, 3])**\n",
    "\n",
    "### **내장함수(built-in function)** / LAB-1\n",
    "| **번호** | **사용 예**                                | **출력(결과)**                                  |  **설  명**                    |\n",
    "|---|--------------------------------------------------|---------------------------------------------------|---------------------------------|\n",
    "| 1 | dir(__builtins__)                                | ['ArithmeticError', 'AssertionError', ...]        |  내장 함수 이름 목록을 튜플로 출력 |\n",
    "| 2 | help(len)                                        | Help on built-in function len in module builtins: |  내장함수 len() 활용법 요청        |\n",
    "|   |                                                  | len(obj, /)                                       |                                 |\n",
    "|   |                                                  | &nbsp;&nbsp;&nbsp;&nbsp;Return the number of items in a container.        |         |\n",
    "| 3 | len([1, 2, 3])                                   | 3                                                 |  튜플 [1, 2, 3]의 원소 수 반환  |\n",
    "| 4 | min([1, 2, 3])                                   | 1                                                 |  튜플 [1, 2, 3]의 원소 중 최소 값 반환  |\n",
    "| 5 | print([1, 2, 3])                                 | [1, 2, 3]                                         |  튜플 [1, 2, 3] 출력  |"
   ]
  },
  {
   "cell_type": "markdown",
   "id": "a67c7672-5343-4820-b266-3e82701bc141",
   "metadata": {},
   "source": [
    "### LAB-1 **내장함수(built-in function)**"
   ]
  },
  {
   "cell_type": "code",
   "execution_count": null,
   "id": "6c655814-fa2d-4c9d-b592-690773d42a9c",
   "metadata": {
    "scrolled": true
   },
   "outputs": [],
   "source": [
    "dir(__builtins__)"
   ]
  },
  {
   "cell_type": "code",
   "execution_count": null,
   "id": "e310db00-cf52-497f-9ee4-4f0e52d498c1",
   "metadata": {},
   "outputs": [],
   "source": [
    "help(len)"
   ]
  },
  {
   "cell_type": "code",
   "execution_count": null,
   "id": "5e8b10c0-9967-47c8-b5b4-919300d3fc64",
   "metadata": {},
   "outputs": [],
   "source": [
    "len([1, 2, 3])"
   ]
  },
  {
   "cell_type": "code",
   "execution_count": null,
   "id": "0419a876-783c-44a7-aa9a-63cad0c5a106",
   "metadata": {},
   "outputs": [],
   "source": [
    "min([1, 2, 3])"
   ]
  },
  {
   "cell_type": "code",
   "execution_count": null,
   "id": "02c44847-f737-4f72-aa3c-ebe0e08264a4",
   "metadata": {},
   "outputs": [],
   "source": [
    "print([1, 2, 3])"
   ]
  },
  {
   "cell_type": "markdown",
   "id": "467aae89-7201-49af-be11-8bf682d53325",
   "metadata": {},
   "source": [
    "### 3. 사용자 정의 함수(user-defined function)\n",
    "- **사용자 정의 함수(user-defined function)** : 사용자가 직접 만들어 활용하는 함수\n",
    "  > def **add(x, y)** :  <br>\n",
    "  > &nbsp;&nbsp;&nbsp;s = x + y <br>\n",
    "  > &nbsp;&nbsp;&nbsp;return s <br>\n",
    "  > <br>\n",
    "  > **add(3, 5)**\n",
    "\n",
    "- **지역변수** : 함수 내부에서 처음으로 대입되어 사용된 변수\n",
    "  > 함수 내부에서만 사용 가능\n",
    "- **전역변수** : 함수 외부에서 처음으로 대입되어 사용된 변수\n",
    "  > 함수 외부는 물론 내부에서도 참조 가능 <br>\n",
    "  > 다만, 함수 내부에서 전역 변수 수정은 기본적으로 불가"
   ]
  },
  {
   "cell_type": "markdown",
   "id": "3943243c-d7e2-4d5c-b66a-1b0b3187a912",
   "metadata": {},
   "source": [
    "### LAB-2 **사용자 정의 함수(user-defined function)**"
   ]
  },
  {
   "cell_type": "code",
   "execution_count": null,
   "id": "3233d0a2-a2fc-4556-a1f1-1516619a3654",
   "metadata": {},
   "outputs": [],
   "source": [
    "# 함수의 정의 와 호출\n",
    "def add(x, y) :\n",
    "    s = x + y\n",
    "    return s\n",
    "\n",
    "add(3, 5)"
   ]
  },
  {
   "cell_type": "code",
   "execution_count": null,
   "id": "b2343d52-b6f8-45f5-b62f-b15559252370",
   "metadata": {},
   "outputs": [],
   "source": [
    "# 함수를 변수에 저장\n",
    "def add(x, y) :\n",
    "    s = x + y\n",
    "    return s\n",
    "\n",
    "f = add\n",
    "f(3, 5)"
   ]
  },
  {
   "cell_type": "code",
   "execution_count": null,
   "id": "18f0cfbe-a59e-419a-8f2f-9b100bd1658a",
   "metadata": {},
   "outputs": [],
   "source": [
    "# 지역 변수와 전역 변수\n",
    "g1 = 10\n",
    "\n",
    "def func() :\n",
    "    a = 20\n",
    "    print(f'g1 = {g1}, a = {a}')\n",
    "\n",
    "func()"
   ]
  },
  {
   "cell_type": "code",
   "execution_count": null,
   "id": "b3794ea2-aba2-4024-9003-63ec39f32a23",
   "metadata": {},
   "outputs": [],
   "source": [
    "# 지역 변수와 전역 변수\n",
    "\n",
    "def func() :\n",
    "    a = 20\n",
    "    print(f'g1 = {g1}, a = {a}')\n",
    "\n",
    "g1 = 10\n",
    "\n",
    "func()"
   ]
  },
  {
   "cell_type": "code",
   "execution_count": null,
   "id": "9620519b-eccc-4aef-96c2-d9fcc2d63fd4",
   "metadata": {},
   "outputs": [],
   "source": [
    "# 지역 변수와 전역 변수\n",
    "# 함수 func()에서만 사용 가능한 지역 변수 a 접근(오류)\n",
    "g1 = 10\n",
    "\n",
    "def func() :\n",
    "    a = 20\n",
    "    print(f'g1 = {g1}, a = {a}')\n",
    "\n",
    "func()\n",
    "print(a)    # (오류) 함수 func()에서만 사용 가능한 지역 변수 a 참조"
   ]
  },
  {
   "cell_type": "code",
   "execution_count": null,
   "id": "048cef4b-38d1-41eb-b6ad-7d4aae6949e6",
   "metadata": {},
   "outputs": [],
   "source": [
    "# 지역 변수와 전역 변수\n",
    "# 기본적으로 함수 func()에서는 지역 변수만 수정 가능\n",
    "g1 = 10\n",
    "\n",
    "def func() :\n",
    "    a = 20\n",
    "    g1 = g1 + 1    # (오류) 함수 func()에서 전역 변수 수정 시도\n",
    "    print(f'func : g1 = {g1}, a = {a}')\n",
    "\n",
    "func()"
   ]
  },
  {
   "cell_type": "code",
   "execution_count": null,
   "id": "8f7623b0-ffbb-4b48-b22b-949718979323",
   "metadata": {},
   "outputs": [],
   "source": [
    "# 지역 변수와 전역 변수\n",
    "# 기본적으로 함수 func()에서는 지역 변수만 수정 가능\n",
    "# 함수 func()에서 전역변수 g1을 수정하기 위해서는 g1이 전역변수임을 명시하면 사용 가능\n",
    "\n",
    "g1 = 10\n",
    "\n",
    "def func() :\n",
    "    global g1   # g1이 전역 변수임을 명시적으로 선언\n",
    "    \n",
    "    a = 20\n",
    "    g1 = g1 + 1    # 전역변수로 명시된 g1은 함수 func()에서 수정 가능\n",
    "    print(f'func : g1 = {g1}, a = {a}')\n",
    "\n",
    "func()"
   ]
  },
  {
   "cell_type": "code",
   "execution_count": null,
   "id": "ae105d56-9bd4-4687-9d90-fb8f23473e0d",
   "metadata": {},
   "outputs": [],
   "source": [
    "# 지역변수와 전역변수 이름이 같은 경우\n",
    "\n",
    "def addone() :\n",
    "    i = 30\n",
    "    i += 1\n",
    "\n",
    "    print(f'\\t지역변수 i : {i}')\n",
    "\n",
    "i = 20\n",
    "\n",
    "print(f'호출 전-전역변수 i : {i}')\n",
    "addone()\n",
    "print(f'호출 후-전역변수 i : {i}')"
   ]
  },
  {
   "cell_type": "code",
   "execution_count": null,
   "id": "4b598aa0-a10d-41d0-aa7c-78e1aa81418b",
   "metadata": {},
   "outputs": [],
   "source": [
    "# 지역변수와 전역변수 이름이 같은 경우\n",
    "i = 20\n",
    "def addone() :\n",
    "    i = 30\n",
    "    i += 1\n",
    "\n",
    "    print(f'\\t지역변수 i : {i}')\n",
    "\n",
    "print(f'호출 전-전역변수 i : {i}')\n",
    "addone()\n",
    "print(f'호출 후-전역변수 i : {i}')"
   ]
  },
  {
   "cell_type": "markdown",
   "id": "03777946-8dc8-4f9f-8d32-d48a1aaccb76",
   "metadata": {},
   "source": [
    "### LAB-3 수행 과제"
   ]
  },
  {
   "cell_type": "markdown",
   "id": "4d0475d4-1017-4552-b952-af8fbf3231aa",
   "metadata": {},
   "source": [
    "1. 문제 : 지역변수와 전역변수의 차이 이해하기\n",
    "- 아래의 요구사항을 만족하는 파이썬 프로그램을 작성하세요.래 조건에 따라 로그 데이터를 분석하세요.\n",
    "2. 요구사항:\n",
    "- 전역 변수 사용: 은행 계좌의 잔액을 나타내는 balance 변수를 전역 변수로 선언하세요.\n",
    "- 지역 변수 사용: 입금(deposit)과 출금(withdraw) 기능을 **함수**로 구현하되, **함수 내부에서 지역 변수로 계산하여 전역 변수를 수정**하세요.\n",
    "- 출력 요구사항:\n",
    "   - 입금과 출금이 정상적으로 이루어졌을 때, 현재 잔액을 출력하세요.\n",
    "   - 출금할 금액이 잔액보다 많으면 \"잔액이 부족합니다\"라는 메시지를 출력하세요.\n",
    "\n",
    "```python\n",
    "# 전역 변수 선언\n",
    "balance = 1000  # 초기 잔액 1000원\n",
    "\n",
    "def deposit(amount):\n",
    "    # 코드 작성\n",
    "    #\n",
    "                                                    \n",
    "def withdraw(amount):\n",
    "    # 코드 작성\n",
    "    #\n",
    "\n",
    "                                                      \n",
    "# 실행 예제\n",
    "deposit(500)   # 입금 실행\n",
    "withdraw(200)  # 출금 실행\n",
    "withdraw(2000) # 잔액 부족 상황 테스트\n",
    "```"
   ]
  },
  {
   "cell_type": "code",
   "execution_count": null,
   "id": "3e659a43-fe00-4c4d-9354-28ee624a444c",
   "metadata": {},
   "outputs": [],
   "source": [
    "# 전역 변수 선언\n",
    "balance = 1000  # 초기 잔액 1000원\n",
    "\n",
    "def deposit(amount):\n",
    "    \"\"\"입금 함수: 전역 변수 balance를 수정\"\"\"\n",
    "    global balance  # 전역 변수 balance 사용 선언\n",
    "    balance += amount\n",
    "    print(f\"{amount}원이 입금되었습니다. 현재 잔액: {balance}원\")\n",
    "\n",
    "def withdraw(amount):\n",
    "    \"\"\"출금 함수: 전역 변수 balance를 수정\"\"\"\n",
    "    global balance  # 전역 변수 balance 사용 선언\n",
    "    if amount > balance:\n",
    "        print(\"잔액이 부족합니다.\")\n",
    "    else:\n",
    "        balance -= amount\n",
    "        print(f\"{amount}원이 출금되었습니다. 현재 잔액: {balance}원\")\n",
    "\n",
    "# 실행 예제\n",
    "deposit(500)   # 입금 실행\n",
    "withdraw(200)  # 출금 실행\n",
    "withdraw(2000) # 잔액 부족 상황 테스트"
   ]
  },
  {
   "cell_type": "markdown",
   "id": "5e488944-0807-4d37-99fe-91eb7a9c4d98",
   "metadata": {},
   "source": [
    "### LAB-4 수행 과제(심화 과제)"
   ]
  },
  {
   "cell_type": "markdown",
   "id": "2cf117b9-1840-441f-82fd-842cf493aff2",
   "metadata": {},
   "source": [
    "1. 문제 : 지역변수와 전역변수의 차이 이해하기\n",
    "- global 키워드를 사용하지 않고 함수에서 전역 변수를 수정할 수 있는 방법을 찾아보세요.\n",
    "> Hint : global 키워드 없이 전역 변수를 수정하려면, 함수의 반환값을 활용\n",
    "- **전역 변수를 직접 변경하는 것보다 유지보수가 쉽고, 함수가 독립적으로 동작할 수 있습니다.**\n",
    "\n",
    "```python\n",
    "# 전역 변수 선언\n",
    "balance = 1000  # 초기 잔액 1000원\n",
    "\n",
    "def deposit(amount):\n",
    "    # 코드 작성\n",
    "    #\n",
    "    return balance\n",
    "                                                    \n",
    "def withdraw(amount):\n",
    "    # 코드 작성\n",
    "    #\n",
    "    return balance\n",
    "                                                      \n",
    "# 실행 예제\n",
    "balance = deposit(balance, 500)\n",
    "balance = withdraw(balance, 200)\n",
    "balance = withdraw(balance, 2000)  # 잔액 부족 상황 테스트\n",
    "```"
   ]
  },
  {
   "cell_type": "code",
   "execution_count": null,
   "id": "8cb99758-9cd1-4d36-bcb6-1ae46a7fa077",
   "metadata": {},
   "outputs": [],
   "source": [
    "# 전역 변수 선언\n",
    "balance = 1000  # 초기 잔액 1000원\n",
    "\n",
    "def deposit(balance, amount):\n",
    "    \"\"\"입금 함수: 전역 변수를 수정하지 않고 반환\"\"\"\n",
    "    balance += amount\n",
    "    print(f\"{amount}원이 입금되었습니다. 현재 잔액: {balance}원\")\n",
    "    return balance  # 변경된 값을 반환\n",
    "\n",
    "def withdraw(balance, amount):\n",
    "    \"\"\"출금 함수: 전역 변수를 수정하지 않고 반환\"\"\"\n",
    "    if amount > balance:\n",
    "        print(\"잔액이 부족합니다.\")\n",
    "        return balance  # 잔액 변경 없이 반환\n",
    "    balance -= amount\n",
    "    print(f\"{amount}원이 출금되었습니다. 현재 잔액: {balance}원\")\n",
    "    return balance  # 변경된 값을 반환\n",
    "\n",
    "# 실행 예제 (반환된 값으로 balance를 업데이트)\n",
    "balance = deposit(balance, 500)\n",
    "balance = withdraw(balance, 200)\n",
    "balance = withdraw(balance, 2000)  # 잔액 부족 상황 테스트"
   ]
  },
  {
   "cell_type": "markdown",
   "id": "0cf3ddb9-57b4-4741-99c4-927fbf9d8e52",
   "metadata": {},
   "source": [
    "### LAB-5 수행 과제(내친김에 - 심화 과제)"
   ]
  },
  {
   "cell_type": "markdown",
   "id": "d4dd6017-daa4-4430-b38e-eec4c7bafcdd",
   "metadata": {},
   "source": [
    "1. 문제 : 지역 변수만을 사용하여 잔액을 관리하는 함수형 프로그래밍 방식\n",
    "- 전역 변수를 아예 사용하지 않고, 지역 변수만을 사용하여 상태를 관리할 수도 있습니다.\n",
    "- **전역 변수 없이 지역 변수로 상태를 유지하고 balance를 함수의 매개변수로 전달**\n",
    "- **함수의 부작용을 최소화하고, 유지보수가 쉬운 코드 스타일을 제공**\n",
    "  \n",
    "```python\n",
    "def bank_operations():\n",
    "    \"\"\"함수형 프로그래밍 스타일로 잔액 관리\"\"\"\n",
    "    balance = 1000  # 지역 변수로 잔액 관리\n",
    "\n",
    "    def deposit(balance, amount):\n",
    "        # 코드 작성\n",
    "        #\n",
    "        return balance\n",
    "\n",
    "    def withdraw(balance, amount):\n",
    "        # 코드 작성\n",
    "        #\n",
    "        return balance\n",
    "\n",
    "    # 함수 실행\n",
    "    balance = deposit(balance, 500)\n",
    "    balance = withdraw(balance, 200)\n",
    "    balance = withdraw(balance, 2000)  # 잔액 부족 테스트\n",
    "\n",
    "bank_operations()\n",
    "```"
   ]
  },
  {
   "cell_type": "code",
   "execution_count": null,
   "id": "cce73876-9910-4510-80df-480685290b03",
   "metadata": {},
   "outputs": [],
   "source": [
    "def bank_operations():\n",
    "    \"\"\"함수형 프로그래밍 스타일로 잔액 관리\"\"\"\n",
    "    balance = 1000  # 지역 변수로 잔액 관리\n",
    "\n",
    "    def deposit(balance, amount):\n",
    "        balance += amount\n",
    "        print(f\"{amount}원이 입금되었습니다. 현재 잔액: {balance}원\")\n",
    "        return balance\n",
    "\n",
    "    def withdraw(balance, amount):\n",
    "        if amount > balance:\n",
    "            print(\"잔액이 부족합니다.\")\n",
    "            return balance\n",
    "        balance -= amount\n",
    "        print(f\"{amount}원이 출금되었습니다. 현재 잔액: {balance}원\")\n",
    "        return balance\n",
    "\n",
    "    # 함수 실행\n",
    "    balance = deposit(balance, 500)\n",
    "    balance = withdraw(balance, 200)\n",
    "    balance = withdraw(balance, 2000)  # 잔액 부족 테스트\n",
    "\n",
    "bank_operations()\n"
   ]
  },
  {
   "cell_type": "markdown",
   "id": "e17bae4d-90e1-4907-97b3-52311a50fda8",
   "metadata": {},
   "source": [
    "### LAB-6 수행 과제(이왕에 그냥 가보자!!! - 심화 과제)"
   ]
  },
  {
   "cell_type": "markdown",
   "id": "3a28e79f-54ab-4357-b9c8-20e2ffbff28c",
   "metadata": {},
   "source": [
    "1. 문제 : 클래스를 사용하여 BankAccount 객체 만들기\n",
    "- 객체 지향 프로그래밍(OOP)을 활용하여 은행 계좌를 BankAccount 클래스로 구현\n",
    "- **self.balance를 사용하여 각 객체별로 독립적인 상태를 유지**\n",
    "- **함수형 프로그래밍 방식과 달리, 객체 단위로 데이터를 관리하기 때문에 재사용성이 높아짐**\n",
    "  \n",
    "```python\n",
    "class BankAccount:\n",
    "    def __init__(self, initial_balance=1000):\n",
    "        \"\"\"계좌 객체 초기화\"\"\"\n",
    "        self.balance = initial_balance  # 인스턴스 변수로 잔액 관리\n",
    "\n",
    "    def deposit(self, amount):\n",
    "        \"\"\"입금 메서드\"\"\"\n",
    "        self.balance += amount\n",
    "        print(f\"{amount}원이 입금되었습니다. 현재 잔액: {self.balance}원\")\n",
    "\n",
    "    def withdraw(self, amount):\n",
    "        \"\"\"출금 메서드\"\"\"\n",
    "        if amount > self.balance:\n",
    "            print(\"잔액이 부족합니다.\")\n",
    "        else:\n",
    "            self.balance -= amount\n",
    "            print(f\"{amount}원이 출금되었습니다. 현재 잔액: {self.balance}원\")\n",
    "\n",
    "# 실행 예제\n",
    "account = BankAccount()  # 계좌 객체 생성\n",
    "account.deposit(500)  # 입금\n",
    "account.withdraw(200)  # 출금\n",
    "account.withdraw(2000)  # 잔액 부족 테스트\n",
    "```"
   ]
  },
  {
   "cell_type": "code",
   "execution_count": null,
   "id": "d42febe4-9903-4244-8042-1314b29360a7",
   "metadata": {},
   "outputs": [],
   "source": []
  }
 ],
 "metadata": {
  "kernelspec": {
   "display_name": "Python 3 (ipykernel)",
   "language": "python",
   "name": "python3"
  },
  "language_info": {
   "codemirror_mode": {
    "name": "ipython",
    "version": 3
   },
   "file_extension": ".py",
   "mimetype": "text/x-python",
   "name": "python",
   "nbconvert_exporter": "python",
   "pygments_lexer": "ipython3",
   "version": "3.12.7"
  }
 },
 "nbformat": 4,
 "nbformat_minor": 5
}
