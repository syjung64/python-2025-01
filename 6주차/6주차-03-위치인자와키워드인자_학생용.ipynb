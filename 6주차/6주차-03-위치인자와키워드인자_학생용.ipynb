{
 "cells": [
  {
   "cell_type": "markdown",
   "id": "103b8e52-af72-4b4f-b7c1-35f3e7b7eb49",
   "metadata": {},
   "source": [
    "# Lecture 1 : 함수의 인자 사용 방식"
   ]
  },
  {
   "cell_type": "markdown",
   "id": "d857a495-88aa-45e7-ba30-2c6474425aaf",
   "metadata": {},
   "source": [
    "### 1. 위치 인자 전달 과 키워드 인자 전달\n",
    "- 함수 호출시 인자를 전달하는 방법에는 **위치 인자 전달 방식**과 **키워드 인자 전달 방식**이 있음\n",
    "- **위치 인자 전달 방식** :  인자의 순서대로 매개 변수에 대응(인자의 순서와 매개변수의 순서가 일치해야 함)\n",
    "  > def **compute(item, price)** :  <br>\n",
    "  > &nbsp;&nbsp;&nbsp;print(f'항목 : {item}, 단가 : {price}') <br>\n",
    "  > <br>\n",
    "  > **compute('banana', 1000)** <br>\n",
    "\n",
    "- **키워드 인자 전달 방식** :  인자 순서에 상관 없이 매개변수 이름과 값을 지정\n",
    "  > def **compute(item, price)** :  <br>\n",
    "  > &nbsp;&nbsp;&nbsp;print(f'항목 : {item}, 단가 : {price}') <br>\n",
    "  > <br>\n",
    "  > **compute(price=1000, item='apple')** <br>\n",
    "\n",
    "- **위치 인자와 키워드 인자 혼합 전달 방식** :\n",
    "- 위치기반 인자는 키워드 인자보다 앞에와야 함\n",
    "  > def **compute(item, price)** :  <br>\n",
    "  > &nbsp;&nbsp;&nbsp;print(f'항목 : {item}, 단가 : {price}') <br>\n",
    "  > <br>\n",
    "  > **compute('banana', price = 1000)** <br>\n"
   ]
  },
  {
   "cell_type": "code",
   "execution_count": null,
   "id": "64f6c514-78e1-470c-9ef3-3e1be3860e82",
   "metadata": {},
   "outputs": [],
   "source": [
    "# 위치 인자 전달 방식 : 인자의 순서대로 매개 변수에 대응\n",
    "def compute(item, price) :\n",
    "   print(f'항목 : {item}, 단가 : {price}')\n",
    "\n",
    "compute('banana', 1000)"
   ]
  },
  {
   "cell_type": "code",
   "execution_count": null,
   "id": "db9f99c1-9f9d-444f-80ba-af6804e7ce9a",
   "metadata": {},
   "outputs": [],
   "source": [
    "# 키워드 인자 전달 방식 : 인자 순서에 상관 없이 매개변수 이름과 값을 지정\n",
    "def compute(item, price) :\n",
    "   print(f'항목 : {item}, 단가 : {price}')\n",
    "\n",
    "compute(price=1000, item='apple')"
   ]
  },
  {
   "cell_type": "code",
   "execution_count": null,
   "id": "b7007041-0765-4829-ac58-29eecda55a1e",
   "metadata": {},
   "outputs": [],
   "source": [
    "# 위치 인자와 키워드 인자 혼합 전달 방식 : 위치기반 인자는 키워드 인자보다 앞에와야 함\n",
    "\n",
    "def compute(item, price) :\n",
    "   print(f'항목 : {item}, 단가 : {price}')\n",
    "\n",
    "compute('banana', price = 1000)"
   ]
  },
  {
   "cell_type": "code",
   "execution_count": null,
   "id": "0867b57a-9300-4806-946c-e78610b96e23",
   "metadata": {
    "scrolled": true
   },
   "outputs": [],
   "source": [
    "# 위치 인자와 키워드 인자 혼합 전달 방식 : 위치기반 인자는 키워드 인자보다 앞에와야 함\n",
    "\n",
    "def compute(item, price) :\n",
    "   print(f'항목 : {item}, 단가 : {price}')\n",
    "\n",
    "compute('banana', item = '사과') # (오류) 매개변수 item 인자가 2개"
   ]
  },
  {
   "cell_type": "code",
   "execution_count": null,
   "id": "4f9eeb08-3d43-459f-89b6-a147cefb11a6",
   "metadata": {},
   "outputs": [],
   "source": [
    "# 위치 인자와 키워드 인자 혼합 전달 방식 : 위치기반 인자는 키워드 인자보다 앞에와야 함\n",
    "\n",
    "def compute(item, price) :\n",
    "   print(f'항목 : {item}, 단가 : {price}')\n",
    "\n",
    "compute(item = '사과', 200) # (오류) 위치기반 인자는 키워드 인자보다 앞에와야 함"
   ]
  },
  {
   "cell_type": "markdown",
   "id": "71451de2-bdb7-41d7-942f-89c78e2bbf9f",
   "metadata": {},
   "source": [
    "### 2. 가변인자 \\*args\n",
    "- 함수에 임의 개수의 인자 전달 방식 : 함수 호출시 인자 값들이 튜플로 묶여서 arg로 전달됨\n",
    "- **함수 정의 시 인자(arg)앞의 \\*는 여러 인자 값이 튜플로 묶여서(packing) 전달됨을 나타냄**\n",
    "  > def **sum_numbers(\\*args)** :  <br>\n",
    "  > &nbsp;&nbsp;&nbsp; result = 0 <br>\n",
    "  > &nbsp;&nbsp;&nbsp; for num in args: <br>\n",
    "  > &nbsp;&nbsp;&nbsp; &nbsp;&nbsp;&nbsp; result += num <br>\n",
    "  > &nbsp;&nbsp;&nbsp; return result <br>\n",
    "  > <br>\n",
    "  > total = sum_numbers(1, 2, 3, 4, 5) <br>\n",
    "\n",
    "- **함수 호출 시 묶음(리스트, 튜플) 인자 앞의 \\*는 인자 값 튜플을 풀여서(unpacking)되어 전달함을 나타냄**\n",
    "  > def **sum_numbers(\\*args)** :  <br>\n",
    "  > &nbsp;&nbsp;&nbsp; result = 0 <br>\n",
    "  > &nbsp;&nbsp;&nbsp; for num in args: <br>\n",
    "  > &nbsp;&nbsp;&nbsp; &nbsp;&nbsp;&nbsp; result += num <br>\n",
    "  > &nbsp;&nbsp;&nbsp; return result <br>\n",
    "  > <br>\n",
    "  > total = sum_numbers(10, 20, 30, \\*[1, 2, 3]) <br>\n"
   ]
  },
  {
   "cell_type": "code",
   "execution_count": null,
   "id": "cbab11fb-0100-488c-bdf8-2fbbf267cb56",
   "metadata": {},
   "outputs": [],
   "source": [
    "def sum_numbers(*args) :\n",
    "    result = 0\n",
    "    for num in args:\n",
    "        result += num\n",
    "    return result\n",
    "\n",
    "total = sum_numbers(1, 2, 3, 4, 5)\n",
    "print(total)"
   ]
  },
  {
   "cell_type": "code",
   "execution_count": null,
   "id": "dcb133dd-d6ab-4ef8-8963-e84ca8530df2",
   "metadata": {},
   "outputs": [],
   "source": [
    "def sum_numbers(*args) :\n",
    "    result = 0\n",
    "    for num in args:\n",
    "        result += num\n",
    "    return result\n",
    "\n",
    "total = sum_numbers(10, 20, 30, *[1, 2, 3])\n",
    "print(total)"
   ]
  },
  {
   "cell_type": "markdown",
   "id": "2fddaa95-fb93-4143-9862-0995c9dcd0a9",
   "metadata": {},
   "source": [
    "### LAB-1 수행 과제"
   ]
  },
  {
   "cell_type": "markdown",
   "id": "21aa9faa-2cff-4fd0-893e-126d50084d40",
   "metadata": {},
   "source": [
    "1. 문제 : 온라인 카페 주문 시스템 구현\n",
    "- 다양한 방식으로 주문을 받을 수 있도록 위치 인자, 키워드 인자, 가변 인자를 활용\n",
    "- 최종 주문 정보를 출력하는 함수를 작성\n",
    "2. 요구사항:\n",
    "- 위치 인자를 사용하여 고객의 이름과 주문한 음료를 입력받는다.\n",
    "- 키워드 인자를 사용하여 옵션(샷 추가, 아이스 여부 등)을 선택할 수 있도록 한다.\n",
    "- **가변 인자 (*args)**를 사용하여 추가 주문(베이글, 쿠키, 샌드위치 등)을 받을 수 있도록 한다.\n",
    "\n",
    "```python\n",
    "def order_coffee(customer_name, drink, *extras, size=\"Tall\", ice=False, shots=1):\n",
    "    \"\"\"\n",
    "    고객의 커피 주문을 처리하는 함수\n",
    "\n",
    "    :param customer_name: (위치 인자) 고객 이름\n",
    "    :param drink: (위치 인자) 주문한 음료\n",
    "    :param *extras: (가변 인자) 추가 주문 (쿠키, 샌드위치 등)\n",
    "    :param size: (키워드 인자) 음료 크기 (기본값: Tall)\n",
    "    :param ice: (키워드 인자) 아이스 여부 (기본값: False)\n",
    "    :param shots: (키워드 인자) 추가 샷 개수 (기본값: 1)\n",
    "    \"\"\"\n",
    "\n",
    "    print(f\"📢 주문 정보\")\n",
    "    print(f\"👤 고객: {customer_name}\")\n",
    "    print(f\"☕ 음료: {drink} ({size} 사이즈)\")\n",
    "    print(f\"🔥 추가 샷: {shots}개\")\n",
    "    print(f\"🧊 아이스 여부: {'Yes' if ice else 'No'}\")\n",
    "    \n",
    "    if extras:\n",
    "        print(\"🍪 추가 주문:\", \", \".join(extras))\n",
    "    \n",
    "    print(\"✅ 주문이 완료되었습니다!\\n\")\n",
    "\n",
    "# 예제 실행\n",
    "order_coffee(\"Alice\", \"아메리카노\")\n",
    "order_coffee(\"Bob\", \"라떼\", \"쿠키\", size=\"Grande\", ice=True, shots=2)\n",
    "order_coffee(\"Charlie\", \"바닐라 라떼\", \"베이글\", \"머핀\", ice=True)\n",
    "```"
   ]
  },
  {
   "cell_type": "code",
   "execution_count": null,
   "id": "09eae057-182c-407c-8228-457bd1ab8a3e",
   "metadata": {},
   "outputs": [],
   "source": [
    "def order_coffee(customer_name, drink, *extras, size=\"Tall\", ice=False, shots=1):\n",
    "    \"\"\"\n",
    "    고객의 커피 주문을 처리하는 함수\n",
    "\n",
    "    :param customer_name: (위치 인자) 고객 이름\n",
    "    :param drink: (위치 인자) 주문한 음료\n",
    "    :param *extras: (가변 인자) 추가 주문 (쿠키, 샌드위치 등)\n",
    "    :param size: (키워드 인자) 음료 크기 (기본값: Tall)\n",
    "    :param ice: (키워드 인자) 아이스 여부 (기본값: False)\n",
    "    :param shots: (키워드 인자) 추가 샷 개수 (기본값: 1)\n",
    "    \"\"\"\n",
    "\n",
    "    print(f\"📢 주문 정보\")\n",
    "    print(f\"👤 고객: {customer_name}\")\n",
    "    print(f\"☕ 음료: {drink} ({size} 사이즈)\")\n",
    "    print(f\"🔥 추가 샷: {shots}개\")\n",
    "    print(f\"🧊 아이스 여부: {'Yes' if ice else 'No'}\")\n",
    "    \n",
    "    if extras:\n",
    "        print(\"🍪 추가 주문:\", \", \".join(extras))\n",
    "    \n",
    "    print(\"✅ 주문이 완료되었습니다!\\n\")\n",
    "\n",
    "# 예제 실행\n",
    "order_coffee(\"Alice\", \"아메리카노\")\n",
    "order_coffee(\"Bob\", \"라떼\", \"쿠키\", size=\"Grande\", ice=True, shots=2)\n",
    "order_coffee(\"Charlie\", \"바닐라 라떼\", \"베이글\", \"머핀\", ice=True)"
   ]
  },
  {
   "cell_type": "code",
   "execution_count": null,
   "id": "ec8fead4-0c71-4ba4-a941-bfbef39ad02e",
   "metadata": {},
   "outputs": [],
   "source": []
  }
 ],
 "metadata": {
  "kernelspec": {
   "display_name": "Python 3 (ipykernel)",
   "language": "python",
   "name": "python3"
  },
  "language_info": {
   "codemirror_mode": {
    "name": "ipython",
    "version": 3
   },
   "file_extension": ".py",
   "mimetype": "text/x-python",
   "name": "python",
   "nbconvert_exporter": "python",
   "pygments_lexer": "ipython3",
   "version": "3.12.7"
  }
 },
 "nbformat": 4,
 "nbformat_minor": 5
}
