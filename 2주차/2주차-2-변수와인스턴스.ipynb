{
 "cells": [
  {
   "cell_type": "markdown",
   "id": "e0641cce-87de-428c-a14e-081363afb06a",
   "metadata": {},
   "source": [
    "# Lecture 1 : 변수와 object\n",
    "1. 변수(variable) : 메모리에 할당된(실행중) **object에 부착된 라벨(Label)**\n",
    "   -  변수를 통해서 object 참조가능\n",
    "   -  object에 변수가 부착되지 않으면, 해당 object는 참조할 수 없고 garvage collectuin으로 회수됨\n",
    "   -  object 생성은 생성자로 생성 (예) int(10), lst([1, 2, 3])\n",
    "   -  변수를 생성한 object에 부착하는 것은 assignment문을 통해 실행됨 (예) num = int(10), lst = list([1, 2, 3])\n",
    "2. object : 메모리에 할당되어 실행 중인 인스턴스\n",
    "   - 3개 특성(Value, Identity, Type)을 가진다.\n",
    "   - Value : 객체의 양(예: 2, 3.3, True, [1, 2, 3])\n",
    "   - Identy : object의 고유값(ID), CPython의 경우 할당된 메모리 주소 값으로 구현됨, id(object) 함수로 확인 가능 (예) id(2) : 472353\n",
    "   - Type : 해당 object가 derived from된 상위 class, type(object) 함수로 확인 가능 (예) type(42) : <class int> "
   ]
  },
  {
   "cell_type": "code",
   "execution_count": 17,
   "id": "1b0d5917-46de-4023-9851-29d519899b47",
   "metadata": {},
   "outputs": [
    {
     "name": "stdout",
     "output_type": "stream",
     "text": [
      "7 140728641858168 <class 'int'>\n"
     ]
    }
   ],
   "source": [
    "# int 자료 값 7로 object(instance)를 생성하고, 변수 num을 부착  \n",
    "num = int(7)\n",
    "\n",
    "# 변수 num에 부착된 object(instance)의 값, id, class 출력\n",
    "print(num, id(num), type(num))"
   ]
  },
  {
   "cell_type": "markdown",
   "id": "a8d449c6-8870-4611-8374-e371f70569e7",
   "metadata": {},
   "source": [
    "#### (토론) 변수 num이 id가 달라지는 현상을 설명해 보자"
   ]
  },
  {
   "cell_type": "code",
   "execution_count": 18,
   "id": "a6488542-7441-404a-95be-c74fa6d2dd8a",
   "metadata": {},
   "outputs": [
    {
     "name": "stdout",
     "output_type": "stream",
     "text": [
      "140728641858168\n",
      "140728641858200\n"
     ]
    }
   ],
   "source": [
    "# int 자료 값 7로 object(instance)를 생성하고, 변수 num을 부착  \n",
    "num = 7\n",
    "print(id(num))\n",
    "\n",
    "# int 자료 값 7+1로 object(instance)를 생성하고, 변수 num을 부착  \n",
    "num = num + 1\n",
    "print(id(num))"
   ]
  },
  {
   "cell_type": "markdown",
   "id": "7d175036-ab3a-42c7-b2d1-587b3809805b",
   "metadata": {},
   "source": [
    "#### (토론) 변수 a, b의 id가 달라지는 현상을 설명해 보자"
   ]
  },
  {
   "cell_type": "code",
   "execution_count": 4,
   "id": "08ba790a-e872-4ee6-91f6-1d455907bd50",
   "metadata": {},
   "outputs": [
    {
     "name": "stdout",
     "output_type": "stream",
     "text": [
      "140728641858264 140728641858264\n",
      "140728641858296 140728641858264\n"
     ]
    }
   ],
   "source": [
    "#\n",
    "a = b = 10\n",
    "print(id(a), id(b))\n",
    "\n",
    "a = a + 1\n",
    "print(id(a), id(b))"
   ]
  },
  {
   "cell_type": "markdown",
   "id": "86119976-101e-4544-873f-e4724575d583",
   "metadata": {},
   "source": [
    "# Lecture 2 : 가변성(mutable)과 불변성(immutable)\n",
    "1. 가변성(mutable) : 변수를 통해 object의 상태나 값을 변경할 수 있는 object\n",
    "\n",
    "    \n",
    "2. 불변성(immutable) : 변수를 통해 object의 상태나 값을 변경할 수 없는 object\n",
    "   - 숫자(int, float)는 값의 변경은, 새로운 object가 생성되고 변수를 부착함으로 기존 object 변경이 불가한 객체임\n",
    "   - (예) a = 10, a = a + 1 # int 10값의 객체 변경은 불가능함"
   ]
  },
  {
   "cell_type": "markdown",
   "id": "f5dcc656-0b69-4879-85d8-6854e4c30536",
   "metadata": {},
   "source": [
    "### 1. 불변(immutable) 객체 : 숫자(int, float, complex), 문자(str), 논리(bool), tuple\n",
    "- 객체가 생성된 후, 변경되거나 수정될 수 있음\n",
    "- 액세스가 빠르고 변경 비용이 많이 들며 , 이는 복사본을 생성해야 하기 때문"
   ]
  },
  {
   "cell_type": "code",
   "execution_count": 13,
   "id": "21f242cc-a200-429d-9c28-08ff28fda2fe",
   "metadata": {},
   "outputs": [
    {
     "name": "stdout",
     "output_type": "stream",
     "text": [
      "140729247541976\n",
      "140729247542008\n"
     ]
    }
   ],
   "source": [
    "# 불변성(immutable) - 10값을 갖는 int 객체(a) 변경할 수 없음 (참조 불가)\n",
    "a = 10\n",
    "print(id(a))\n",
    "a = a + 1\n",
    "print(id(a))"
   ]
  },
  {
   "cell_type": "code",
   "execution_count": 19,
   "id": "6898e9df-03b1-4484-aa8e-821c30a5fcf5",
   "metadata": {},
   "outputs": [
    {
     "name": "stdout",
     "output_type": "stream",
     "text": [
      "10 10 140728641858264 140728641858264\n",
      "11 10 140728641858296 140728641858264\n"
     ]
    }
   ],
   "source": [
    "# 불변성(immutable) \n",
    "a = b = 10\n",
    "print(a, b, id(a), id(b))\n",
    "a = a + 1\n",
    "print(a, b, id(a), id(b))"
   ]
  },
  {
   "cell_type": "code",
   "execution_count": 27,
   "id": "f5916752-4d58-42de-af93-df68c31ab9aa",
   "metadata": {
    "collapsed": true,
    "jupyter": {
     "outputs_hidden": true
    },
    "scrolled": true
   },
   "outputs": [
    {
     "name": "stdout",
     "output_type": "stream",
     "text": [
      "1274026617440 140729247604624\n"
     ]
    },
    {
     "ename": "TypeError",
     "evalue": "'str' object does not support item assignment",
     "output_type": "error",
     "traceback": [
      "\u001b[1;31m---------------------------------------------------------------------------\u001b[0m",
      "\u001b[1;31mTypeError\u001b[0m                                 Traceback (most recent call last)",
      "Cell \u001b[1;32mIn[27], line 3\u001b[0m\n\u001b[0;32m      1\u001b[0m \u001b[38;5;28mstr\u001b[39m \u001b[38;5;241m=\u001b[39m \u001b[38;5;124m\"\u001b[39m\u001b[38;5;124mhello\u001b[39m\u001b[38;5;124m\"\u001b[39m\n\u001b[0;32m      2\u001b[0m \u001b[38;5;28mprint\u001b[39m(\u001b[38;5;28mid\u001b[39m(\u001b[38;5;28mstr\u001b[39m), \u001b[38;5;28mid\u001b[39m(\u001b[38;5;28mstr\u001b[39m[\u001b[38;5;241m0\u001b[39m]))\n\u001b[1;32m----> 3\u001b[0m \u001b[38;5;28mstr\u001b[39m[\u001b[38;5;241m0\u001b[39m] \u001b[38;5;241m=\u001b[39m \u001b[38;5;124m'\u001b[39m\u001b[38;5;124ma\u001b[39m\u001b[38;5;124m'\u001b[39m\n",
      "\u001b[1;31mTypeError\u001b[0m: 'str' object does not support item assignment"
     ]
    }
   ],
   "source": [
    "# str - 불변성(immutable)\n",
    "str = \"hello\"\n",
    "print(id(str), id(str[0]))\n",
    "# 오류\n",
    "str[0] = 'a'"
   ]
  },
  {
   "cell_type": "code",
   "execution_count": 19,
   "id": "62de9782-48c0-4b2a-93d4-132e3d3507b8",
   "metadata": {},
   "outputs": [
    {
     "name": "stdout",
     "output_type": "stream",
     "text": [
      "hello 1274026617440\n",
      "HELLO 1274046918560\n"
     ]
    }
   ],
   "source": [
    "# str - 불변성(immutable)\n",
    "str = \"hello\"\n",
    "print(str, id(str))\n",
    "str = str.upper()\n",
    "print(str, id(str))"
   ]
  },
  {
   "cell_type": "code",
   "execution_count": 6,
   "id": "36755070-f42c-4969-a3b5-b61e90f2344f",
   "metadata": {
    "collapsed": true,
    "jupyter": {
     "outputs_hidden": true
    },
    "scrolled": true
   },
   "outputs": [
    {
     "name": "stdout",
     "output_type": "stream",
     "text": [
      "(0, 1, 2, 3) 2330277952096 140728641857944\n"
     ]
    },
    {
     "ename": "TypeError",
     "evalue": "'tuple' object does not support item assignment",
     "output_type": "error",
     "traceback": [
      "\u001b[1;31m---------------------------------------------------------------------------\u001b[0m",
      "\u001b[1;31mTypeError\u001b[0m                                 Traceback (most recent call last)",
      "Cell \u001b[1;32mIn[6], line 5\u001b[0m\n\u001b[0;32m      3\u001b[0m tpl \u001b[38;5;241m=\u001b[39m (\u001b[38;5;241m0\u001b[39m, \u001b[38;5;241m1\u001b[39m, \u001b[38;5;241m2\u001b[39m, \u001b[38;5;241m3\u001b[39m)\n\u001b[0;32m      4\u001b[0m \u001b[38;5;28mprint\u001b[39m(tpl, \u001b[38;5;28mid\u001b[39m(tpl), \u001b[38;5;28mid\u001b[39m(tpl[\u001b[38;5;241m0\u001b[39m]))\n\u001b[1;32m----> 5\u001b[0m tpl[\u001b[38;5;241m0\u001b[39m] \u001b[38;5;241m=\u001b[39m \u001b[38;5;241m5\u001b[39m\n",
      "\u001b[1;31mTypeError\u001b[0m: 'tuple' object does not support item assignment"
     ]
    }
   ],
   "source": [
    "# tuple - 불변성(immutable)\n",
    "# 오류 발생\n",
    "tpl = (0, 1, 2, 3)\n",
    "print(tpl, id(tpl), id(tpl[0]))\n",
    "tpl[0] = 5"
   ]
  },
  {
   "cell_type": "markdown",
   "id": "7a003aba-2b48-4145-aa09-6ef27ed258d8",
   "metadata": {},
   "source": [
    "### 2. 가변(mutable) 객체 : list, dict, set\n",
    "- 객체가 생성된 후, 변경되거나 수정될 수 없음\n",
    "- 변경 가능한 객체는 변경하기 쉬움"
   ]
  },
  {
   "cell_type": "code",
   "execution_count": 9,
   "id": "12dd8e8a-c811-456b-9aa4-a6a5adb0c0da",
   "metadata": {},
   "outputs": [
    {
     "name": "stdout",
     "output_type": "stream",
     "text": [
      "[500, 600, 700] 2330316377920 2330332119920\n",
      "[5, 600, 700] 2330316377920 140728641858104\n",
      "[5, 600, 700, 800] 2330316377920 140728641858104\n"
     ]
    }
   ],
   "source": [
    "# list - 가변성(mutable)\n",
    "lst = [500, 600, 700]\n",
    "print(lst, id(lst), id(lst[0]))\n",
    "lst[0] = 5\n",
    "print(lst, id(lst), id(lst[0]))\n",
    "\n",
    "lst.append(800)\n",
    "print(lst, id(lst), id(lst[0]))"
   ]
  },
  {
   "cell_type": "code",
   "execution_count": 11,
   "id": "96b7cf48-cfb3-4230-a746-bfcbe45b5a1c",
   "metadata": {},
   "outputs": [
    {
     "name": "stdout",
     "output_type": "stream",
     "text": [
      "[800, 600, 700]\n",
      "[800, 600, 700]\n"
     ]
    }
   ],
   "source": [
    "# list - 가변성(mutable)\n",
    "my_lst = [500, 600, 700]\n",
    "new_lst = my_lst\n",
    "new_lst[0] = 800\n",
    "\n",
    "print(my_lst)\n",
    "print(new_lst)"
   ]
  },
  {
   "cell_type": "code",
   "execution_count": 10,
   "id": "a49eef3c-5c6d-4301-a46c-8669da5dd1bc",
   "metadata": {},
   "outputs": [
    {
     "name": "stdout",
     "output_type": "stream",
     "text": [
      "{'name': 'Ram', 'age': 37}\n",
      "{'name': 'Ram', 'age': 37}\n"
     ]
    }
   ],
   "source": [
    "# dict - 가변성(mutable)\n",
    "my_dict = {\"name\": \"Ram\", \"age\": 25}\n",
    "new_dict = my_dict\n",
    "new_dict[\"age\"] = 37\n",
    "\n",
    "print(my_dict)   \n",
    "print(new_dict)\n"
   ]
  },
  {
   "cell_type": "markdown",
   "id": "63012702-25c0-4dd6-ae57-9ae142d409c3",
   "metadata": {},
   "source": [
    "# LAB :  파이썬에서 Mutable 객체와 Immutable 객체에 대한 이해도 측정 문제"
   ]
  },
  {
   "cell_type": "markdown",
   "id": "6c57c627-7cec-48ef-9f14-fb62d8a069a3",
   "metadata": {},
   "source": [
    "### 문제 1: 리스트와 튜플의 차이\n",
    "다음 코드의 실행 결과를 예상하고 옳은 답을 고르세요.\n",
    "\n",
    "```python\n",
    "a = [1, 2, 3]\n",
    "b = (1, 2, 3)\n",
    "\n",
    "a[0] = 10\n",
    "b[0] = 10\n",
    "```\n",
    "\n",
    "- **①** a와 b 모두 수정된다.\n",
    "- **②** a만 수정되고, b는 오류를 발생시킨다.\n",
    "- **③** a와 b 모두 수정되지 않는다.\n",
    "- **④** a만 수정되고, b는 수정된다."
   ]
  },
  {
   "cell_type": "markdown",
   "id": "adedced9-463e-439e-bc19-61ae0cd249bd",
   "metadata": {},
   "source": [
    "### 문제 2: 딕셔너리의 key 값\n",
    "다음 코드 실행 결과를 예상하고 옳은 답을 고르세요.\n",
    "\n",
    "```python\n",
    "d = {('a', 'b'): 1, 'key': 2}\n",
    "d[('a', 'b')] = 3\n",
    "```\n",
    "\n",
    "- **①** 딕셔너리 d의 모든 값은 3으로 변경된다.\n",
    "- **②** d에서 키 ('a', 'b')의 값이 3으로 변경된다.\n",
    "- **③** 튜플 ('a', 'b')는 변경 불가능하므로 오류가 발생한다.\n",
    "- **④** d에서 ('a', 'b')가 키로 사용될 수 없다."
   ]
  },
  {
   "cell_type": "markdown",
   "id": "27ff5c82-72a3-4723-a748-9baaf242865e",
   "metadata": {},
   "source": [
    "### 문제 3: 객체의 변경 가능성\n",
    "다음 코드 실행 후 a와 b의 값에 대한 질문입니다. 실행 결과로 올바른 답을 고르세요.\n",
    "\n",
    "```python\n",
    "a = [1, 2, 3]\n",
    "b = a\n",
    "a.append(4)\n",
    "```\n",
    "\n",
    "- **①** a와 b 모두 [1, 2, 3, 4]를 출력한다.\n",
    "- **②** a는 [1, 2, 3, 4], b는 [1, 2, 3]을 출력한다.\n",
    "- **③** a는 [1, 2, 3], b는 [1, 2, 3, 4]을 출력한다.\n",
    "- **④** 오류가 발생한다."
   ]
  },
  {
   "cell_type": "markdown",
   "id": "cebbf303-0baf-4743-a82f-7a6b0ec7c94f",
   "metadata": {},
   "source": [
    "### 문제 4: 문자열 수정\n",
    "다음 코드 실행 후 s의 값을 확인할 때, 결과를 예상하고 옳은 답을 고르세요.\n",
    "\n",
    "```python\n",
    "s = \"hello\"\n",
    "s[0] = 'H'\n",
    "```\n",
    "- **①** s는 \"Hello\"로 수정된다.\n",
    "- **②** \"hello\" 문자열을 변경하려고 시도했기 때문에 오류가 발생한다.\n",
    "- **③** s는 여전히 \"hello\"로 남는다.\n",
    "- **④** s는 H로만 변경된다."
   ]
  },
  {
   "cell_type": "markdown",
   "id": "70e6da10-12bf-42f9-bc85-e466e2670fe2",
   "metadata": {},
   "source": [
    "### 문제 5: 가변 자료형\n",
    "다음 중 가변 자료형(mutable)을 모두 고르시오.\n",
    "```\n",
    "int list tuple floar str dict set fronzenset\n",
    "```\n",
    "- (____________________________)"
   ]
  },
  {
   "cell_type": "code",
   "execution_count": null,
   "id": "02564dde-b0df-403a-a5ad-16cfd6340e2b",
   "metadata": {},
   "outputs": [],
   "source": []
  }
 ],
 "metadata": {
  "kernelspec": {
   "display_name": "Python 3 (ipykernel)",
   "language": "python",
   "name": "python3"
  },
  "language_info": {
   "codemirror_mode": {
    "name": "ipython",
    "version": 3
   },
   "file_extension": ".py",
   "mimetype": "text/x-python",
   "name": "python",
   "nbconvert_exporter": "python",
   "pygments_lexer": "ipython3",
   "version": "3.12.7"
  }
 },
 "nbformat": 4,
 "nbformat_minor": 5
}
