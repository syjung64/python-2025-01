{
 "cells": [
  {
   "cell_type": "markdown",
   "id": "b01e6d1b-52c9-45a2-9d29-098603b088bf",
   "metadata": {},
   "source": [
    "# Lecture 1 : 리스트와 튜플"
   ]
  },
  {
   "cell_type": "markdown",
   "id": "be4fa64f-87e0-4bc1-95b9-03485065fd9e",
   "metadata": {},
   "source": [
    "### 1. 리스트\n",
    "- 항목의 모임(collections of items)으로, 항목은 순서가 있는 시퀀스(sequence)\n",
    "- 항목은 원소(element) 또는 요소(item)이라고도 불림\n",
    "- 항목은 모든 유형의 객체(object) 가능\n",
    "- 리스트는 가변(mutable) 객체로 항목은 수정, 추가 또는 삭제 가능\n",
    "  > [ item_1, item_2, ... , item_n]   \n",
    "  > data_list = [1, 2.4, 'py', [1, 2, 3]]\n",
    "\n",
    "### 리스트 관련 내장 함수\n",
    "\n",
    "| **내장함수**            | **설명**                                     | **사용 예**           | **출력(결과)**           |\n",
    "|------------------------|----------------------------------------------|-----------------------|-----------------------|\n",
    "| **list(iterable)**     | 리스트 생성자, iterable로 리스트를 생성하는 함수 | list()                | []                     |\n",
    "|                        |                                              | list(\"python\")        | ['p', 'y', 't', 'h', 'o', 'n'] |\n",
    "|                        |                                              | list((0, 1, 2, 3, 4)) | [0, 1, 2, 3, 4] |\n",
    "|                        |                                              | list({'banana', 'apple', 'graph'}) |['graph', 'banana', 'apple'] |\n",
    "|                        |                                              | list({'JAVA':10, 'C#': 20}) | ['JAVA', 'C#'] |\n",
    "|                        |                                              | list({'JAVA':10, 'C#': 20}.items()) | [('JAVA', 10), ('C#', 20)] |\n",
    "|                        |                                              | list(range(10)) | [0, 1, 2, 3, 4, 5, 6, 7, 8, 9] |\n",
    "| **sum(lst)**          | 리스트의 항목의 합을 반환                       | sum([1, 3, 5, 6])                | 15                 |\n",
    "| **len(lst)**          | 리스트의 항목의 갯수 반환                       | len([1, 3, 5, 6])                | 4                   |\n",
    "| **max(lst)**          | 리스트의 항목 중에서 최댓값 반환                 | max([1, 3, 5, 6])                | 6                   |\n",
    "| **min(lst)**          | 리스트의 항목 중에서 최솟값 반환                 | min([1, 3, 5, 6])                | 1                   |\n",
    "| **sorted(lst)**       | 리스트의 항목을 정렬                            | sorted(['banana', 'apple', 'kiwi'])   | ['apple', 'banana', 'kiwi'] |\n",
    "|                       |                                               | sorted(['banana', 'apple', 'kiwi'],reverse=1) | ['kiwi', 'banana', 'apple'] |\n"
   ]
  },
  {
   "cell_type": "markdown",
   "id": "72553a06-fff2-464a-8a51-fb3406812641",
   "metadata": {},
   "source": [
    "#### LAB-1 : 리스트 관련 내장 함수"
   ]
  },
  {
   "cell_type": "code",
   "execution_count": 31,
   "id": "b612d892-fc44-4c1c-b43b-cabe36656fe7",
   "metadata": {},
   "outputs": [
    {
     "data": {
      "text/plain": [
       "[1, 2.4, 'py', [1, 2, 3]]"
      ]
     },
     "execution_count": 31,
     "metadata": {},
     "output_type": "execute_result"
    }
   ],
   "source": [
    "data_list = [1, 2.4, 'py', [1, 2, 3]]\n",
    "data_list"
   ]
  },
  {
   "cell_type": "code",
   "execution_count": 32,
   "id": "9dd73182-a650-4809-ad84-0f827cdba311",
   "metadata": {},
   "outputs": [
    {
     "data": {
      "text/plain": [
       "[]"
      ]
     },
     "execution_count": 32,
     "metadata": {},
     "output_type": "execute_result"
    }
   ],
   "source": [
    "list()"
   ]
  },
  {
   "cell_type": "code",
   "execution_count": 33,
   "id": "e9591bd2-39a8-4c59-9938-c19b1e0a6e1a",
   "metadata": {},
   "outputs": [
    {
     "data": {
      "text/plain": [
       "['p', 'y', 't', 'h', 'o', 'n']"
      ]
     },
     "execution_count": 33,
     "metadata": {},
     "output_type": "execute_result"
    }
   ],
   "source": [
    "list(\"python\")"
   ]
  },
  {
   "cell_type": "code",
   "execution_count": 34,
   "id": "86c05a51-93ac-4d00-aec8-33773e49d55b",
   "metadata": {},
   "outputs": [
    {
     "data": {
      "text/plain": [
       "[0, 1, 2, 3, 4]"
      ]
     },
     "execution_count": 34,
     "metadata": {},
     "output_type": "execute_result"
    }
   ],
   "source": [
    "list((0, 1, 2, 3, 4))"
   ]
  },
  {
   "cell_type": "code",
   "execution_count": 35,
   "id": "dd621670-ff2e-4909-beca-395f6bc28c47",
   "metadata": {},
   "outputs": [
    {
     "data": {
      "text/plain": [
       "['graph', 'banana', 'apple']"
      ]
     },
     "execution_count": 35,
     "metadata": {},
     "output_type": "execute_result"
    }
   ],
   "source": [
    "list({'banana', 'apple', 'graph'})"
   ]
  },
  {
   "cell_type": "code",
   "execution_count": 36,
   "id": "24bc1678-a77d-41c4-964e-1dd894b0f4fb",
   "metadata": {},
   "outputs": [
    {
     "data": {
      "text/plain": [
       "['JAVA', 'C#']"
      ]
     },
     "execution_count": 36,
     "metadata": {},
     "output_type": "execute_result"
    }
   ],
   "source": [
    "list({'JAVA':10, 'C#': 20})"
   ]
  },
  {
   "cell_type": "code",
   "execution_count": 37,
   "id": "e721fd9f-6773-47a7-8a63-d743459f4721",
   "metadata": {},
   "outputs": [
    {
     "data": {
      "text/plain": [
       "[('JAVA', 10), ('C#', 20)]"
      ]
     },
     "execution_count": 37,
     "metadata": {},
     "output_type": "execute_result"
    }
   ],
   "source": [
    "list({'JAVA':10, 'C#': 20}.items())"
   ]
  },
  {
   "cell_type": "code",
   "execution_count": 38,
   "id": "0996a950-09d7-4096-a066-85be54f7f12a",
   "metadata": {},
   "outputs": [
    {
     "data": {
      "text/plain": [
       "[0, 1, 2, 3, 4, 5, 6, 7, 8, 9]"
      ]
     },
     "execution_count": 38,
     "metadata": {},
     "output_type": "execute_result"
    }
   ],
   "source": [
    "list(range(10))"
   ]
  },
  {
   "cell_type": "code",
   "execution_count": 40,
   "id": "8df728aa-1512-4cf8-8001-2174feda9098",
   "metadata": {},
   "outputs": [
    {
     "data": {
      "text/plain": [
       "15"
      ]
     },
     "execution_count": 40,
     "metadata": {},
     "output_type": "execute_result"
    }
   ],
   "source": [
    "sum([1, 3, 5, 6])"
   ]
  },
  {
   "cell_type": "code",
   "execution_count": 41,
   "id": "a08badc9-7986-4a72-a211-a2491d300712",
   "metadata": {},
   "outputs": [
    {
     "data": {
      "text/plain": [
       "4"
      ]
     },
     "execution_count": 41,
     "metadata": {},
     "output_type": "execute_result"
    }
   ],
   "source": [
    "len([1, 3, 5, 6])"
   ]
  },
  {
   "cell_type": "code",
   "execution_count": 42,
   "id": "ffcc2898-6de6-49cc-a5d4-7f093872d067",
   "metadata": {},
   "outputs": [
    {
     "data": {
      "text/plain": [
       "6"
      ]
     },
     "execution_count": 42,
     "metadata": {},
     "output_type": "execute_result"
    }
   ],
   "source": [
    " max([1, 3, 5, 6])"
   ]
  },
  {
   "cell_type": "code",
   "execution_count": 43,
   "id": "f3784d42-420e-46cd-bd78-ab6ec427b239",
   "metadata": {},
   "outputs": [
    {
     "data": {
      "text/plain": [
       "1"
      ]
     },
     "execution_count": 43,
     "metadata": {},
     "output_type": "execute_result"
    }
   ],
   "source": [
    "min([1, 3, 5, 6])"
   ]
  },
  {
   "cell_type": "code",
   "execution_count": 44,
   "id": "2c87eac1-6d2b-40da-9283-06ae79a6693f",
   "metadata": {},
   "outputs": [
    {
     "data": {
      "text/plain": [
       "['apple', 'banana', 'kiwi']"
      ]
     },
     "execution_count": 44,
     "metadata": {},
     "output_type": "execute_result"
    }
   ],
   "source": [
    "sorted(['banana', 'apple', 'kiwi'])"
   ]
  },
  {
   "cell_type": "code",
   "execution_count": 45,
   "id": "005a4247-d7a9-4af3-aa6c-7b3faf60d1bf",
   "metadata": {},
   "outputs": [
    {
     "data": {
      "text/plain": [
       "['kiwi', 'banana', 'apple']"
      ]
     },
     "execution_count": 45,
     "metadata": {},
     "output_type": "execute_result"
    }
   ],
   "source": [
    "sorted(['banana', 'apple', 'kiwi'],reverse=1)"
   ]
  },
  {
   "cell_type": "markdown",
   "id": "745f43a7-a6bc-4761-8f9d-752ce97108b3",
   "metadata": {},
   "source": [
    "### 2. 리스트 관련 메서드\n",
    "\n",
    "| **리스트 메서드**              | **설명**                              | **사용 예**           | **출력(결과)**           |\n",
    "|-------------------------------|---------------------------------------|-----------------------|-----------------------|\n",
    "| **lst.insert(index, item)**   | 리스트 lst의 첨자 index 앞에 item 추가  | fruits = [] <br> fruits.insert(0, \"apple\") <br> fruits.insert(1, \"banana\") <br> fruits | ['banana', 'apple']  |\n",
    "|                              |                                       | language = ['Python', 'Java', 'C++', 'GO'] <br> language.insert(2, \"JavaScript\") <br> language | ['Python', 'Java', 'JavaScript', 'C++', 'GO']  |\n",
    "| **lst.append(item)**   | 리스트 lst의 맨 뒤에 item 추가  | language = ['Python', 'Java', 'C++', 'GO'] <br> language.append(\"Kotlin\") <br> language | ['Python', 'Java', 'C++', 'GO', 'Kotlin']  |\n",
    "| **lst.remove(item)** | 리스트 lst에서 item 제거|fruits = ['apple', 'banana', 'kiwi'] <br>fruits.remove(\"banana\") <br>fruits | ['apple', 'kiwi'] |\n",
    "| **lst.pop(index)** | 리스트 lst에서 index번째 item 삭제후, item 값 반환 | language = ['Python', 'Java', 'C++', 'GO'] <br>print(language.pop()) <br> print(langusge) | GO <br>['Python', 'Java', 'C++'] |\n",
    "|                              |                                       | language = ['Python', 'Java', 'C++', 'GO'] <br> print(language.pop(1)) <br> print(language) | Java <br> ['Python', 'C++', 'GO']  |\n",
    "| **lst.sort()** | 리스트 lst 항목을 정렬 | language = ['Python', 'Java', 'C++', 'GO'] <br> language.sort() <br>language | ['C++', 'GO', 'Java', 'Python'] |"
   ]
  },
  {
   "cell_type": "markdown",
   "id": "0b2a9be2-ef14-488d-bfaa-41a6261a1c14",
   "metadata": {},
   "source": [
    "#### LAB-2 : 리스트 메서드"
   ]
  },
  {
   "cell_type": "code",
   "execution_count": 21,
   "id": "832efc16-21de-4331-8934-895f774902a9",
   "metadata": {},
   "outputs": [
    {
     "data": {
      "text/plain": [
       "['apple', 'banana']"
      ]
     },
     "execution_count": 21,
     "metadata": {},
     "output_type": "execute_result"
    }
   ],
   "source": [
    "fruits = [] \n",
    "fruits.insert(0, \"apple\") \n",
    "fruits.insert(1, \"banana\")\n",
    "fruits"
   ]
  },
  {
   "cell_type": "code",
   "execution_count": 22,
   "id": "958a8f82-5c16-4ea3-9d99-4c6e545ed28e",
   "metadata": {},
   "outputs": [
    {
     "data": {
      "text/plain": [
       "['Python', 'Java', 'JavaScript', 'C++', 'GO']"
      ]
     },
     "execution_count": 22,
     "metadata": {},
     "output_type": "execute_result"
    }
   ],
   "source": [
    "language = ['Python', 'Java', 'C++', 'GO'] \n",
    "language.insert(2, \"JavaScript\")\n",
    "language"
   ]
  },
  {
   "cell_type": "code",
   "execution_count": 23,
   "id": "37970605-18ab-456c-9f8e-473b60a64367",
   "metadata": {},
   "outputs": [
    {
     "data": {
      "text/plain": [
       "['Python', 'Java', 'C++', 'GO', 'Kotlin']"
      ]
     },
     "execution_count": 23,
     "metadata": {},
     "output_type": "execute_result"
    }
   ],
   "source": [
    "language = ['Python', 'Java', 'C++', 'GO']\n",
    "language.append(\"Kotlin\") \n",
    "language"
   ]
  },
  {
   "cell_type": "code",
   "execution_count": 24,
   "id": "aae241a2-6bf6-47b8-9704-2428de3a5f92",
   "metadata": {},
   "outputs": [
    {
     "data": {
      "text/plain": [
       "['apple', 'kiwi']"
      ]
     },
     "execution_count": 24,
     "metadata": {},
     "output_type": "execute_result"
    }
   ],
   "source": [
    "fruits = ['apple', 'banana', 'kiwi']\n",
    "fruits.remove(\"banana\")\n",
    "fruits"
   ]
  },
  {
   "cell_type": "code",
   "execution_count": 28,
   "id": "c9286422-3c5b-43d4-81fe-4ff4db30b9a3",
   "metadata": {},
   "outputs": [
    {
     "name": "stdout",
     "output_type": "stream",
     "text": [
      "GO\n",
      "['Python', 'Java', 'C++']\n"
     ]
    }
   ],
   "source": [
    "language = ['Python', 'Java', 'C++', 'GO'] \n",
    "print(language.pop())\n",
    "print(language)"
   ]
  },
  {
   "cell_type": "code",
   "execution_count": 30,
   "id": "a4d9ca1a-15c0-4d90-b146-370c427467b9",
   "metadata": {},
   "outputs": [
    {
     "name": "stdout",
     "output_type": "stream",
     "text": [
      "Java\n",
      "['Python', 'C++', 'GO']\n"
     ]
    }
   ],
   "source": [
    "language = ['Python', 'Java', 'C++', 'GO']\n",
    "print(language.pop(1))\n",
    "print(language)"
   ]
  },
  {
   "cell_type": "code",
   "execution_count": 51,
   "id": "5cf1e145-d8f2-49be-ac8a-f76721f9f10d",
   "metadata": {},
   "outputs": [
    {
     "data": {
      "text/plain": [
       "['C++', 'GO', 'Java', 'Python']"
      ]
     },
     "execution_count": 51,
     "metadata": {},
     "output_type": "execute_result"
    }
   ],
   "source": [
    "language = ['Python', 'Java', 'C++', 'GO']\n",
    "language.sort()\n",
    "language"
   ]
  },
  {
   "cell_type": "markdown",
   "id": "c1ffbdd0-901e-442e-8412-248d15c214f5",
   "metadata": {},
   "source": [
    "# LAB 3 : 리스트에서 중복 제거\n",
    "1. 문제 : 다음 숫자 리스트에서 중복을 제거하고, 중복이 제거된 리스트를 오름차순으로 정렬하여 출력하세요.\n",
    "2. 조건 : 딕셔너리, 집합(set) 등 다른 자료형을 사용하지 말고 리스트만 사용\n",
    "3. 입출력\n",
    "- 입력 : numbers = [1, 3, 2, 3, 4, 1, 5]\n",
    "- 출력 : [1, 2, 3, 4, 5]\n",
    "> list.append(), list.sort()"
   ]
  },
  {
   "cell_type": "code",
   "execution_count": null,
   "id": "4534fe0b-543c-4720-978a-07c028644fed",
   "metadata": {},
   "outputs": [],
   "source": [
    "# 코드 예제\n",
    "numbers = [1, 3, 2, 3, 4, 1, 5]\n",
    "\n",
    "unique_numbers = []\n",
    "for num in numbers:\n",
    "    if num not in unique_numbers:  # 리스트에서 중복 확인\n",
    "        unique_numbers.append(num)\n",
    "\n",
    "unique_numbers.sort()  # 오름차순 정렬\n",
    "print(\"중복 제거 및 정렬된 리스트:\", unique_numbers)\n"
   ]
  },
  {
   "cell_type": "markdown",
   "id": "3870dd73-e3a9-442e-b458-56483466f846",
   "metadata": {},
   "source": [
    "# LAB 4 : 문자열 정렬 프로그램 (리스트 활용)\n",
    "1. 문제 : 사용자로부터 여러 문장을 입력받아, 각 문장의 단어를 알파벳 순서로 정렬\n",
    "   - 사용자가 여러 문장을 입력합니다.\n",
    "   - 각 문장의 단어를 알파벳순으로 정렬합니다.\n",
    "   - 정렬된 문장을 출력합니다.\n",
    "2. 조건 : 문자열 메서드와 리스트 메서드를 함께 사용하세요\n",
    "4. 입출력\n",
    "- 입력 :\n",
    "  * 문장 입력: Python is great\n",
    "  * 문장 입력: I love programming\n",
    "  * 문장 입력: (빈 줄 입력 시 종료)\n",
    "- 출력 :\n",
    "  * 정렬된 문장:\n",
    "  * is great Python\n",
    "  * I love programming\n",
    "> str.split(), str.join(), list.sort()"
   ]
  },
  {
   "cell_type": "code",
   "execution_count": 53,
   "id": "ab67207c-41bd-41d8-8ded-ab57fb08ba87",
   "metadata": {},
   "outputs": [
    {
     "name": "stdout",
     "output_type": "stream",
     "text": [
      "여러 문장을 입력하세요. (빈 줄 입력 시 종료)\n"
     ]
    },
    {
     "name": "stdin",
     "output_type": "stream",
     "text": [
      "문장 입력:  Python is great\n",
      "문장 입력:  I love programming\n",
      "문장 입력:  \n"
     ]
    },
    {
     "name": "stdout",
     "output_type": "stream",
     "text": [
      "\n",
      "정렬된 문장:\n",
      "Python great is\n",
      "I love programming\n"
     ]
    }
   ],
   "source": [
    "# 코드\n",
    "sentences = []\n",
    "\n",
    "print(\"여러 문장을 입력하세요. (빈 줄 입력 시 종료)\")\n",
    "while True:\n",
    "    sentence = input(\"문장 입력: \")\n",
    "    if not sentence.strip():\n",
    "        break\n",
    "    sentences.append(sentence)\n",
    "\n",
    "print(\"\\n정렬된 문장:\")\n",
    "for sentence in sentences:\n",
    "    words = sentence.split()  # 문장을 단어 리스트로 변환\n",
    "    words.sort()  # 단어를 알파벳순으로 정렬\n",
    "    sorted_sentence = \" \".join(words)  # 정렬된 단어를 다시 문장으로 변환\n",
    "    print(sorted_sentence)"
   ]
  },
  {
   "cell_type": "markdown",
   "id": "2647730b-0079-4e87-a3c6-7e0bb80c5ef6",
   "metadata": {},
   "source": [
    "### 3. 튜플 (tuple)\n",
    "- 항목의 모임(collections of items)으로, 항목은 순서가 있는 시퀀스(sequence)\n",
    "- 튜플은 항목의 순서나 항목 추가, 삭제가 불가능\n",
    "- 각 항목은 정수, 실수, 문자열, 리스트, 튜플 등 제한이 없음\n",
    "- list보다 빠르게 실행 가능\n",
    "  > ( item_1, item_2, ... , item_n )  # 항목이 하나라도 콤마(,)가 필요 <br>\n",
    "  >  item_1, item_2, ... , item_n     # 괄호는 생략 가능하면, 항목이 하나라도 콤마(,)가 필요\n",
    "\n",
    "### 튜플의 생성(선언) / LAB-5\n",
    "\n",
    "| **사용 예**                                  | **출력(결과)**                  |  **설명**                                   |\n",
    "|----------------------------------------------|--------------------------------|---------------------------------------------|\n",
    "| a = 1 <br> print(a, type(a))                 | 1 <class 'int'>                | 정수 변수 선언, 값과 자료형 출력               |\n",
    "| b = (1) <br> print(b, type(b))               | 1 <class 'int'>                | 정수 변수 선언, 값과 자료형 출력               |\n",
    "| t1 = 1, <br> print(t1, type(t1))             | (1,) <class 'tuple'>           | 튜플 변수 선언, 값과 자료형 출력               |\n",
    "| t2 = (2,) <br> print(t2, type(t2))           | (2,) <class 'tuple'>           | 튜플 변수 선언, 값과 자료형 출력                 |\n",
    "| t3 = ('월', '화', '수') <br> print(t3)        | ('월', '화', '수')           | 튜플 변수 선언, 값과 자료형 출력                 |\n",
    "| t4 = ('월', '화', '수', ) <br> print(t4)      | ('월', '화', '수')           | 튜플 변수 선언, 값과 자료형 출력                 |\n",
    "\n",
    "### 튜플 관련 내장 함수  / LAB-6\n",
    "\n",
    "| **내장함수**            | **설명**                                     | **사용 예**           | **출력(결과)**           |\n",
    "|------------------------|----------------------------------------------|-----------------------|-----------------------|\n",
    "| **tuple(iterable)**     | 튜플 생성자, iterable로 튜플을 생성하는 함수   | tuple()               | ()                     |\n",
    "|                        |                                              | tuple((1, 2))         | (1, 2)                |\n",
    "|                        |                                              | tuple(\"python\")        | ('p', 'y', 't', 'h', 'o', 'n') |\n",
    "|                        |                                              | tuple(range(5))        | (0, 1, 2, 3, 4) |\n",
    "|                        |                                              | tuple({'banana', 'apple', 'graph'})  | ('banana', 'graph', 'apple') |\n",
    "\n",
    "### 튜플 패킹과 언패킹(Packing, Unpackang)  / LAB-7\n",
    "\n",
    "| **사용 예**                                  | **출력(결과)**                  |  **설명**                                   |\n",
    "|----------------------------------------------|--------------------------------|---------------------------------------------|\n",
    "| day = ('월', '화', '수') <br> a, b, c = day <br> print(a, b, c)   | 월 화 수                | 언패킹(unpacking, 압축해제)              |"
   ]
  },
  {
   "cell_type": "markdown",
   "id": "8d3840bb-a15c-4d57-be84-66a1f2b95a97",
   "metadata": {},
   "source": [
    "### LAB-5 튜플의 생성(선언)"
   ]
  },
  {
   "cell_type": "code",
   "execution_count": 8,
   "id": "5a9c31c7-602d-4cac-acb7-11850013e23b",
   "metadata": {},
   "outputs": [
    {
     "name": "stdout",
     "output_type": "stream",
     "text": [
      "1 <class 'int'>\n"
     ]
    }
   ],
   "source": [
    "a = 1\n",
    "print(a, type(a))"
   ]
  },
  {
   "cell_type": "code",
   "execution_count": 9,
   "id": "fc193ff0-6c1c-4d2d-81b7-5850f072d09c",
   "metadata": {},
   "outputs": [
    {
     "name": "stdout",
     "output_type": "stream",
     "text": [
      "1 <class 'int'>\n"
     ]
    }
   ],
   "source": [
    "b = (1) \n",
    "print(b, type(b))"
   ]
  },
  {
   "cell_type": "code",
   "execution_count": 11,
   "id": "0186aac0-465f-4604-a91b-222041d7c83a",
   "metadata": {},
   "outputs": [
    {
     "name": "stdout",
     "output_type": "stream",
     "text": [
      "(1,) <class 'tuple'>\n"
     ]
    }
   ],
   "source": [
    "t1 = 1,\n",
    "print(t1, type(t1)) "
   ]
  },
  {
   "cell_type": "code",
   "execution_count": 12,
   "id": "3b8abb39-65be-4d57-b323-d79e989d9051",
   "metadata": {},
   "outputs": [
    {
     "name": "stdout",
     "output_type": "stream",
     "text": [
      "(2,) <class 'tuple'>\n"
     ]
    }
   ],
   "source": [
    "t2 = (2,)\n",
    "print(t2, type(t2)) "
   ]
  },
  {
   "cell_type": "code",
   "execution_count": 16,
   "id": "33260ebf-3745-43f3-8c65-88d7f5be7ad0",
   "metadata": {},
   "outputs": [
    {
     "name": "stdout",
     "output_type": "stream",
     "text": [
      "('월', '화', '수')\n"
     ]
    }
   ],
   "source": [
    "t3 = ('월', '화', '수') \n",
    "print(t3)"
   ]
  },
  {
   "cell_type": "code",
   "execution_count": 17,
   "id": "87a7d592-4931-486f-ad54-260713a9b286",
   "metadata": {},
   "outputs": [
    {
     "name": "stdout",
     "output_type": "stream",
     "text": [
      "('월', '화', '수')\n"
     ]
    }
   ],
   "source": [
    "t4 = ('월', '화', '수', )\n",
    "print(t4)"
   ]
  },
  {
   "cell_type": "markdown",
   "id": "bddc932c-c0ef-46b6-945a-07656d0bd669",
   "metadata": {},
   "source": [
    "### LAB-6 튜플 내장 함수"
   ]
  },
  {
   "cell_type": "code",
   "execution_count": 2,
   "id": "c35ae432-3584-4030-9883-5ef2e57d7bb7",
   "metadata": {},
   "outputs": [
    {
     "data": {
      "text/plain": [
       "()"
      ]
     },
     "execution_count": 2,
     "metadata": {},
     "output_type": "execute_result"
    }
   ],
   "source": [
    "tuple()"
   ]
  },
  {
   "cell_type": "code",
   "execution_count": 5,
   "id": "77b3f574-7f83-4f94-8d8f-bd7b44d8bad1",
   "metadata": {},
   "outputs": [
    {
     "data": {
      "text/plain": [
       "(1, 2)"
      ]
     },
     "execution_count": 5,
     "metadata": {},
     "output_type": "execute_result"
    }
   ],
   "source": [
    "tuple((1, 2)) "
   ]
  },
  {
   "cell_type": "code",
   "execution_count": 3,
   "id": "55107f69-bd78-4171-a18b-f55f13ffc8b5",
   "metadata": {},
   "outputs": [
    {
     "data": {
      "text/plain": [
       "('p', 'y', 't', 'h', 'o', 'n')"
      ]
     },
     "execution_count": 3,
     "metadata": {},
     "output_type": "execute_result"
    }
   ],
   "source": [
    "tuple(\"python\")"
   ]
  },
  {
   "cell_type": "code",
   "execution_count": 6,
   "id": "e89d6689-90ee-4e0d-a036-21f333182bd9",
   "metadata": {},
   "outputs": [
    {
     "data": {
      "text/plain": [
       "(0, 1, 2, 3, 4)"
      ]
     },
     "execution_count": 6,
     "metadata": {},
     "output_type": "execute_result"
    }
   ],
   "source": [
    "tuple(range(5))"
   ]
  },
  {
   "cell_type": "code",
   "execution_count": 7,
   "id": "7d01e586-4564-4d23-8596-037191164377",
   "metadata": {},
   "outputs": [
    {
     "data": {
      "text/plain": [
       "('banana', 'graph', 'apple')"
      ]
     },
     "execution_count": 7,
     "metadata": {},
     "output_type": "execute_result"
    }
   ],
   "source": [
    "tuple({'banana', 'apple', 'graph'})"
   ]
  },
  {
   "cell_type": "markdown",
   "id": "49f894f3-091d-4c2a-9942-efd3f76fe8b2",
   "metadata": {},
   "source": [
    "### LAB-7 패킹과 언패킹"
   ]
  },
  {
   "cell_type": "code",
   "execution_count": 19,
   "id": "d81daf12-0b5c-4351-9b35-c20ae7be62ea",
   "metadata": {},
   "outputs": [
    {
     "name": "stdout",
     "output_type": "stream",
     "text": [
      "월 화 수\n"
     ]
    }
   ],
   "source": [
    "day = ('월', '화', '수')\n",
    "a, b, c = day\n",
    "print(a, b, c)"
   ]
  },
  {
   "cell_type": "code",
   "execution_count": 24,
   "id": "dd7206d5-f7c5-43d8-8be3-670fb8ff02c1",
   "metadata": {},
   "outputs": [
    {
     "name": "stdout",
     "output_type": "stream",
     "text": [
      "(10, 20) <class 'tuple'>\n",
      "10 20\n"
     ]
    }
   ],
   "source": [
    "def calc(a, b) :\n",
    "    s = a + b\n",
    "    m = a * b\n",
    "\n",
    "    return (a, b)\n",
    "\n",
    "x = calc(10, 20)\n",
    "print(x, type(x))\n",
    "\n",
    "x1, x2 = calc(10, 20)\n",
    "print(x1, x2)"
   ]
  },
  {
   "cell_type": "code",
   "execution_count": null,
   "id": "15ea63b5-907a-432b-8b19-2e41b59070af",
   "metadata": {},
   "outputs": [],
   "source": []
  }
 ],
 "metadata": {
  "kernelspec": {
   "display_name": "Python 3 (ipykernel)",
   "language": "python",
   "name": "python3"
  },
  "language_info": {
   "codemirror_mode": {
    "name": "ipython",
    "version": 3
   },
   "file_extension": ".py",
   "mimetype": "text/x-python",
   "name": "python",
   "nbconvert_exporter": "python",
   "pygments_lexer": "ipython3",
   "version": "3.12.7"
  }
 },
 "nbformat": 4,
 "nbformat_minor": 5
}
