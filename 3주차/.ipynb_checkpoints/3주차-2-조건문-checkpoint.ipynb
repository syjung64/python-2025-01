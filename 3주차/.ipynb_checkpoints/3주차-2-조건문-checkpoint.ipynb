{
 "cells": [
  {
   "cell_type": "markdown",
   "id": "80991b6f-17c0-4306-ab1c-8c084c9cf64a",
   "metadata": {},
   "source": [
    "# Lecture 1 : 조건문\n"
   ]
  },
  {
   "cell_type": "markdown",
   "id": "809d8ef1-89d7-42a7-81cc-db7de8f4e496",
   "metadata": {},
   "source": [
    "#### 1. 조건에 따른 선택 (if - elif - else)\n",
    "\n",
    "```python\n",
    "if condition_1 :\n",
    "        statement_1\n",
    "elif condition_2 :\n",
    "        statement_2\n",
    "elif condition_3 :\n",
    "        statement_3\n",
    "else :\n",
    "        statement_4"
   ]
  },
  {
   "cell_type": "code",
   "execution_count": 4,
   "id": "7baf12ea-efc3-4656-ae79-06e1bcf8a881",
   "metadata": {},
   "outputs": [
    {
     "name": "stdout",
     "output_type": "stream",
     "text": [
      "다음 중 원하는 변환을 선택하시오 : \n",
      "1. 섭씨를 화씨로 변환\n",
      "2. km를 mile로 변환\n",
      "3. pound를 kg로 변환\n"
     ]
    },
    {
     "name": "stdin",
     "output_type": "stream",
     "text": [
      "\n",
      " 원하는 변환 번호를 입력하시오 :  2\n",
      "변환할 값을 입력하시오 :  24\n"
     ]
    },
    {
     "name": "stdout",
     "output_type": "stream",
     "text": [
      "변환 결과 : 14.91\n"
     ]
    }
   ],
   "source": [
    "# 3-6 코딩 (p. 120) : 조건문으로 여러 단위 변환 함수 호출\n",
    "\n",
    "# 섭씨를 화씨로 변환하는 함수\n",
    "def c_to_f(c) :\n",
    "    return ((c * 9/5) + 32)\n",
    "\n",
    "## km를 mile로 변환하는 함수\n",
    "def k_to_m(km) :\n",
    "    return (km * 0.621371)\n",
    "\n",
    "## pound를 kg로 변환하는 함수\n",
    "def p_to_k(p) :\n",
    "    return (p * 0.453592)\n",
    "\n",
    "# 사용자로 부터 함수 선택\n",
    "print('다음 중 원하는 변환을 선택하시오 : ')\n",
    "print('1. 섭씨를 화씨로 변환')\n",
    "print('2. km를 mile로 변환')\n",
    "print('3. pound를 kg로 변환')\n",
    "\n",
    "choice = int(input('\\n 원하는 변환 번호를 입력하시오 : '))\n",
    "\n",
    "# 선택한 함수를 호출하여 결과 출력\n",
    "if 1 <= choice <= 3 :\n",
    "    input_value = int(input('변환할 값을 입력하시오 : '))\n",
    "    result = 0;\n",
    "    if choice == 1 :\n",
    "        result = c_to_f(input_value)\n",
    "    elif choice == 2 :\n",
    "        result = k_to_m(input_value)\n",
    "    elif choice == 3 :\n",
    "        result = p_to_k(input_value)\n",
    "    print(f'변환 결과 : {result:.2f}')\n",
    "else :\n",
    "    print('올바른 번호를 입력하시오.')"
   ]
  },
  {
   "cell_type": "markdown",
   "id": "b07eff2e-820c-4064-858c-826736a7beba",
   "metadata": {},
   "source": [
    "#### 2. 조건에 따른 선택 (한 줄 if 문)\n",
    "\n",
    "```python\n",
    "exp_1 if condition else exp_2   # contion이 True이면 exp_1, False이면 exp_2"
   ]
  },
  {
   "cell_type": "code",
   "execution_count": 6,
   "id": "ba98b033-b353-47b1-b5bc-d5aeeb2cbec9",
   "metadata": {},
   "outputs": [
    {
     "name": "stdin",
     "output_type": "stream",
     "text": [
      "첫 번째 숫자를 입력 :  12\n",
      "두 번째 숫자를 입력 :  2\n"
     ]
    },
    {
     "name": "stdout",
     "output_type": "stream",
     "text": [
      "두 숫자 중 큰 수는 12.0입니다.\n"
     ]
    }
   ],
   "source": [
    "# 3-7 코딩 (p. 124) : 표준 입력 두 수 비교\n",
    "\n",
    "# 사용자로 부터 두 수 입력받기\n",
    "num_1 = float(input(\"첫 번째 숫자를 입력 : \"))\n",
    "num_2 = float(input(\"두 번째 숫자를 입력 : \"))\n",
    "\n",
    "# 큰 수를 비교하여 출력\n",
    "result = num_1 if num_1 > num_2 else num_2\n",
    "print(f'두 숫자 중 큰 수는 {result}입니다.')"
   ]
  },
  {
   "cell_type": "markdown",
   "id": "b9cf81aa-1717-4fb4-99df-e7bcd4901a5e",
   "metadata": {},
   "source": [
    "### LAB-1\n",
    "- 사용자로 부터 3개의 수 입력받아 가장 큰 수를 출력하시오.\n",
    "- if 조건문(if - elif - else)을 활용하시오."
   ]
  },
  {
   "cell_type": "code",
   "execution_count": 7,
   "id": "d1a7df16-669f-4ce8-bb20-598484a8e27a",
   "metadata": {},
   "outputs": [],
   "source": [
    "#\n",
    "#\n",
    "#"
   ]
  },
  {
   "cell_type": "markdown",
   "id": "7bd7948f-fad1-40f3-8fc0-eac6b651bf0c",
   "metadata": {},
   "source": [
    "### LAB-2\n",
    "- 사용자로 부터 3개의 수 입력받아 가장 큰 수를 출력하시오.\n",
    "- if 조건문(한 줄 if)을 활용하시오."
   ]
  },
  {
   "cell_type": "code",
   "execution_count": 9,
   "id": "58cbff3e-6042-48bb-8c5c-ddfb27f6130a",
   "metadata": {},
   "outputs": [],
   "source": [
    "#\n",
    "#\n",
    "#"
   ]
  },
  {
   "cell_type": "markdown",
   "id": "25f82388-1d86-4ea1-a8d9-dd0b5fbd7f5e",
   "metadata": {},
   "source": [
    "### LAB-3\n",
    "- 사용자로 부터 3개의 수 입력받아 가장 큰 수를 출력하시오.\n",
    "- if 조건문(한 줄 if)을 활용하시오.\n",
    "- 가장 큰 수를 찾는 함수 my_max()를 정의하여 사용하세요."
   ]
  },
  {
   "cell_type": "code",
   "execution_count": 11,
   "id": "1727cbcd-3a96-4777-9bef-c1e62370b6a2",
   "metadata": {},
   "outputs": [
    {
     "name": "stdin",
     "output_type": "stream",
     "text": [
      "첫 번째 숫자를 입력 :  1\n",
      "두 번째 숫자를 입력 :  2\n",
      "세 번째 숫자를 입력 :  3\n"
     ]
    },
    {
     "name": "stdout",
     "output_type": "stream",
     "text": [
      "3.0\n"
     ]
    }
   ],
   "source": [
    "###\n",
    "def my_max(n1, n2, n3) :\n",
    "    m = n1 if n1 > n2 else n2\n",
    "    r = m if m > n3 else n3\n",
    "    return r\n",
    "\n",
    "num_1 = float(input(\"첫 번째 숫자를 입력 : \"))\n",
    "num_2 = float(input(\"두 번째 숫자를 입력 : \"))\n",
    "num_3 = float(input(\"세 번째 숫자를 입력 : \"))\n",
    "\n",
    "result = my_max(num_1, num_2, num_3)\n",
    "print(result)"
   ]
  },
  {
   "cell_type": "code",
   "execution_count": null,
   "id": "f94e0f51-1f6c-4f5d-b934-ee9ee70004eb",
   "metadata": {},
   "outputs": [],
   "source": []
  }
 ],
 "metadata": {
  "kernelspec": {
   "display_name": "Python 3 (ipykernel)",
   "language": "python",
   "name": "python3"
  },
  "language_info": {
   "codemirror_mode": {
    "name": "ipython",
    "version": 3
   },
   "file_extension": ".py",
   "mimetype": "text/x-python",
   "name": "python",
   "nbconvert_exporter": "python",
   "pygments_lexer": "ipython3",
   "version": "3.12.7"
  }
 },
 "nbformat": 4,
 "nbformat_minor": 5
}
