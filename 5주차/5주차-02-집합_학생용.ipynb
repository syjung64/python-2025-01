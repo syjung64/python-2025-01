{
 "cells": [
  {
   "cell_type": "markdown",
   "id": "1488e5c3-1d89-4a7a-ac54-663dc3e65712",
   "metadata": {},
   "source": [
    "# Lecture 1 : 증복과 순서가 없는 집합"
   ]
  },
  {
   "cell_type": "markdown",
   "id": "8974c5bb-4631-4cce-9cb2-bcafb7e41ef3",
   "metadata": {},
   "source": [
    "### 1. 집합(Set)의 이해\n",
    "- 원소는 유일하고 순서는 의미 없는 집합\n",
    "- 집합의 원소는 정수, 실수, 문자열, 튜플 등 수정 불가능한(immutable) 것이어야 함\n",
    "  > { element-0, element-1, ... , element-n}\n",
    "\n",
    "### 집합(set) 생성과 참조 / LAB-1\n",
    "| **번호** | **사용 예**                                | **출력(결과)**                                  |  **설  명**                    |\n",
    "|---|--------------------------------------------------|------------------------------------------------|---------------------------------|\n",
    "| 1 | num_set = {1, 1, 2, 2, 3,4, 4, 5}                |                                                |                                 |\n",
    "|   | print(num_set)                                   | {}                                             |  원소는 유일함                   |\n",
    "| 2 | tpl_set = {(1, 1), (2, 4), (3, 9)}               |                                               |                                 |\n",
    "|   | print(tpl_set)                                   | {(1, 1), (3, 9), (2, 4)}                       |  튜플을 원소로 집합 생성          |\n",
    "| 3 | s1 = {[1, 1], [2, 4], [3, 9]}                    |                                               |                                 |\n",
    "|   | print(s1)                                        | unhashable type: 'list'                       |  수정 불가능한(immutable) 객체만 원소로 가능 |\n",
    "| 4 | s = set()                                        |                                               |                                 |\n",
    "|   | print(s)                                         | set()                                         |  공집합 만들기                   |\n",
    "| 5 | s = set([1, 2, 3])                               |                                               |                                 |\n",
    "|   | print(s)                                         | {1, 2, 3}                                     |  리스트로 집합 만들기             |\n",
    "| 6 | s = set('java')                                  |                                               |                                 |\n",
    "|   | print(s)                                         | {'j', 'v', 'a'}                               |  문자열로 집합 만들기             |\n",
    "| 7 | s = set(range(5))                                |                                               |                                 |\n",
    "|   | print(s)                                         | {0, 1, 2, 3, 4}                               |  문자열로 집합 만들기             |\n",
    "| 8 | for c in set('java') :                           |                                               |                                 |\n",
    "|   |    print(c, end=' ')                             | {'j', 'v', 'a'}                               |  집합 원소 출력                  |"
   ]
  },
  {
   "cell_type": "markdown",
   "id": "0915d20d-e491-46cb-b3ae-a40add4c7a3e",
   "metadata": {},
   "source": [
    "### LAB-1 집합 생성과 참조"
   ]
  },
  {
   "cell_type": "code",
   "execution_count": null,
   "id": "daea99cc-d778-4fe0-b705-d5e7c9fd07eb",
   "metadata": {},
   "outputs": [],
   "source": [
    "num_set = {1, 1, 2, 2, 3,4, 4, 5}\n",
    "print(num_set)"
   ]
  },
  {
   "cell_type": "code",
   "execution_count": null,
   "id": "3b4c9d48-2863-4d34-93c6-9091ea531b9f",
   "metadata": {},
   "outputs": [],
   "source": [
    "tpl_set = {(1, 1), (2, 4), (3, 9)}\n",
    "print(tpl_set) "
   ]
  },
  {
   "cell_type": "code",
   "execution_count": null,
   "id": "18e95fc8-08c0-41b6-b41c-f985798905e4",
   "metadata": {
    "scrolled": true
   },
   "outputs": [],
   "source": [
    "s1 = {[1, 1], [2, 4], [3, 9]}\n",
    "print(s1)"
   ]
  },
  {
   "cell_type": "code",
   "execution_count": null,
   "id": "1aadb8d8-a8a7-4b42-a5ef-ed2f1d263f6f",
   "metadata": {},
   "outputs": [],
   "source": [
    "s = set()\n",
    "print(s)"
   ]
  },
  {
   "cell_type": "code",
   "execution_count": null,
   "id": "d9a193c4-3ed6-4a0b-b6ae-1f7faf7a67a9",
   "metadata": {},
   "outputs": [],
   "source": [
    "s = set([1, 2, 3])\n",
    "print(s)"
   ]
  },
  {
   "cell_type": "code",
   "execution_count": null,
   "id": "fc7abc68-1f8b-4414-b19c-429960253b93",
   "metadata": {},
   "outputs": [],
   "source": [
    "s = set('java')\n",
    "print(s)"
   ]
  },
  {
   "cell_type": "code",
   "execution_count": null,
   "id": "36605782-d5e9-44c8-a6fb-e12ae12d6313",
   "metadata": {},
   "outputs": [],
   "source": [
    "s = set(range(5))\n",
    "print(s)"
   ]
  },
  {
   "cell_type": "code",
   "execution_count": null,
   "id": "81ed761f-6da2-4b67-aed4-05e28115825e",
   "metadata": {},
   "outputs": [],
   "source": [
    "for c in set('java') :\n",
    "    print(c, end=' ')"
   ]
  },
  {
   "cell_type": "markdown",
   "id": "3a89605a-712f-4a37-a1c5-5e8ad717512f",
   "metadata": {},
   "source": [
    "### 2. 집합(set) 관련 메서드 / LAB-2\n",
    "\n",
    "| **번호** | **사용 예**                                | **출력(결과)**                                  |  **설  명**                    |\n",
    "|---|--------------------------------------------------|------------------------------------------------|---------------------------------|\n",
    "| 1 | p1 = {'python', 'kotlin'}                        |                                                |                                 |\n",
    "|   | len(p1)                                          | 2                                              | 집합 p1의 원소 수                |\n",
    "| 2 | p1 = {'python', 'kotlin'}                        |                                                |                                 |\n",
    "|   | 'python' in p1                                   | True                                           | 집합 p1에 원소 'python'이 있느냐? |\n",
    "| 3 | odd = {1, 3, 5}                                  |                                                |                                 |\n",
    "|   | odd.add(7)                                       |                                                | 집합 odd에 원소 7 추가           |\n",
    "|   | print(odd)                                       | {1, 3, 5, 7}                                   |                                 |\n",
    "| 4 | odd = {1, 3, 5}                                  |                                                |                                 |\n",
    "|   | odd.remove(3)                                    |                                                | 집합 odd에서 원소 3 제거          |\n",
    "|   | print(odd)                                       | {1, 5}                                         |                                 |\n",
    "| 5 | odd = {1, 3, 5}                                  |                                                |                                 |\n",
    "|   | odd.pop()                                        |                                                | 집합 odd에서 임의의 원소 제거     |\n",
    "|   | print(odd)                                       | {3, 5}                                         |                                 |\n",
    "| 6 | s1 = {1, 2, 3}                                   |                                                |                                 |\n",
    "|   | s2 = s1                                          |                                                | 동일 객체 공유                   |\n",
    "|   | print(id(s1), id(s2))                            | 2952276645632 2952276645632                    | 객체의 주소 값 출력 (동일)       |\n",
    "| 7 | s1 = {1, 2, 3}                                   |                                                |                                 |\n",
    "|   | s2 = s1.copy()                                   |                                                | 객체 복사본 생성                  |\n",
    "|   | print(id(s1), id(s2))                            | 2952276644512 2952276648544                    | 객체의 주소 값 출력 (다름)         |\n",
    "| 8 | a = {1, 2, 3}                                    |                                                |                                 |\n",
    "|   | b = {2, 3, 4}                                    |                                                |                                |\n",
    "|   | print(a | b)                                     | {1, 2, 3, 4}                                   | 집함 a와 집합 b의 합집합         |\n",
    "|   | print(a.union(b))                                | {1, 2, 3, 4}                                   | 집함 a와 집합 b의 합집합         |\n",
    "| 9 | a = {1, 2, 3}                                    |                                                |                                 |\n",
    "|   | b = {2, 3, 4}                                    |                                                |                                |\n",
    "|   | print(a - b)                                     | {1}                                            | 집함 a와 집합 b의 차집합         |\n",
    "|   | print(a.difference(b))                           | {1}                                            | 집함 a와 집합 b의 차집합         |\n",
    "|10 | a = {1, 2, 3}                                    |                                                |                                 |\n",
    "|   | b = {2, 3, 4}                                    |                                                |                                |\n",
    "|   | print(a & b)                                     | {2, 3}                                         | 집함 a와 집합 b의 교집합         |\n",
    "|   | print(a.intersection(b))                         | {2, 3}                                         | 집함 a와 집합 b의 교집합         |\n",
    "\n"
   ]
  },
  {
   "cell_type": "markdown",
   "id": "37724aee-8970-4fa8-8df0-dc13901b6563",
   "metadata": {},
   "source": [
    "### LAB-2 집합(set) 관련 메서드"
   ]
  },
  {
   "cell_type": "code",
   "execution_count": null,
   "id": "130151e4-1dad-4354-8117-4abcbdde3458",
   "metadata": {},
   "outputs": [],
   "source": [
    "p1 = {'python', 'kotlin'}\n",
    "len(p1)"
   ]
  },
  {
   "cell_type": "code",
   "execution_count": null,
   "id": "58207263-acd6-4c02-bdf7-076362e640b7",
   "metadata": {},
   "outputs": [],
   "source": [
    "p1 = {'python', 'kotlin'}\n",
    "'python' in p1"
   ]
  },
  {
   "cell_type": "code",
   "execution_count": null,
   "id": "e658c1ee-74c4-40eb-b04c-a802d5f4fb8b",
   "metadata": {},
   "outputs": [],
   "source": [
    "odd = {1, 3, 5}\n",
    "odd.add(7)\n",
    "print(odd)"
   ]
  },
  {
   "cell_type": "code",
   "execution_count": null,
   "id": "79d69385-ce9b-4759-b651-c96c42b9d392",
   "metadata": {},
   "outputs": [],
   "source": [
    "odd = {1, 3, 5}\n",
    "odd.remove(3)\n",
    "print(odd)"
   ]
  },
  {
   "cell_type": "code",
   "execution_count": null,
   "id": "681a8596-d38d-44d4-a617-d7f1cfce2757",
   "metadata": {},
   "outputs": [],
   "source": [
    "odd = {1, 3, 5}\n",
    "odd.pop()\n",
    "print(odd)"
   ]
  },
  {
   "cell_type": "code",
   "execution_count": null,
   "id": "1da54845-0f6e-4ea4-a73d-d7e32d227bff",
   "metadata": {},
   "outputs": [],
   "source": [
    "s1 = {1, 2, 3} \n",
    "s2 = s1 \n",
    "print(id(s1), id(s2))"
   ]
  },
  {
   "cell_type": "code",
   "execution_count": null,
   "id": "8510120f-cfc8-4fa3-9275-ccf5fa843412",
   "metadata": {},
   "outputs": [],
   "source": [
    "s1 = {1, 2, 3} \n",
    "s2 = s1.copy()\n",
    "print(id(s1), id(s2))"
   ]
  },
  {
   "cell_type": "code",
   "execution_count": null,
   "id": "dd70b324-73ac-48d3-a22a-73240919689f",
   "metadata": {},
   "outputs": [],
   "source": [
    "a = {1, 2, 3} \n",
    "b = {2, 3, 4}\n",
    "print(a | b)\n",
    "print(a.union(b))"
   ]
  },
  {
   "cell_type": "code",
   "execution_count": null,
   "id": "98fc229f-38c6-428a-a0d3-aef497a1aa09",
   "metadata": {},
   "outputs": [],
   "source": [
    "a = {1, 2, 3} \n",
    "b = {2, 3, 4}\n",
    "print(a - b)\n",
    "print(a.difference(b)) "
   ]
  },
  {
   "cell_type": "code",
   "execution_count": null,
   "id": "b3dec8d8-d81e-4ee8-ab9a-90a9f297caff",
   "metadata": {},
   "outputs": [],
   "source": [
    "a = {1, 2, 3} \n",
    "b = {2, 3, 4}\n",
    "print(a & b)\n",
    "print(a.intersection(b)) "
   ]
  },
  {
   "cell_type": "markdown",
   "id": "09befb2d-08aa-4605-b90f-6be5f054c632",
   "metadata": {},
   "source": [
    "### LAB-3 집합(set)을 활용한 수행과제"
   ]
  },
  {
   "cell_type": "markdown",
   "id": "5886487b-d6e5-4be8-9be8-429c09a2366d",
   "metadata": {},
   "source": [
    "1. 문제 : 고객 이메일 중복 제거\n",
    "- 다음과 같은 이메일 리스트가 주어졌을 때, 중복을 제거하고 정렬된 리스트를 반환하는 프로그램을 작성하세요.\n",
    "```python\n",
    "emails = [\n",
    "    \"alice@example.com\", \"bob@example.com\", \"alice@example.com\",\n",
    "    \"charlie@example.com\", \"dave@example.com\", \"bob@example.com\",\n",
    "    \"eve@example.com\", \"frank@example.com\"\n",
    "]\n",
    "```\n",
    "\n",
    "2. 요구사항:\n",
    "- 중복을 제거하세요.\n",
    "- 이메일을 알파벳 순서로 정렬하여 리스트로 반환하세요.\n"
   ]
  },
  {
   "cell_type": "code",
   "execution_count": null,
   "id": "3bfe9f65-d85a-4d3b-a82e-0205abe95ee0",
   "metadata": {},
   "outputs": [],
   "source": [
    "emails = [\n",
    "    \"alice@example.com\", \"bob@example.com\", \"alice@example.com\",\n",
    "    \"charlie@example.com\", \"dave@example.com\", \"bob@example.com\",\n",
    "    \"eve@example.com\", \"frank@example.com\"\n",
    "]\n",
    "\n",
    "# 코딩하세요\n",
    "#\n",
    "#\n",
    "print(unique_emails)"
   ]
  },
  {
   "cell_type": "markdown",
   "id": "6523adcf-9389-4d43-9809-2ab05b4fa1dd",
   "metadata": {},
   "source": [
    "### LAB-4 집합(set)을 활용한 수행과제"
   ]
  },
  {
   "cell_type": "markdown",
   "id": "246bc112-7996-4679-a74d-e975d61e1c16",
   "metadata": {},
   "source": [
    "1. 문제 : 보안 시스템 - 허용된 IP vs 차단된 IP\n",
    "- 한 회사의 네트워크 보안 시스템에서 특정 IP 주소 목록을 허용하고, 특정 IP는 차단해야 합니다.\n",
    "- 다음과 같은 IP 주소 목록이 있습니다.\n",
    "```python\n",
    "allowed_ips = {\"192.168.1.1\", \"192.168.1.2\", \"192.168.1.3\", \"192.168.1.4\"}\n",
    "blocked_ips = {\"192.168.1.3\", \"192.168.1.5\"}\n",
    "```\n",
    "- 현재 접속을 시도하는 IP 리스트\n",
    "```python\n",
    "current_access_ips = {\"192.168.1.1\", \"192.168.1.3\", \"192.168.1.5\", \"192.168.1.6\"}\n",
    "```\n",
    "\n",
    "2. 요구사항:\n",
    "- 허용된 IP 중에서 실제 접속 가능한 IP 목록을 출력하세요.\n",
    "- 차단된 IP 목록을 출력하세요.\n",
    "- 접속 시도했으나 목록에 없는 IP(미등록 IP)를 출력하세요.\n"
   ]
  },
  {
   "cell_type": "code",
   "execution_count": null,
   "id": "8148cadd-4c8f-4689-8208-f8d89f17d490",
   "metadata": {},
   "outputs": [],
   "source": [
    "allowed_ips = {\"192.168.1.1\", \"192.168.1.2\", \"192.168.1.3\", \"192.168.1.4\"}\n",
    "blocked_ips = {\"192.168.1.3\", \"192.168.1.5\"}\n",
    "current_access_ips = {\"192.168.1.1\", \"192.168.1.3\", \"192.168.1.5\", \"192.168.1.6\"}\n",
    "\n",
    "# 코딩하세요\n",
    "#\n",
    "#\n",
    "#\n",
    "\n",
    "print(\"✅ 접속 허용된 IP:\")\n",
    "print(accessible_ips)\n",
    "\n",
    "print(\"\\n⛔ 차단된 IP:\")\n",
    "print(denied_ips)\n",
    "\n",
    "print(\"\\n⚠️ 미등록 IP:\")\n",
    "print(unregistered_ips)"
   ]
  }
 ],
 "metadata": {
  "kernelspec": {
   "display_name": "Python 3 (ipykernel)",
   "language": "python",
   "name": "python3"
  },
  "language_info": {
   "codemirror_mode": {
    "name": "ipython",
    "version": 3
   },
   "file_extension": ".py",
   "mimetype": "text/x-python",
   "name": "python",
   "nbconvert_exporter": "python",
   "pygments_lexer": "ipython3",
   "version": "3.12.7"
  }
 },
 "nbformat": 4,
 "nbformat_minor": 5
}
