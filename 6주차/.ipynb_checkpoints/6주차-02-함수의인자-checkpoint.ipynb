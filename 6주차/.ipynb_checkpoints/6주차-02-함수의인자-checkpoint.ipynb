{
 "cells": [
  {
   "cell_type": "markdown",
   "id": "32480693-4e58-4ff2-bd0e-3d6947568af4",
   "metadata": {},
   "source": [
    "# Lecture 1 : 함수의 인자"
   ]
  },
  {
   "cell_type": "markdown",
   "id": "1666fb03-71e3-448d-965e-02ed3edbff30",
   "metadata": {},
   "source": [
    "### 1. 인자의 기본값 사용\n",
    "- 함수의 인자 값이 지정되지 않을 경우, 기본값으로 지정하여 사용 가능\n",
    "- 인자의 기본값이 지정되는 매개 변수는 뒤에 위치해야 함 \n",
    "  > def **greet(name, message='안녕')** :  <br>\n",
    "  > &nbsp;&nbsp;&nbsp;print(name, message) <br>\n",
    "  > <br>\n",
    "  > **greet('철수', '잘 있지~~')** <br>\n",
    "  > **greet('영희')**"
   ]
  },
  {
   "cell_type": "code",
   "execution_count": 4,
   "id": "ffc951d5-67df-4248-843b-ecac92ca40cc",
   "metadata": {},
   "outputs": [
    {
     "name": "stdout",
     "output_type": "stream",
     "text": [
      "철수 잘 있지~~\n",
      "영희 안녕\n"
     ]
    }
   ],
   "source": [
    "# \n",
    "#\n",
    "def greet(name, message='안녕') :   # 두번쨰 인자 값이 지정되지 않을 경우는 기본값으로 '안녕' 사용(두번쨰 인자 생략가능)\n",
    "    print(name, message)\n",
    "\n",
    "greet('철수', '잘 있지~~')          # 첫번째 인자, 두번쨰 인자 값을 지정하여 함수 호출\n",
    "greet('영희')                       # 첫번째 인자 값만 지정하여 함수 호출"
   ]
  },
  {
   "cell_type": "code",
   "execution_count": 6,
   "id": "89d09b56-4a9d-4046-87eb-283328da397a",
   "metadata": {
    "collapsed": true,
    "jupyter": {
     "outputs_hidden": true
    },
    "scrolled": true
   },
   "outputs": [
    {
     "ename": "SyntaxError",
     "evalue": "parameter without a default follows parameter with a default (1358315605.py, line 3)",
     "output_type": "error",
     "traceback": [
      "\u001b[1;36m  Cell \u001b[1;32mIn[6], line 3\u001b[1;36m\u001b[0m\n\u001b[1;33m    def greet(name='동양', message) :   # (오류) 인자의 기본값이 지정되는 매개 변수는 뒤에 위치해야 함\u001b[0m\n\u001b[1;37m                         ^\u001b[0m\n\u001b[1;31mSyntaxError\u001b[0m\u001b[1;31m:\u001b[0m parameter without a default follows parameter with a default\n"
     ]
    }
   ],
   "source": [
    "# \n",
    "#\n",
    "def greet(name='동양', message) :   # (오류) 인자의 기본값이 지정되는 매개 변수는 뒤에 위치해야 함\n",
    "    print(name, message)\n",
    "\n",
    "greet('잘 있지~~')"
   ]
  },
  {
   "cell_type": "markdown",
   "id": "3ad7c1db-95dd-495a-b0b4-a3bffe035168",
   "metadata": {},
   "source": [
    "### 2. 인자의 기본값은 오직 한 번만 사용\n",
    "- 인자의 기본값은 첫 함수 호출 시 오직 한 번만 지정됨\n",
    "  > def **default_arg(a, obj=[])** :  <br>\n",
    "  > &nbsp;&nbsp;&nbsp;obj.append(a) <br>\n",
    "  > &nbsp;&nbsp;&nbsp;return obj<br>\n",
    "  > <br>\n",
    "  > **default_arg(1)** <br>\n",
    "  > **default_arg(2)** <br>\n",
    "  > **default_arg(3)** <br>"
   ]
  },
  {
   "cell_type": "code",
   "execution_count": 9,
   "id": "73a53017-ead9-4ccd-935c-b2db91c43a13",
   "metadata": {},
   "outputs": [
    {
     "name": "stdout",
     "output_type": "stream",
     "text": [
      "[1]\n",
      "[1, 2]\n",
      "[1, 2, 3]\n"
     ]
    }
   ],
   "source": [
    "# 튜플 obj=[]는 첫번쨰 함수 호출시 한 번만 지정됨\n",
    "# 연속된 호출 간에 기본값이 공유됨\n",
    "def default_arg(a, obj=[]) :\n",
    "    obj.append(a)\n",
    "    return obj\n",
    "\n",
    "print(default_arg(1))\n",
    "print(default_arg(2))\n",
    "print(default_arg(3))"
   ]
  },
  {
   "cell_type": "code",
   "execution_count": 10,
   "id": "fb6c1228-202c-49f1-851d-27311a466d5a",
   "metadata": {},
   "outputs": [
    {
     "name": "stdout",
     "output_type": "stream",
     "text": [
      "[1]\n",
      "[2]\n",
      "[3]\n"
     ]
    }
   ],
   "source": [
    "# 연속된 호출 간에 기본값을 공유하지 않으려면 \n",
    "# (1) 함수 헤더에서 obj=None을 지정\n",
    "# (2) 함수 호출시마다 매번 새로운 목록 생성\n",
    "\n",
    "def default_arg(a, obj=None) :\n",
    "    if obj is None :\n",
    "        obj = []\n",
    "    obj.append(a)\n",
    "    return obj\n",
    "\n",
    "print(default_arg(1))\n",
    "print(default_arg(2))\n",
    "print(default_arg(3))"
   ]
  },
  {
   "cell_type": "markdown",
   "id": "6207226b-3e69-40b9-b7f9-1dcda85f5d98",
   "metadata": {},
   "source": [
    "### 3. 함수 값의 반환\n",
    "- 파이썬 함수는 여러개의 값을 반환 가능 (튜플 값으로 묶어 반환)\n",
    "  > def **getprime()** :  <br>\n",
    "  > &nbsp;&nbsp;&nbsp;return 2, 3, 5, 7<br>\n",
    "  > <br>\n",
    "  > **a, b, c, d = getprime()** <br>\n",
    "  > **prime = getprime()** <br>\n"
   ]
  },
  {
   "cell_type": "code",
   "execution_count": 14,
   "id": "5fdad257-0cff-4cea-9f9a-cae66e493a09",
   "metadata": {},
   "outputs": [
    {
     "name": "stdout",
     "output_type": "stream",
     "text": [
      "2 3 5 7\n"
     ]
    }
   ],
   "source": [
    "def getprime() :\n",
    "   return 2, 3, 5, 7     # 4개 값을 튜플로 묶어 반환함\n",
    "\n",
    "a, b, c, d = getprime()  # 4개의 값을 변수 a, b, c, d로 받음\n",
    "print(a, b, c, d)"
   ]
  },
  {
   "cell_type": "code",
   "execution_count": 15,
   "id": "4adb93cb-9c2f-4d4c-b4cc-b10440434c96",
   "metadata": {},
   "outputs": [
    {
     "name": "stdout",
     "output_type": "stream",
     "text": [
      "2 3 5 7\n"
     ]
    }
   ],
   "source": [
    "def getprime() :\n",
    "   return 2, 3, 5, 7     # 4개 값을 튜플로 묶어 반환함\n",
    "\n",
    "prime = getprime()  # 4개의 값을 튜플로 받음\n",
    "print(prime[0], prime[1], prime[2], prime[3])"
   ]
  },
  {
   "cell_type": "markdown",
   "id": "856ec74e-9831-4814-8f5e-d33f0166dabb",
   "metadata": {},
   "source": [
    " ### 4. 매개변수로 함수 사용\n",
    "- 파이썬 함수는 여러개의 값을 반환 가능 (튜플 값으로 묶어 반환)\n",
    "  > def **my_apply(func, x, y)** :  <br>\n",
    "  > &nbsp;&nbsp;&nbsp;return func(x, y)<br>\n",
    "  > <br>\n",
    "  > def **my_add(a, b)** :  <br>\n",
    "  > &nbsp;&nbsp;&nbsp;return a+b<br>\n",
    "  > <br>\n",
    "  > def **my_mult(a, b)** :  <br>\n",
    "  > &nbsp;&nbsp;&nbsp;return a*b<br>\n",
    "  > <br>\n",
    "  > my_apply(my_add, 3, 5) <br>\n",
    "  > my_apply(my_mult, 3, 5) <br>"
   ]
  },
  {
   "cell_type": "code",
   "execution_count": 17,
   "id": "4d2fa908-a89d-4910-94fd-367adc348f5a",
   "metadata": {},
   "outputs": [
    {
     "name": "stdout",
     "output_type": "stream",
     "text": [
      "8\n",
      "15\n"
     ]
    }
   ],
   "source": [
    "def my_apply(func, x, y) :\n",
    "   return func(x, y)\n",
    "\n",
    "def my_add(a, b) :\n",
    "   return a+b\n",
    "\n",
    "def my_mult(a, b) :\n",
    "   return a*b\n",
    "\n",
    "print(my_apply(my_add, 3, 5))\n",
    "print(my_apply(my_mult, 3, 5))"
   ]
  },
  {
   "cell_type": "code",
   "execution_count": null,
   "id": "781ec78e-3a7d-484b-aafc-764ff2a7069b",
   "metadata": {},
   "outputs": [],
   "source": []
  }
 ],
 "metadata": {
  "kernelspec": {
   "display_name": "Python 3 (ipykernel)",
   "language": "python",
   "name": "python3"
  },
  "language_info": {
   "codemirror_mode": {
    "name": "ipython",
    "version": 3
   },
   "file_extension": ".py",
   "mimetype": "text/x-python",
   "name": "python",
   "nbconvert_exporter": "python",
   "pygments_lexer": "ipython3",
   "version": "3.12.7"
  }
 },
 "nbformat": 4,
 "nbformat_minor": 5
}
