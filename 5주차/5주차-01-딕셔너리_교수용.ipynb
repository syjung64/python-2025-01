{
 "cells": [
  {
   "cell_type": "markdown",
   "id": "1488e5c3-1d89-4a7a-ac54-663dc3e65712",
   "metadata": {},
   "source": [
    "# Lecture 1 : 키와 값의 쌍인 딕셔너리"
   ]
  },
  {
   "cell_type": "markdown",
   "id": "8974c5bb-4631-4cce-9cb2-bcafb7e41ef3",
   "metadata": {},
   "source": [
    "### 1. 딕셔너리의 이해\n",
    "- 사전과 같이 키(key)와 값(value)의 쌍인 항목의 모임(collection)\n",
    "- 키는 수정될 수 없고, 값은 수정 가능\n",
    "- 항목의 순서는 의미 없고, 키는 중복 불가\n",
    "  > { key-1: value-1, key-2: value-2, ..., key-n: value-n }\n",
    "- 키(key)는 수정 불가능한(immutable) 객체만 가능\n",
    "  > dict.keys()\n",
    "- 값(value)은 모든 자료형 가능\n",
    "  > dict.values()\n",
    "\n",
    "### 딕셔너리 생성과 참조 / LAB-1\n",
    "| **번호** | **사용 예**                                | **출력(결과)**                                  |  **설  명**                    |\n",
    "|---|--------------------------------------------------|------------------------------------------------|---------------------------------|\n",
    "| 1 | my_car = {}                                      |                                                |                                 |\n",
    "|   | print(my_car)                                    | {}                                             |  빈 딕셔너리 생성                 |\n",
    "| 2 | my_car = {'brand': '현대', 'model': '제네시스'}   |                                                |                                 |\n",
    "|   | print(my_car)                                    | {'brand': '현대', 'model': '제네시스'}          |  초기화 딕셔너리 생성             |\n",
    "| 3 | lecture = {}                                     |                                                |                                 |\n",
    "|   | lecture['강좌명'] = '파이썬'                      |                                                |  '강좌명'-'파이썬' 항목 추가       |\n",
    "|   | print(lecture)                                   | {'강좌명': '파이썬'}                            |                                  |\n",
    "|   | lecture['학점시수'] = (3, 3)                      |                                                |  '학점시수명'-'(3, 3)' 항목 추가  |\n",
    "|   | print(lecture)                                   | {'강좌명': '파이썬', '학점시수': (3, 3)}         |                                  |\n",
    "| 4 | my_car = {'brand': '현대', 'model': '제네시스'}   |                                                |                                 |\n",
    "|   | print(my_car)                                    | {'brand': '현대', 'model': '제네시스'}          |  초기화 딕셔너리 생성             |\n",
    "|   | my_car['year'] = 2025                            |                                                |  'year'-2025 항목 추가          |\n",
    "|   | print(my_car)                                    | {'brand': '현대', 'model': '제네시스', 'year': 2025}|                            |\n",
    "|   | my_car['model'] = '그랜저'                        |                                                |  'model' 값을 '그랜저'로 수정    |\n",
    "|   | print(my_car)                                    | {'brand': '현대', 'model': '그랜저', 'year': 2025}   |                            |\n",
    "| 5 | data = {}                                        |                                                |                                 |\n",
    "|   | data[(1, 2)] = ('JAN', 'FEB')                    |                                                |  튜플 (1, 2)는 수정 불가 개체, 키 가능 |\n",
    "|   | print(data)                                      | {(1, 2): ('JAN', 'FEB')}                       |                                |\n",
    "| 6 | data = {}                                        |                                                |                                 |\n",
    "|   | data[[1, 2]] = ('JAN', 'FEB')                    |                                                |  리스트 [1, 2]는 수정 가능 개체, 키 불가능 |\n",
    "|   | print(data)                                      | unhashable type: 'list                         |                                 |\n",
    "| 7 | my_car = dict((['brand', '현대'], ['model', '제네시스']))     |                                    |                                 |\n",
    "|   | print(my_car)                                    | {'brand': '현대', 'model': '제네시스'}          |  초기화 딕셔너리 생성             |\n"
   ]
  },
  {
   "cell_type": "markdown",
   "id": "0915d20d-e491-46cb-b3ae-a40add4c7a3e",
   "metadata": {},
   "source": [
    "### LAB-1 딕셔너리 생성과 참조"
   ]
  },
  {
   "cell_type": "code",
   "execution_count": 2,
   "id": "e6aeebf0-6d88-469d-a161-ed0c6f43efe4",
   "metadata": {},
   "outputs": [
    {
     "name": "stdout",
     "output_type": "stream",
     "text": [
      "{}\n"
     ]
    }
   ],
   "source": [
    "my_car = {}\n",
    "print(my_car)"
   ]
  },
  {
   "cell_type": "code",
   "execution_count": 3,
   "id": "4aa63579-0735-48eb-8d66-6ea13c5c860b",
   "metadata": {},
   "outputs": [
    {
     "name": "stdout",
     "output_type": "stream",
     "text": [
      "{'brand': '현대', 'model': '제네시스'}\n"
     ]
    }
   ],
   "source": [
    "my_car = {'brand': '현대', 'model': '제네시스'}\n",
    "print(my_car) "
   ]
  },
  {
   "cell_type": "code",
   "execution_count": 5,
   "id": "e01b381b-4e2f-4694-8228-fbc406e1c6e9",
   "metadata": {},
   "outputs": [
    {
     "name": "stdout",
     "output_type": "stream",
     "text": [
      "{'강좌명': '파이썬'}\n",
      "{'강좌명': '파이썬', '학점시수': (3, 3)}\n"
     ]
    }
   ],
   "source": [
    "lecture = {}\n",
    "lecture['강좌명'] = '파이썬'\n",
    "print(lecture) \n",
    "lecture['학점시수'] = (3, 3)\n",
    "print(lecture)"
   ]
  },
  {
   "cell_type": "code",
   "execution_count": 7,
   "id": "31932200-1220-41d7-85c4-8c33b012662a",
   "metadata": {},
   "outputs": [
    {
     "name": "stdout",
     "output_type": "stream",
     "text": [
      "{'brand': '현대', 'model': '제네시스'}\n",
      "{'brand': '현대', 'model': '제네시스', 'year': 2025}\n",
      "{'brand': '현대', 'model': '그랜저', 'year': 2025}\n"
     ]
    }
   ],
   "source": [
    "my_car = {'brand': '현대', 'model': '제네시스'}\n",
    "print(my_car) \n",
    "my_car['year'] = 2025\n",
    "print(my_car) \n",
    "my_car['model'] = '그랜저'\n",
    "print(my_car) "
   ]
  },
  {
   "cell_type": "code",
   "execution_count": 8,
   "id": "d2691dd8-efcd-4d9e-9f23-9ca83bd6af16",
   "metadata": {},
   "outputs": [
    {
     "name": "stdout",
     "output_type": "stream",
     "text": [
      "{(1, 2): ('JAN', 'FEB')}\n"
     ]
    }
   ],
   "source": [
    "data = {}\n",
    "data[(1, 2)] = ('JAN', 'FEB')\n",
    "print(data)"
   ]
  },
  {
   "cell_type": "code",
   "execution_count": 9,
   "id": "7a3b9864-ff30-4561-96e0-0b2b2141fb21",
   "metadata": {
    "collapsed": true,
    "jupyter": {
     "outputs_hidden": true
    },
    "scrolled": true
   },
   "outputs": [
    {
     "ename": "TypeError",
     "evalue": "unhashable type: 'list'",
     "output_type": "error",
     "traceback": [
      "\u001b[1;31m---------------------------------------------------------------------------\u001b[0m",
      "\u001b[1;31mTypeError\u001b[0m                                 Traceback (most recent call last)",
      "Cell \u001b[1;32mIn[9], line 2\u001b[0m\n\u001b[0;32m      1\u001b[0m data \u001b[38;5;241m=\u001b[39m {}\n\u001b[1;32m----> 2\u001b[0m data[[\u001b[38;5;241m1\u001b[39m, \u001b[38;5;241m2\u001b[39m]] \u001b[38;5;241m=\u001b[39m (\u001b[38;5;124m'\u001b[39m\u001b[38;5;124mJAN\u001b[39m\u001b[38;5;124m'\u001b[39m, \u001b[38;5;124m'\u001b[39m\u001b[38;5;124mFEB\u001b[39m\u001b[38;5;124m'\u001b[39m)\n\u001b[0;32m      3\u001b[0m \u001b[38;5;28mprint\u001b[39m(data)\n",
      "\u001b[1;31mTypeError\u001b[0m: unhashable type: 'list'"
     ]
    }
   ],
   "source": [
    "data = {}\n",
    "data[[1, 2]] = ('JAN', 'FEB')\n",
    "print(data)"
   ]
  },
  {
   "cell_type": "code",
   "execution_count": 16,
   "id": "98dee3d6-1f48-407f-bd8b-966ebd6a8439",
   "metadata": {},
   "outputs": [
    {
     "name": "stdout",
     "output_type": "stream",
     "text": [
      "{'brand': '현대', 'model': '제네시스'}\n"
     ]
    }
   ],
   "source": [
    "my_car = dict(brand='현대', model='제네시스')\n",
    "print(my_car)"
   ]
  },
  {
   "cell_type": "code",
   "execution_count": 19,
   "id": "40870b69-582a-48a1-9792-71aceef91c6b",
   "metadata": {},
   "outputs": [
    {
     "name": "stdout",
     "output_type": "stream",
     "text": [
      "{'brand': '현대', 'model': '제네시스'}\n"
     ]
    }
   ],
   "source": [
    "my_car = dict((['brand', '현대'], ['model', '제네시스']))\n",
    "print(my_car)"
   ]
  },
  {
   "cell_type": "markdown",
   "id": "2436d2a8-217e-4c4b-b132-f40a79b3a431",
   "metadata": {},
   "source": [
    "### 2. 딕셔너리 아이템(키, 값) 참조 메서드 / LAB-2\n",
    "\n",
    "| **번호** | **사용 예**                                | **출력(결과)**                                  |  **설  명**                    |\n",
    "|---|--------------------------------------------------|------------------------------------------------|---------------------------------|\n",
    "| 1 | city = dict(경기='수원', 전북='전주')              |                                                | dict() 함수로 생성        |\n",
    "|   | city                                             | {'경기': '수원', '전북': '전주'}                 |                         |\n",
    "|   | for key in city.keys() :                         |                                                | dict() 키값 추출               |\n",
    "|   | &nbsp;&nbsp;&nbsp;&nbsp;print(key, end=' ')      | 경기 전북                                       |  키값 출력               |\n",
    "| 2 | city = dict(경기='수원', 전북='전주')              |                                                |                        |\n",
    "|   | for key in city :                                |                                                | dict() 키값 추출               |\n",
    "|   | &nbsp;&nbsp;&nbsp;&nbsp;print(key, end=' ')      | 경기 전북                                       |  키값 출력               |\n",
    "| 3 | city = dict(경기='수원', 전북='전주')              |                                                |                             |\n",
    "|   | for value in city.values() :                     |                                                | dict() 값 추출               |\n",
    "|   | &nbsp;&nbsp;&nbsp;&nbsp;print(value, end=' ')    | 수원 전주                                       |  값 출력               |\n",
    "| 4 | city = dict(경기='수원', 전북='전주')              |                                                |                             |\n",
    "|   | for item in city.items() :                     |                                                  | dict() 값 추출               |\n",
    "|   | &nbsp;&nbsp;&nbsp;&nbsp;print(f'{item})        | ('경기', '수원') ('전북', '전주')                  |  값 출력               |\n",
    " "
   ]
  },
  {
   "cell_type": "markdown",
   "id": "2224fa4b-d623-44b4-b298-38b20c3b8b21",
   "metadata": {},
   "source": [
    "### LAB-2 딕셔너리 아이템(키, 값) 참조 메서드"
   ]
  },
  {
   "cell_type": "code",
   "execution_count": 1,
   "id": "5d7cc44e-152b-4302-9549-75c01c664370",
   "metadata": {},
   "outputs": [
    {
     "name": "stdout",
     "output_type": "stream",
     "text": [
      "{'경기': '수원', '전북': '전주'}\n",
      "경기 전북 "
     ]
    }
   ],
   "source": [
    "city = dict(경기='수원', 전북='전주')\n",
    "print(city)\n",
    "for key in city.keys() :\n",
    "    print(key, end=' ')"
   ]
  },
  {
   "cell_type": "code",
   "execution_count": 26,
   "id": "0bf5245d-d47e-435c-ae18-fbc892c506b8",
   "metadata": {},
   "outputs": [
    {
     "name": "stdout",
     "output_type": "stream",
     "text": [
      "경기 전북 "
     ]
    }
   ],
   "source": [
    "city = dict(경기='수원', 전북='전주')\n",
    "for key in city :\n",
    "    print(key, end=' ')"
   ]
  },
  {
   "cell_type": "code",
   "execution_count": 27,
   "id": "a0aae655-66e7-4f79-a263-280221f253ba",
   "metadata": {},
   "outputs": [
    {
     "name": "stdout",
     "output_type": "stream",
     "text": [
      "수원 전주 "
     ]
    }
   ],
   "source": [
    "city = dict(경기='수원', 전북='전주')\n",
    "for value in city.values() : \n",
    "    print(value, end=' ')"
   ]
  },
  {
   "cell_type": "raw",
   "id": "825b456d-fd78-46c7-aa8e-1c2883f58ef1",
   "metadata": {},
   "source": [
    "city = dict(경기='수원', 전북='전주')\n",
    "for item in city.items() : \n",
    "    print(f'{item}', end=' ')"
   ]
  },
  {
   "cell_type": "markdown",
   "id": "642bc634-29a3-4b60-8544-2582e3715e0d",
   "metadata": {},
   "source": [
    "### 3. 딕셔너리 아이템(키, 값) 삭제 메서드 / LAB-3\n",
    "\n",
    "| **번호** | **사용 예**                                | **출력(결과)**                                  |  **설  명**                    |\n",
    "|---|--------------------------------------------------|------------------------------------------------|---------------------------------|\n",
    "| 1 | cities = {'대한민국':['서울', '부산'], '캐나다':['몬트리올', '오타와']}              |                | dict() 생성        |\n",
    "|   | print(cities)                                    | {'대한민국': ['서울', '부산'], '캐나다': ['몬트리올', '오타와']}   |                         |\n",
    "|   | print(cities.pop('캐나다'))                       | ['몬트리올', '오타와']                   | 키 '캐나다' 항목을 삭제하고, 값을 반환          |\n",
    "|   | print(cities)                                     | {'대한민국': ['서울', '부산']}           | 키 '캐나다' 항목이 삭죄된 것 확인    |\n",
    "| 2 | cities = {'대한민국':['서울', '부산'], '캐나다':['몬트리올', '오타와']}              |                | dict() 생성        |\n",
    "|   | print(cities)                                    | {'대한민국': ['서울', '부산'], '캐나다': ['몬트리올', '오타와']}   |                         |\n",
    "|   | print(cities.popitem())                          | ['몬트리올', '오타와']                   | 마지막 항목을 삭제하고, 값을 반환          |\n",
    "|   | print(cities)                                     | {'대한민국': ['서울', '부산']}           | 키 '캐나다' 항목이 삭제된 것 확인    |\n",
    "| 3 | cities = {'대한민국':['서울', '부산'], '캐나다':['몬트리올', '오타와']}              |                | dict() 생성        |\n",
    "|   | print(cities)                                    | {'대한민국': ['서울', '부산'], '캐나다': ['몬트리올', '오타와']}   |                         |\n",
    "|   | cities.clear()                                  |                                    | 모든 항목을 삭제          |\n",
    "|   | print(cities)                                     | {}                               | 모든 항목이 삭제된 것 확인    |"
   ]
  },
  {
   "cell_type": "markdown",
   "id": "9f629368-8bbd-4a15-9f86-fcb53f312634",
   "metadata": {},
   "source": [
    "### LAB-3 딕셔너리 아이템(키, 값) 삭제 메서드"
   ]
  },
  {
   "cell_type": "code",
   "execution_count": 40,
   "id": "ef76581a-d781-49be-9900-0230e20b7caf",
   "metadata": {},
   "outputs": [
    {
     "name": "stdout",
     "output_type": "stream",
     "text": [
      "{'대한민국': ['서울', '부산'], '캐나다': ['몬트리올', '오타와']}\n",
      "['몬트리올', '오타와']\n",
      "{'대한민국': ['서울', '부산']}\n"
     ]
    }
   ],
   "source": [
    "cities = {'대한민국':['서울', '부산'], '캐나다':['몬트리올', '오타와']}\n",
    "print(cities)\n",
    "print(cities.pop('캐나다'))\n",
    "print(cities)"
   ]
  },
  {
   "cell_type": "code",
   "execution_count": 41,
   "id": "c1d5892c-e6fc-4b40-9b0a-77e5f3f248ba",
   "metadata": {},
   "outputs": [
    {
     "name": "stdout",
     "output_type": "stream",
     "text": [
      "{'대한민국': ['서울', '부산'], '캐나다': ['몬트리올', '오타와']}\n",
      "('캐나다', ['몬트리올', '오타와'])\n",
      "{'대한민국': ['서울', '부산']}\n"
     ]
    }
   ],
   "source": [
    "cities = {'대한민국':['서울', '부산'], '캐나다':['몬트리올', '오타와']}\n",
    "print(cities)\n",
    "print(cities.popitem())\n",
    "print(cities)"
   ]
  },
  {
   "cell_type": "code",
   "execution_count": 42,
   "id": "93789733-04b0-49d1-ac16-202b66802389",
   "metadata": {},
   "outputs": [
    {
     "name": "stdout",
     "output_type": "stream",
     "text": [
      "{'대한민국': ['서울', '부산'], '캐나다': ['몬트리올', '오타와']}\n",
      "{}\n"
     ]
    }
   ],
   "source": [
    "cities = {'대한민국':['서울', '부산'], '캐나다':['몬트리올', '오타와']}\n",
    "print(cities)\n",
    "cities.clear()\n",
    "print(cities)"
   ]
  },
  {
   "cell_type": "markdown",
   "id": "ade31634-6d7d-4beb-9d26-c7db310c8918",
   "metadata": {},
   "source": [
    "### 4. 딕셔너리의 내장 함수 활용 등 / LAB-4\n",
    "\n",
    "| **번호** | **사용 예**                                | **출력(결과)**                                  |  **설  명**                    |\n",
    "|---|--------------------------------------------------|------------------------------------------------|---------------------------------|\n",
    "| 1 | stock = {'GOOGLE':849, 'AAPL':136, 'AMZN':848}   |                                                |                                |\n",
    "|   | print(len(stock))                                | 3                                              |  항목수                        |\n",
    "| 2 | score = {'국어':84, '영어':76, '수학':91}         |                                                |                                |\n",
    "|   | print(max(score.values(), max.keys())            | 3                                              | 값 중 최댓값, 키중 최댓값 출력   |\n",
    "| 3 | score = {'국어':84, '영어':76, '수학':91}         |                                                |                                |\n",
    "|   | '영어' in score                                  | True                                           | 키 중 '영어'가 있는지?          |\n",
    "| 4 | score = {'국어':84, '영어':76, '수학':91}         |                                                |                                |\n",
    "|   |'사회' not in score                                  | True                                        | 키 중 '사회'가 없는지?          |"
   ]
  },
  {
   "cell_type": "markdown",
   "id": "1d2005a7-b3f8-46be-bc2a-f6cbb8633711",
   "metadata": {},
   "source": [
    "### LAB-4 딕셔너리의 내장 함수 활용 등"
   ]
  },
  {
   "cell_type": "code",
   "execution_count": 43,
   "id": "01e3d893-ddab-4fe8-b4fa-32565c1b540f",
   "metadata": {},
   "outputs": [
    {
     "name": "stdout",
     "output_type": "stream",
     "text": [
      "3\n"
     ]
    }
   ],
   "source": [
    "stock = {'GOOGLE':849, 'AAPL':136, 'AMZN':848}\n",
    "print(len(stock))"
   ]
  },
  {
   "cell_type": "code",
   "execution_count": 47,
   "id": "c5a26758-87fc-42c0-92e2-459fad65d600",
   "metadata": {},
   "outputs": [
    {
     "name": "stdout",
     "output_type": "stream",
     "text": [
      "91 영어\n"
     ]
    }
   ],
   "source": [
    "score = {'국어':84, '영어':76, '수학':91}\n",
    "print(max(score.values()), max(score.keys()))"
   ]
  },
  {
   "cell_type": "code",
   "execution_count": 48,
   "id": "31ac023e-3b94-4e81-a6eb-feb623dc35c2",
   "metadata": {},
   "outputs": [
    {
     "data": {
      "text/plain": [
       "True"
      ]
     },
     "execution_count": 48,
     "metadata": {},
     "output_type": "execute_result"
    }
   ],
   "source": [
    "score = {'국어':84, '영어':76, '수학':91}\n",
    "'영어' in score"
   ]
  },
  {
   "cell_type": "code",
   "execution_count": 49,
   "id": "8d477bf3-c63b-405f-8409-5fdd1a7dc035",
   "metadata": {},
   "outputs": [
    {
     "data": {
      "text/plain": [
       "True"
      ]
     },
     "execution_count": 49,
     "metadata": {},
     "output_type": "execute_result"
    }
   ],
   "source": [
    "score = {'국어':84, '영어':76, '수학':91}\n",
    "'사회' not in score"
   ]
  },
  {
   "cell_type": "markdown",
   "id": "86eb4047-ca55-477a-88dd-aba629e9c15e",
   "metadata": {},
   "source": [
    "### LAB-5 수행 과제"
   ]
  },
  {
   "cell_type": "markdown",
   "id": "58bc387f-be92-41c4-8aed-ac0bacb85516",
   "metadata": {},
   "source": [
    "1. 문제 : 로그 데이터 분석\n",
    "- 회사는 특정 기간 동안의 웹 요청 로그를 처리해야 합니다. 로그는 사용자 ID, 요청 URL, 요청 상태 코드, 요청 시간을 포함합니다. 아래 조건에 따라 로그 데이터를 분석하세요.\n",
    "2. 요구사항:\n",
    "- 로그 데이터는 딕셔너리로 제공됩니다. 각 항목은 사용자 ID를 키로, 값은 해당 사용자의 요청 기록 목록입니다.\n",
    "- 각 요청 기록은 URL, 상태 코드, 요청 시간을 포함한 튜플 형식입니다.\n",
    "3. 목표:\n",
    "  - 사용자별 총 요청 수를 계산합니다.\n",
    "  - 500번대 상태 코드(서버 오류)가 발생한 사용자와 해당 요청 수를 출력합니다.\n",
    "  - 특정 URL(/admin)에 접근한 사용자와 그 요청 수를 출력합니다.\n",
    "4. 제공된 데이터:\n",
    "\n",
    "```python\n",
    "logs = {\n",
    "    \"user1\": [(\"/home\", 200, \"2025-01-20T10:00:00\"),\n",
    "              (\"/admin\", 500, \"2025-01-20T10:10:00\"),\n",
    "              (\"/dashboard\", 200, \"2025-01-20T10:20:00\")],\n",
    "    \"user2\": [(\"/home\", 200, \"2025-01-20T11:00:00\"),\n",
    "              (\"/admin\", 403, \"2025-01-20T11:15:00\"),\n",
    "              (\"/settings\", 500, \"2025-01-20T11:30:00\")],\n",
    "    \"user3\": [(\"/home\", 200, \"2025-01-20T12:00:00\"),\n",
    "              (\"/dashboard\", 200, \"2025-01-20T12:20:00\")]\n",
    "}\n",
    "```"
   ]
  },
  {
   "cell_type": "code",
   "execution_count": 57,
   "id": "ceec9531-087a-49a4-84a4-ffe98bbee825",
   "metadata": {},
   "outputs": [
    {
     "name": "stdout",
     "output_type": "stream",
     "text": [
      "1. 사용자별 총 요청 수: {'user1': 3, 'user2': 3, 'user3': 2}\n",
      "2. 500번대 오류 발생 사용자와 횟수: {'user1': 1, 'user2': 1}\n",
      "3. '/admin' URL 접근 사용자와 횟수: {'user1': 1, 'user2': 1}\n"
     ]
    }
   ],
   "source": [
    "# 사용자별 로그 데이터\n",
    "logs = {\n",
    "    \"user1\": [(\"/home\", 200, \"2025-01-20T10:00:00\"),\n",
    "              (\"/admin\", 500, \"2025-01-20T10:10:00\"),\n",
    "              (\"/dashboard\", 200, \"2025-01-20T10:20:00\")],\n",
    "    \"user2\": [(\"/home\", 200, \"2025-01-20T11:00:00\"),\n",
    "              (\"/admin\", 403, \"2025-01-20T11:15:00\"),\n",
    "              (\"/settings\", 500, \"2025-01-20T11:30:00\")],\n",
    "    \"user3\": [(\"/home\", 200, \"2025-01-20T12:00:00\"),\n",
    "              (\"/dashboard\", 200, \"2025-01-20T12:20:00\")]\n",
    "}\n",
    "\n",
    "# 1. 사용자별 총 요청 수 계산\n",
    "total_requests = {}\n",
    "for user, requests in logs.items() :\n",
    "    total_requests[user] = len(requests)\n",
    "    \n",
    "# 2. 500번대 상태 코드 발생 사용자와 횟수 계산  \n",
    "error_requests = {}\n",
    "for user, requests in logs.items():\n",
    "    error_count = 0\n",
    "    for url, status, time in requests:\n",
    "        if 500 <= status < 600:\n",
    "            error_count += 1\n",
    "\n",
    "    # 500번대 오류가 있는 사용자만 딕셔너리에 추가\n",
    "    if error_count > 0:\n",
    "        error_requests[user] = error_count\n",
    "\n",
    "# 3. 특정 URL('/admin')에 접근한 사용자와 횟수\n",
    "admin_access = {}\n",
    "for user, requests in logs.items():\n",
    "    # '/admin' URL 접근 횟수 계산\n",
    "    # 코딩하시오\n",
    "    #\n",
    "    #\n",
    "    #\n",
    "\n",
    "# 결과 출력\n",
    "print(\"1. 사용자별 총 요청 수:\", total_requests)\n",
    "print(\"2. 500번대 오류 발생 사용자와 횟수:\", error_requests)\n",
    "print(\"3. '/admin' URL 접근 사용자와 횟수:\", admin_access)\n"
   ]
  },
  {
   "cell_type": "code",
   "execution_count": null,
   "id": "daea99cc-d778-4fe0-b705-d5e7c9fd07eb",
   "metadata": {},
   "outputs": [],
   "source": []
  }
 ],
 "metadata": {
  "kernelspec": {
   "display_name": "Python 3 (ipykernel)",
   "language": "python",
   "name": "python3"
  },
  "language_info": {
   "codemirror_mode": {
    "name": "ipython",
    "version": 3
   },
   "file_extension": ".py",
   "mimetype": "text/x-python",
   "name": "python",
   "nbconvert_exporter": "python",
   "pygments_lexer": "ipython3",
   "version": "3.12.7"
  }
 },
 "nbformat": 4,
 "nbformat_minor": 5
}
