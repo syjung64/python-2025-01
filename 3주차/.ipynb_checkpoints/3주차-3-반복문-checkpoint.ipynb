{
 "cells": [
  {
   "cell_type": "markdown",
   "id": "80991b6f-17c0-4306-ab1c-8c084c9cf64a",
   "metadata": {},
   "source": [
    "# Lecture 1 : 반복문\n"
   ]
  },
  {
   "cell_type": "markdown",
   "id": "809d8ef1-89d7-42a7-81cc-db7de8f4e496",
   "metadata": {},
   "source": [
    "#### 1. for in 반복문\n",
    "- 모음 자료(iterable)의 각 항목을 variable에 저장하여 반복 몸체인 statement_1 수행\n",
    "- 모음 자료(iterable) : str, list, tuple, dict, set, frozenset, range\n",
    "\n",
    "```python\n",
    "for variable in iterable :\n",
    "    statement_1\n",
    "[else :\n",
    "    statement_2]\n"
   ]
  },
  {
   "cell_type": "code",
   "execution_count": 25,
   "id": "7baf12ea-efc3-4656-ae79-06e1bcf8a881",
   "metadata": {},
   "outputs": [
    {
     "name": "stdout",
     "output_type": "stream",
     "text": [
      "--string 출력---\n",
      "p y t h o n \n",
      "\n",
      "--리스트 출력---\n",
      "1 2 3 \n",
      "\n",
      "--튜플 출력---\n",
      "apple banana pineapple \n",
      "\n",
      "--set 출력---\n",
      "C Python C# JAVA \n",
      "\n",
      "--dict 출력---\n",
      "Lee 23 Kim 25 Park 27 Yoon 24 \n",
      "\n",
      "--range() 출력---\n",
      "0 1 2 3 4 5 6 7 8 9 \n",
      "\n"
     ]
    }
   ],
   "source": [
    "### 시퀌스 객체 요소 값 출력하기\n",
    "\n",
    "# string\n",
    "print('--string 출력---')\n",
    "for c in \"python\" :\n",
    "    print(c, end = ' ')\n",
    "print('\\n')\n",
    "    \n",
    "# 리스트\n",
    "print('--리스트 출력---')\n",
    "for i in [1, 2, 3] :\n",
    "    print(i, end = ' ')\n",
    "print('\\n')\n",
    "\n",
    "# 튜플\n",
    "print('--튜플 출력---')\n",
    "for i in (\"apple\", \"banana\", \"pineapple\") :\n",
    "    print(i, end = ' ')\n",
    "print('\\n')\n",
    "\n",
    "# set\n",
    "print('--set 출력---')\n",
    "for i in {\"C\", \"JAVA\", \"Python\", \"C#\"} :\n",
    "    print(i, end = ' ')\n",
    "print('\\n')\n",
    "\n",
    "# dict\n",
    "print('--dict 출력---')\n",
    "classA = {\"Lee\":23, \"Kim\":25, \"Park\":27, \"Yoon\":24}\n",
    "for item in classA :\n",
    "    print(item, classA[item], end = ' ')           # key 값 출력, dict classA의 값 출력\n",
    "print('\\n')\n"
   ]
  },
  {
   "cell_type": "code",
   "execution_count": 26,
   "id": "26bd4d5d-e9ad-4fc6-ad32-d3aa610ef45e",
   "metadata": {},
   "outputs": [
    {
     "name": "stdout",
     "output_type": "stream",
     "text": [
      "p :  ****************\n",
      "y :  *************************\n",
      "t :  ********************\n",
      "h :  ********\n",
      "o :  ***************\n",
      "n :  **************\n"
     ]
    }
   ],
   "source": [
    "### 3.8 코딩 (p. 127) : for 루프로 문자의 그래프 그리기 \n",
    "# 문자열 'python'의 각 글자에 대해, 알파벳 순서 만큼의 별표(*) 출력하기\n",
    "# ord('p') : 문자 'p'의 ASCII 코드값 \n",
    "# ord('p') - ord('a') : 문자 'p'의 알파벳 순서\n",
    "\n",
    "s = 'python'\n",
    "\n",
    "for char in s :\n",
    "    print(f'{char} : ', end=' ')\n",
    "    print(\"*\" * (ord(char) - ord('a') + 1)) "
   ]
  },
  {
   "cell_type": "markdown",
   "id": "d12ff91c-2c0a-496f-9b1c-de0264757bae",
   "metadata": {},
   "source": [
    "#### 2. 자료형 range와 for in 반복문\n",
    "- range(10) : 0에서 9까지 정수를 품은 range 객체\n",
    "- range(2, 10) : 2에서 9까지 정수를 품은 range 객체\n",
    "- range(1, 10, 2) : 1에서 9까지 2씩 증가 정수를 품은 range 객체 - (1, 3, 5, 7, 9)\n",
    "- range(5, 1, -1) : 10에서 2까지 -1씩 증가 정수를 품은 range 객체 - (5, 4, 3, 2) "
   ]
  },
  {
   "cell_type": "code",
   "execution_count": 39,
   "id": "bf94d11f-278c-4322-9bc8-8d83d50136f7",
   "metadata": {},
   "outputs": [
    {
     "name": "stdout",
     "output_type": "stream",
     "text": [
      "--range(10) 출력---\n",
      "0 1 2 3 4 5 6 7 8 9 \n",
      "\n",
      "--range(5, 10) 출력---\n",
      "5 6 7 8 9 \n",
      "\n",
      "--range(1, 10, 2) 출력---\n",
      "1 3 5 7 9 \n",
      "\n",
      "--range(5, 1, -1) 출력---\n",
      "5 4 3 2 \n",
      "\n",
      "--range(2, 10)과 자료형 출력---\n",
      "range(2, 10) <class 'range'>\n",
      "\n",
      "\n",
      "--range(2, 10) 항목 값을 list/tuple로 출력---\n",
      "[2, 3, 4, 5, 6, 7, 8, 9]\n",
      "(2, 3, 4, 5, 6, 7, 8, 9)\n"
     ]
    }
   ],
   "source": [
    "# range()\n",
    "print('--range(10) 출력---')\n",
    "for i in range(10) :\n",
    "    print(i, end = ' ')\n",
    "print('\\n')\n",
    "\n",
    "print('--range(5, 10) 출력---')\n",
    "for i in range(5, 10) :\n",
    "    print(i, end = ' ')\n",
    "print('\\n')\n",
    "\n",
    "print('--range(1, 10, 2) 출력---')\n",
    "for i in range(1, 10, 2) :\n",
    "    print(i, end = ' ')\n",
    "print('\\n')\n",
    "\n",
    "print('--range(5, 1, -1) 출력---')\n",
    "for _ in range(5, 1, -1) :  # 변수로 임시변수 '_' 사용\n",
    "    print(_, end = ' ')\n",
    "print('\\n')\n",
    "\n",
    "# range(2, 10)은 2부터 9까지의 정수 값이 아니라 정수를 품은 range 객체\n",
    "print('--range(2, 10)과 자료형 출력---')\n",
    "r = range(2, 10)\n",
    "print(r, type(r))\n",
    "print('\\n')\n",
    "\n",
    "# list(), tuple() 호출로 항목 전체 출력 가능\n",
    "print('--range(2, 10) 항목 값을 list/tuple로 출력---')\n",
    "print(list(r))\n",
    "print(tuple(r))"
   ]
  },
  {
   "cell_type": "code",
   "execution_count": 1,
   "id": "ba98b033-b353-47b1-b5bc-d5aeeb2cbec9",
   "metadata": {},
   "outputs": [
    {
     "name": "stdin",
     "output_type": "stream",
     "text": [
      "첫 번째 숫자를 입력 :  2\n",
      "두 번째 숫자를 입력 :  2\n"
     ]
    },
    {
     "name": "stdout",
     "output_type": "stream",
     "text": [
      "두 숫자 중 큰 수는 2.0입니다.\n"
     ]
    }
   ],
   "source": [
    "### 3-7 코딩 (p. 124) : 표준 입력 두 수 비교\n",
    "\n",
    "# 사용자로 부터 두 수 입력받기\n",
    "num_1 = float(input(\"첫 번째 숫자를 입력 : \"))\n",
    "num_2 = float(input(\"두 번째 숫자를 입력 : \"))\n",
    "\n",
    "# 큰 수를 비교하여 출력\n",
    "result = num_1 if num_1 > num_2 else num_2\n",
    "print(f'두 숫자 중 큰 수는 {result}입니다.')"
   ]
  },
  {
   "cell_type": "markdown",
   "id": "b9cf81aa-1717-4fb4-99df-e7bcd4901a5e",
   "metadata": {},
   "source": [
    "### LAB-1\n",
    "- 사용자로 부터 3개의 수 입력받아 가장 큰 수를 출력하시오.\n",
    "- if 조건문(if - elif - else)을 활용하시오."
   ]
  },
  {
   "cell_type": "code",
   "execution_count": 7,
   "id": "d1a7df16-669f-4ce8-bb20-598484a8e27a",
   "metadata": {},
   "outputs": [],
   "source": [
    "#\n",
    "#\n",
    "#"
   ]
  },
  {
   "cell_type": "markdown",
   "id": "7bd7948f-fad1-40f3-8fc0-eac6b651bf0c",
   "metadata": {},
   "source": [
    "### LAB-2\n",
    "- 사용자로 부터 3개의 수 입력받아 가장 큰 수를 출력하시오.\n",
    "- if 조건문(한 줄 if)을 활용하시오."
   ]
  },
  {
   "cell_type": "code",
   "execution_count": 9,
   "id": "58cbff3e-6042-48bb-8c5c-ddfb27f6130a",
   "metadata": {},
   "outputs": [],
   "source": [
    "#\n",
    "#\n",
    "#"
   ]
  },
  {
   "cell_type": "markdown",
   "id": "25f82388-1d86-4ea1-a8d9-dd0b5fbd7f5e",
   "metadata": {},
   "source": [
    "### LAB-3\n",
    "- 사용자로 부터 3개의 수 입력받아 가장 큰 수를 출력하시오.\n",
    "- if 조건문(한 줄 if)을 활용하시오.\n",
    "- 가장 큰 수를 찾는 함수 my_max()를 정의하여 사용하세요."
   ]
  },
  {
   "cell_type": "code",
   "execution_count": 11,
   "id": "1727cbcd-3a96-4777-9bef-c1e62370b6a2",
   "metadata": {},
   "outputs": [
    {
     "name": "stdin",
     "output_type": "stream",
     "text": [
      "첫 번째 숫자를 입력 :  1\n",
      "두 번째 숫자를 입력 :  2\n",
      "세 번째 숫자를 입력 :  3\n"
     ]
    },
    {
     "name": "stdout",
     "output_type": "stream",
     "text": [
      "3.0\n"
     ]
    }
   ],
   "source": [
    "###\n",
    "def my_max(n1, n2, n3) :\n",
    "    m = n1 if n1 > n2 else n2\n",
    "    r = m if m > n3 else n3\n",
    "    return r\n",
    "\n",
    "num_1 = float(input(\"첫 번째 숫자를 입력 : \"))\n",
    "num_2 = float(input(\"두 번째 숫자를 입력 : \"))\n",
    "num_3 = float(input(\"세 번째 숫자를 입력 : \"))\n",
    "\n",
    "result = my_max(num_1, num_2, num_3)\n",
    "print(result)"
   ]
  },
  {
   "cell_type": "markdown",
   "id": "fe9e842e-efca-4d63-838e-9d2f9ed72879",
   "metadata": {},
   "source": [
    "#### 2. 횟수를 정하지 않은 반복 while\n",
    "\n",
    "```python\n",
    "while condition :\n",
    "    statements\n",
    "[else :\n",
    "    additional_statements]"
   ]
  },
  {
   "cell_type": "code",
   "execution_count": 2,
   "id": "bae7813c-5d87-4ac0-8d77-2ad7fbc6faea",
   "metadata": {
    "collapsed": true,
    "jupyter": {
     "outputs_hidden": true
    }
   },
   "outputs": [
    {
     "name": "stdout",
     "output_type": "stream",
     "text": [
      "-- 할 일 목록을 관리하는 프로그램입니다. ---\n",
      "1. 할 일 추가\n",
      "2. 할 일 목록 보기\n",
      "3. 프로그램 종료\n"
     ]
    },
    {
     "name": "stdin",
     "output_type": "stream",
     "text": [
      "옵션을 입력하세요(1, 2, 3) ? 1\n",
      "추가할 일을 입력하시오 :  청소하기\n"
     ]
    },
    {
     "name": "stdout",
     "output_type": "stream",
     "text": [
      "'청소하기'를 할 일 목록에 추가하였습니다.\n",
      "\n",
      "-- 할 일 목록을 관리하는 프로그램입니다. ---\n",
      "1. 할 일 추가\n",
      "2. 할 일 목록 보기\n",
      "3. 프로그램 종료\n"
     ]
    },
    {
     "name": "stdin",
     "output_type": "stream",
     "text": [
      "옵션을 입력하세요(1, 2, 3) ? 1\n",
      "추가할 일을 입력하시오 :  빨래하기\n"
     ]
    },
    {
     "name": "stdout",
     "output_type": "stream",
     "text": [
      "'빨래하기'를 할 일 목록에 추가하였습니다.\n",
      "\n",
      "-- 할 일 목록을 관리하는 프로그램입니다. ---\n",
      "1. 할 일 추가\n",
      "2. 할 일 목록 보기\n",
      "3. 프로그램 종료\n"
     ]
    },
    {
     "name": "stdin",
     "output_type": "stream",
     "text": [
      "옵션을 입력하세요(1, 2, 3) ? 2\n"
     ]
    },
    {
     "name": "stdout",
     "output_type": "stream",
     "text": [
      "\n",
      "할 일 목록 : \n",
      "청소하기\n",
      "빨래하기\n",
      "\n",
      "-- 할 일 목록을 관리하는 프로그램입니다. ---\n",
      "1. 할 일 추가\n",
      "2. 할 일 목록 보기\n",
      "3. 프로그램 종료\n"
     ]
    },
    {
     "name": "stdin",
     "output_type": "stream",
     "text": [
      "옵션을 입력하세요(1, 2, 3) ? 3\n"
     ]
    },
    {
     "name": "stdout",
     "output_type": "stream",
     "text": [
      "프로그램을 종료합니다.\n"
     ]
    }
   ],
   "source": [
    "### 3-10 코딩 (p. 133) : while을 활용한 할 일 목록 관리\n",
    "\n",
    "# 할 일 목록을 저장할 빈 리스트 생성\n",
    "todo_list = []   # 빈 리스트 생성\n",
    "while True :\n",
    "    print(\"-- 할 일 목록을 관리하는 프로그램입니다. ---\")\n",
    "    print(\"1. 할 일 추가\")\n",
    "    print(\"2. 할 일 목록 보기\")\n",
    "    print(\"3. 프로그램 종료\")\n",
    "\n",
    "    choice = input(\"옵션을 입력하세요(1, 2, 3) ?\")\n",
    "\n",
    "    if choice == '1' :\n",
    "        task = input(\"추가할 일을 입력하시오 : \")\n",
    "        todo_list.append(task)\n",
    "        print(f\"'{task}'를 할 일 목록에 추가하였습니다.\")\n",
    "    elif choice == '2' :\n",
    "        print(\"\\n할 일 목록 : \")\n",
    "        for task in todo_list :\n",
    "            print(f\"{task}\")\n",
    "    elif choice == '3' :\n",
    "        print(\"프로그램을 종료합니다.\")\n",
    "        break;\n",
    "    else :\n",
    "        print(\"올바른 옵션을 선택해 주세요\")\n",
    "\n",
    "    print()"
   ]
  },
  {
   "cell_type": "markdown",
   "id": "9a79b0d8-11bb-45e7-864f-21577e983a2e",
   "metadata": {},
   "source": [
    "#### 3. 반복문에서의 break와 continue\n",
    "\n",
    "- break : 가까운 반복문을 빠져나옴\n",
    "- while : 이후의 반복 몸체를 실행하지 않고 다음 반복을 진행"
   ]
  },
  {
   "cell_type": "code",
   "execution_count": 5,
   "id": "ce8c323a-d2a8-4cc9-86d3-8741cd0f3951",
   "metadata": {},
   "outputs": [
    {
     "name": "stdin",
     "output_type": "stream",
     "text": [
      "1~10 사이의 정수 입력(-1 입력시 종료) >>  3\n",
      "1~10 사이의 정수 입력(-1 입력시 종료) >>  4\n"
     ]
    },
    {
     "name": "stdout",
     "output_type": "stream",
     "text": [
      "4은 짝수 입니다ㅣ\n"
     ]
    },
    {
     "name": "stdin",
     "output_type": "stream",
     "text": [
      "1~10 사이의 정수 입력(-1 입력시 종료) >>  2\n"
     ]
    },
    {
     "name": "stdout",
     "output_type": "stream",
     "text": [
      "2은 짝수 입니다ㅣ\n"
     ]
    },
    {
     "name": "stdin",
     "output_type": "stream",
     "text": [
      "1~10 사이의 정수 입력(-1 입력시 종료) >>  3\n",
      "1~10 사이의 정수 입력(-1 입력시 종료) >>  -1\n"
     ]
    },
    {
     "name": "stdout",
     "output_type": "stream",
     "text": [
      "프로그램을 종료함\n"
     ]
    }
   ],
   "source": [
    "### 3-11 코딩\n",
    "# 1 ~ 10까지의 숫자를 입력받아 짝수만 출력, -1 입력시 종료\n",
    "\n",
    "while True :\n",
    "    user_input = int(input(\"1~10 사이의 정수 입력(-1 입력시 종료) >> \"))\n",
    "\n",
    "    if user_input == -1 :\n",
    "        print(\"프로그램을 종료함\")\n",
    "        break\n",
    "\n",
    "    if user_input < 1 or user_input > 10 :\n",
    "        print(\"1~10 사이의 숫자만 입력하시오\")\n",
    "        continue\n",
    "\n",
    "    if user_input % 2 == 0 :\n",
    "        print(f\"{user_input}은 짝수 입니다ㅣ\")\n",
    "    else :\n",
    "        continue"
   ]
  },
  {
   "cell_type": "markdown",
   "id": "a0330cdc-58cf-4c52-8b73-d6fb6bc6bbe1",
   "metadata": {},
   "source": [
    "### LAB-4\n"
   ]
  },
  {
   "cell_type": "code",
   "execution_count": 9,
   "id": "11949e28-ba38-4c20-991c-e6ecd664227f",
   "metadata": {},
   "outputs": [
    {
     "name": "stdout",
     "output_type": "stream",
     "text": [
      "2 4 5 7 8 10 11 13 14 16 17 19 20 \n",
      "합은 146\n"
     ]
    }
   ],
   "source": [
    "### 3-11 코딩\n",
    "# 2 ~ 20까지의 숫자 중 3의 배수를 제외한 숫자의 합을 수함\n",
    "\n",
    "s = 0\n",
    "for num in range(2, 21) :\n",
    "    if num % 3 == 0 :\n",
    "        continue\n",
    "    else :\n",
    "        print(num, end = ' ')\n",
    "        s = s + num\n",
    "print(f'\\n합은 {s}')"
   ]
  },
  {
   "cell_type": "code",
   "execution_count": null,
   "id": "687c3fa0-0933-42f4-a9cd-3b1187f7a516",
   "metadata": {},
   "outputs": [],
   "source": []
  }
 ],
 "metadata": {
  "kernelspec": {
   "display_name": "Python 3 (ipykernel)",
   "language": "python",
   "name": "python3"
  },
  "language_info": {
   "codemirror_mode": {
    "name": "ipython",
    "version": 3
   },
   "file_extension": ".py",
   "mimetype": "text/x-python",
   "name": "python",
   "nbconvert_exporter": "python",
   "pygments_lexer": "ipython3",
   "version": "3.12.7"
  }
 },
 "nbformat": 4,
 "nbformat_minor": 5
}
