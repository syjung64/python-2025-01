{
 "cells": [
  {
   "cell_type": "markdown",
   "id": "264e7348-acb7-4845-b6d0-d2cbed7d26c1",
   "metadata": {},
   "source": [
    "# Lecture 1 : 문자열"
   ]
  },
  {
   "cell_type": "markdown",
   "id": "5e7ff9cc-cc69-49c0-9db6-915dcf43084a",
   "metadata": {},
   "source": [
    "### 1. 문자열에 사용할 수 있는 내장 함수\n",
    "- 내장 함수 : 파이썬에서 미리 작성해 두어 바로 사용할 수 있는 함수\n",
    "- 독립적으로 함수에 문자열을 인자로 전달하여 사용 가능\n",
    "  > len('python')\n",
    "\n",
    "### 문자열 관련 내장 함수\n",
    "\n",
    "| **내장함수**       | **설명**                                 | **사용 예**           |\n",
    "|------------------|-------------------------------------------|-----------------------|\n",
    "| **str(obj)**     | obj를 문자열 표현으로 반환                  | str(3.14) -> '3.14'  |\n",
    "| **len(s)**     | 문자열 s의 길이 반환                          | len('python') -> 6    |\n",
    "| **max(s)**     | 문자열 s에서 코드 값 기준으로 최대인 문자 반환  | max('python') -> 'y' |\n",
    "|                | 2개 이상의 문자열에서 최대 문자열 반환         | max('python', 'java') -> 'python' |\n",
    "| **min(s)**     | 문자열 s에서 코드 값 기준으로 최소인 문자 반환  | max('1234') -> '1' |\n",
    "|                | 2개 이상의 숫자에서 최소 수 반환               | min(3, 96.3, 13) -> 3 |\n",
    "| **ord(c)**     | 문자 c의 유니코드 값 반환                     | ord('A') -> 65 |\n",
    "| **chr(n)**     | 유니코드 값 n에 해당하는 문자 반환             | ord(44032) -> '가' |\n",
    "\n"
   ]
  },
  {
   "cell_type": "markdown",
   "id": "d42bea0c-5fe9-4a58-aa72-0229f9ff9da4",
   "metadata": {},
   "source": [
    "#### LAB-1 : 문자열 내장 함수 알아보기"
   ]
  },
  {
   "cell_type": "code",
   "execution_count": null,
   "id": "376379f8-a2d7-49a1-8d8f-295be3d698d6",
   "metadata": {},
   "outputs": [],
   "source": [
    "str(3.14)"
   ]
  },
  {
   "cell_type": "code",
   "execution_count": null,
   "id": "1ef543e3-d261-450d-8cef-986088bdfb07",
   "metadata": {},
   "outputs": [],
   "source": [
    "len('python')"
   ]
  },
  {
   "cell_type": "code",
   "execution_count": null,
   "id": "24d1e133-b4d0-48cb-ab60-d2d9e8fbaa43",
   "metadata": {},
   "outputs": [],
   "source": [
    "max('python'), min('python')"
   ]
  },
  {
   "cell_type": "code",
   "execution_count": null,
   "id": "cdd82013-242a-4e4c-98a3-12f0f038aedc",
   "metadata": {},
   "outputs": [],
   "source": [
    "max('q', 'python'), min(2, 9.7, 1)"
   ]
  },
  {
   "cell_type": "code",
   "execution_count": null,
   "id": "8bb62c3e-1396-4378-b0c6-6fb7cea295e1",
   "metadata": {},
   "outputs": [],
   "source": [
    "ord('A'), chr(44032)"
   ]
  },
  {
   "cell_type": "markdown",
   "id": "19303867-70db-46c1-ad30-9881cbd80ba1",
   "metadata": {},
   "source": [
    "### 2. 문자열 메서드\n",
    "- 메서드 : 클래스에 포함되어 있는 함수 \n",
    "- 문자열 메서드 : 문자열 객체(인스턴스)를 통해서만 메서드 호출 가능\n",
    " > 'python'.capitalize()\n",
    "- 문자열에 사용 가능한 메서드 목록 확인하기\n",
    " > dir(str)\n",
    "\n",
    "### 문자열 메서드\n",
    "\n",
    "| **문자열 메서드**       | **설명**                                              | **사용 예**                  |            결과(출력)     |\n",
    "|------------------------|-------------------------------------------------------|-------------------------------|-------------------------|\n",
    "| **s.split()**          | 문자열 s를 (\\n, \\t, \\r, ' ')기준으로 분리하여 리스트로 반환 | \"aa bb \\n cc \\t dd\".split() | ['aa', 'bb', 'cc', 'dd'] |\n",
    "|                        | 구분자를 지정하면, 구분자로 분리하여 리스트로 반환         | 'aa bb, cc dd, kk'.split(',') | ['aa bb', ' cc dd', ' kk'] |\n",
    "|                        |                                                       | 'aa bb* cc dd, kk'.split('b*') | ['aa b', ' cc dd, kk'] |\n",
    "|                        | 2개 까지만 문자열을 구분하고, 나머지는 한 항목으로 반환    | 'aa bb* cc dd, kk'.split(maxsplit=2) | ['aa', 'bb*', 'cc dd, kk'] |\n",
    "| **s.join(k)**          | 문자열 k의 문자와 문자  사이에 문자열 s 삽입              | \"::\".join(\"1234\") | '1::2::3::4' |\n",
    "|                        | 리스트 k의 항목과 항목 사이에 문자열 s 삽입               |  \"::\".join(['ab', 'cd', 'ef']) | 'ab::cd::ef' |\n",
    "| **s.replace(a, b)**    | 문자열을 s에서 a를 찾아 b로 수정(대체)                   | \"abcdabcd\".replace('bc', 'BC') | 'aBCdaBCd' |\n",
    "|                        |                                                       | \"1 2 3 4\".replace(' ', '') | '1234' |\n",
    "| **s.zfill(n)**         | 문자열을 s에서 n개 폭 만큼의 앞 부분에 0을 채움           | \"123\".zfill(5) | '00123' |\n",
    "|                        |                                                       | \"-123\".zfill(5) | '-0123' |\n",
    "| **s.count(p)**         | 문자열을 s에서 문자열 p의 출현 횟수(패턴 p가 몇번 나오나)  | \"간장 공장 공장장\".count('공장') | 2 |\n",
    "| **s.find(p)**          | 문자열을 s에서 문자열 p가 나타난 위치 인덱스(0부터 시작)   | \"간장 공장 공장장\".find('공장') | 3 |\n",
    "|                        |                                                       | \"간장 공장 공장장\".find('된장') | -1 |\n",
    "| **s.index(p)**          | 문자열을 s에서 문자열 p가 나타난 위치 인덱스(0부터 시작)   | \"간장 공장 공장장\".index('공장') | 3 |\n",
    "|                        |                                                       | \"간장 공장 공장장\".index('된장') | value error |\n",
    "| **s.rfind(p)**         | 문자열을 s를 뒤에서부터 찾아 문자열 p가 나타난 위치 인덱스  | \"간장 공장 공장장\".rfind('공장') | 6 |\n",
    "| **s.rindex(p)**        | 문자열을 s를 뒤에서부터 찾아 문자열 p가 나타난 위치 인덱스 | \"간장 공장 공장장\".rindex('공장') | 6 |\n",
    "| **s.upper()**          | 문자열을 s를 모두 대문자로 변경                          | \"python\".upper() | 'PYTHON' |\n",
    "| **s.lower()**          | 문자열을 s를 모두 소문자로 변경                          | \"DONGYANG\".lower() | 'dongyang' |\n",
    "| **s.swapcase()**       | 문자열을 s의 대소문자를 서로 변환                        | \"cOmPuTeR\".swapcase() | 'CoMpUtEr'  |\n",
    "| **s.strip()**          | 문자열을 s에서 맨 앞 뒤의 공백 문자 제거                  | \"   python  \".strip() | 'python'  |\n",
    "|                        | 제거 문자 지정시 맨 앞 뒤의 해당 문자 제거(중간 문자는 제거 안함) | \"**ab*cd-ef gh---\".strip('-*') | 'abcd-ef gh' |\n",
    "| **s.lstrip()**         | 문자열을 s에서 왼쪽 맨 앞의 공백 문자 제거               | \"   python  \".lstrip() | 'python  '  |\n",
    "| **s.rstrip()**         | 문자열을 s에서 오른쪽 맨 뒤의 공백 문자 제거              | \"   python  \".rstrip() | '   python'  |\n",
    "\n",
    "\n",
    "\n"
   ]
  },
  {
   "cell_type": "markdown",
   "id": "30e249de-8005-4369-8257-a6b22b5d4ea3",
   "metadata": {},
   "source": [
    "#### LAB-2 : 문자열 메서드 알아보기"
   ]
  },
  {
   "cell_type": "code",
   "execution_count": null,
   "id": "e3bda7b1-1b75-4d6a-bc86-2b45fcb52226",
   "metadata": {},
   "outputs": [],
   "source": [
    "'aa bb \\n cc \\t dd kk'.split()"
   ]
  },
  {
   "cell_type": "code",
   "execution_count": null,
   "id": "c63373d3-0ff3-4caf-9b83-fedd498ef624",
   "metadata": {},
   "outputs": [],
   "source": [
    "'aa bb, cc dd, kk'.split(',')"
   ]
  },
  {
   "cell_type": "code",
   "execution_count": null,
   "id": "e0cd1c0b-1b23-47d9-9815-114519ec709e",
   "metadata": {},
   "outputs": [],
   "source": [
    "'aa bb* cc dd, kk'.split('b*')"
   ]
  },
  {
   "cell_type": "code",
   "execution_count": null,
   "id": "b8bf6a81-713f-43da-a79c-d0561b1d8509",
   "metadata": {},
   "outputs": [],
   "source": [
    "'aa bb* cc dd, kk'.split(maxsplit=2)"
   ]
  },
  {
   "cell_type": "code",
   "execution_count": null,
   "id": "63a44210-9b00-4b15-9e2a-473155afe682",
   "metadata": {},
   "outputs": [],
   "source": [
    "\"::\".join(\"1234\")"
   ]
  },
  {
   "cell_type": "code",
   "execution_count": null,
   "id": "90d3feca-fc4f-47ac-89f7-b568859e66a3",
   "metadata": {},
   "outputs": [],
   "source": [
    "\"::\".join(['ab', 'cd', 'ef'])"
   ]
  },
  {
   "cell_type": "code",
   "execution_count": null,
   "id": "ad4ca2c2-29e3-4a0e-aa82-d9cf5a9ccba8",
   "metadata": {},
   "outputs": [],
   "source": [
    "\"abcdabcd\".replace('bc', 'BC')"
   ]
  },
  {
   "cell_type": "code",
   "execution_count": null,
   "id": "074b078a-3250-49ef-850b-e069eead40c5",
   "metadata": {},
   "outputs": [],
   "source": [
    "\"1 2 3 4\".replace(' ', '')"
   ]
  },
  {
   "cell_type": "code",
   "execution_count": null,
   "id": "329c5a9a-ae6b-4246-9959-495ca41a6e01",
   "metadata": {},
   "outputs": [],
   "source": [
    "\"123\".zfill(5)"
   ]
  },
  {
   "cell_type": "code",
   "execution_count": null,
   "id": "42180f62-e8e9-4e7d-89a3-489c45f0dff8",
   "metadata": {},
   "outputs": [],
   "source": [
    "\"-123\".zfill(5)"
   ]
  },
  {
   "cell_type": "code",
   "execution_count": null,
   "id": "e71b5fa0-1633-4f4d-8a7c-48e79fd581c8",
   "metadata": {},
   "outputs": [],
   "source": [
    " \"abcdabcd\".count('bc')"
   ]
  },
  {
   "cell_type": "code",
   "execution_count": null,
   "id": "a6a06c48-2b52-46cf-b2f5-5ace540f92bf",
   "metadata": {},
   "outputs": [],
   "source": [
    "\"간장 공장 공장장\".count('공장')"
   ]
  },
  {
   "cell_type": "code",
   "execution_count": null,
   "id": "3ce54251-3444-4a7e-a473-82eef2d918de",
   "metadata": {},
   "outputs": [],
   "source": [
    "\"간장 공장 공장장\".find('공장')"
   ]
  },
  {
   "cell_type": "code",
   "execution_count": null,
   "id": "70f6c6b3-a5ae-4752-ba40-7e3b7ef34f3f",
   "metadata": {},
   "outputs": [],
   "source": [
    "\"간장 공장 공장장\".index('공장')"
   ]
  },
  {
   "cell_type": "code",
   "execution_count": null,
   "id": "633dd6fc-291a-4809-a15e-06fbc1495b3d",
   "metadata": {},
   "outputs": [],
   "source": [
    "\"간장 공장 공장장\".find('된장')"
   ]
  },
  {
   "cell_type": "code",
   "execution_count": null,
   "id": "c7145fff-666b-474f-a652-34b3a8fffc22",
   "metadata": {
    "scrolled": true
   },
   "outputs": [],
   "source": [
    "\"간장 공장 공장장\".index('된장')"
   ]
  },
  {
   "cell_type": "code",
   "execution_count": null,
   "id": "66388f40-416a-435a-ad0e-51617ac1aa3e",
   "metadata": {},
   "outputs": [],
   "source": [
    "\"간장 공장 공장장\".rfind('공장')"
   ]
  },
  {
   "cell_type": "code",
   "execution_count": null,
   "id": "6503d505-2dec-4a42-a6e5-d0e295e338f6",
   "metadata": {},
   "outputs": [],
   "source": [
    "\"간장 공장 공장장\".rindex('공장')"
   ]
  },
  {
   "cell_type": "code",
   "execution_count": null,
   "id": "d86cb8b7-f9c8-42de-a0e9-61c4bb87b9a3",
   "metadata": {},
   "outputs": [],
   "source": [
    "\"python\".upper()"
   ]
  },
  {
   "cell_type": "code",
   "execution_count": null,
   "id": "357d1ed1-dadf-46ea-876d-4150feb7f8bc",
   "metadata": {},
   "outputs": [],
   "source": [
    "\"DONGYANG\".lower()"
   ]
  },
  {
   "cell_type": "code",
   "execution_count": null,
   "id": "4c9318d5-2ea2-4e62-aef1-c6e02ecbf43f",
   "metadata": {},
   "outputs": [],
   "source": [
    "\"cOmPuTeR\".swapcase()"
   ]
  },
  {
   "cell_type": "code",
   "execution_count": null,
   "id": "1509ca25-e1e5-4bdd-b76f-a1b9c596dcbf",
   "metadata": {},
   "outputs": [],
   "source": [
    " \"   python  \".strip()"
   ]
  },
  {
   "cell_type": "code",
   "execution_count": null,
   "id": "737139c3-c7f8-439e-b86e-a9a928b74e21",
   "metadata": {},
   "outputs": [],
   "source": [
    "\"   python  \".lstrip()"
   ]
  },
  {
   "cell_type": "code",
   "execution_count": null,
   "id": "fe1e3316-355b-420a-a866-13c61d06dfd1",
   "metadata": {},
   "outputs": [],
   "source": [
    "\"   python  \".rstrip()"
   ]
  },
  {
   "cell_type": "code",
   "execution_count": null,
   "id": "48ead6c9-6b37-4ecf-954f-622242fb4aff",
   "metadata": {},
   "outputs": [],
   "source": [
    "\"**ab*cd-ef gh---\".strip('-*')"
   ]
  },
  {
   "cell_type": "code",
   "execution_count": null,
   "id": "3eca54cc-b3c1-48aa-a4bf-997b5c0aa887",
   "metadata": {},
   "outputs": [],
   "source": [
    "'1^2'.isdigit()"
   ]
  },
  {
   "cell_type": "markdown",
   "id": "9af11cd9-b887-4e6a-a1a2-b6403f67215f",
   "metadata": {},
   "source": [
    "# LAB 1(과제) : 이메일 유효성 검사 프로그램 만들기\n",
    "1. 문제 : 사용자로 부터 이메일 주소를 입력 받아 이메일 주소가 유효한지 확인하는 프로그램을 작성하세요.\n",
    "2. 유효성 조건\n",
    "- '@'가 하나 포함되어 있어야 한다.\n",
    "- '.'이 '@' 뒤에 하나 이상 있어야 한다.\n",
    "3. 사용자로 부터 입력 받은 이메일 주소가 유효하면 '유효', 유효하지 않으면 '오류', 'quit'이면 종료한다.\n",
    "> str.count(), str.find(), str.rfind()"
   ]
  },
  {
   "cell_type": "code",
   "execution_count": null,
   "id": "b4f49680-6a6c-4def-bf93-77355f2f9a8f",
   "metadata": {},
   "outputs": [],
   "source": [
    "# 코드 예제\n",
    "while True :\n",
    "    email = input(\"이메일 주소를 입력하세요: \")\n",
    "\n",
    "    if email == 'quit' :\n",
    "        break\n",
    "    else :\n",
    "        # 코딩하시오.\n",
    "        if email.count('@') == 1 and email.rfind('.') > email.find('@'):\n",
    "            print(\"유효한 이메일 주소입니다.\")\n",
    "        else:\n",
    "            print(\"유효하지 않은 이메일 주소입니다.\")"
   ]
  },
  {
   "cell_type": "markdown",
   "id": "eb55acfa-72f4-4c7a-b601-3fa59a4909c9",
   "metadata": {},
   "source": [
    "# LAB 2 : URL에서 도메인 이름 추출\n",
    "1. 문제 : 사용자로 부터 URL을 입력 받아 도메인 이름을 추출하 프로그램을 작성하세요.\n",
    "2. 입출력\n",
    "- 입력(URL) : https://www.google.com, http://www.dongyang.ac.kr, http://www.dongyang.ac.kr/index.jsp\n",
    "- 출력 : google.com, dongyang.ac.kr\n",
    "3. 사용자로 부터 입력 받은 이메일 주소가 유효하면 '유효', 유효하지 않으면 '오류', 'quit'이면 종료한다.\n",
    "> str.split(), str.replace()"
   ]
  },
  {
   "cell_type": "code",
   "execution_count": null,
   "id": "333ff6c4-c7e6-4bb3-b1aa-f7ba28f05b3b",
   "metadata": {},
   "outputs": [],
   "source": [
    "# 코드 예제\n",
    "url = input(\"URL을 입력하세요 (예: https://www.google.com): \")\n",
    "\n",
    "# 코딩하시오\n",
    "url = url.replace(\"https://\", \"\").replace(\"http://\", \"\").replace(\"www.\", \"\")\n",
    "domain = url.split('/')[0]\n",
    "\n",
    "print(\"도메인 이름:\", domain)\n"
   ]
  },
  {
   "cell_type": "markdown",
   "id": "6fad13fe-5bbf-4c8f-b7cc-e908068111b1",
   "metadata": {},
   "source": [
    "# LAB 3 : 문자열 암호화\n",
    "1. 문제 : 사용자로 부터 문자을 입력 받아 다음의 규칙으로 암호화하세요\n",
    "- 각 문자의 ASCII 값을 2씩 증가시킨다.\n",
    "- 결과 문자열을 반환한다.\n",
    "2. 입출력\n",
    "- 입력) : \"abc\"\n",
    "- 출력 : \"cde\"\n",
    "> ord(), chr()"
   ]
  },
  {
   "cell_type": "code",
   "execution_count": null,
   "id": "5d930965-6dc9-4ce4-8018-b25cb15cde2c",
   "metadata": {},
   "outputs": [],
   "source": [
    "# 코드 예제\n",
    "text = input(\"문자열을 입력하세요: \")\n",
    "\n",
    "encrypted = []\n",
    "for char in text :\n",
    "    # 코딩하시오.\n",
    "    encrypted.append(chr(ord(char) + 2))\n",
    "\n",
    "print(\"암호화된 문자열:\", ''.join(encrypted))"
   ]
  },
  {
   "cell_type": "code",
   "execution_count": null,
   "id": "9f12082a-a053-460c-9a0f-123b060eee2d",
   "metadata": {},
   "outputs": [],
   "source": []
  }
 ],
 "metadata": {
  "kernelspec": {
   "display_name": "Python 3 (ipykernel)",
   "language": "python",
   "name": "python3"
  },
  "language_info": {
   "codemirror_mode": {
    "name": "ipython",
    "version": 3
   },
   "file_extension": ".py",
   "mimetype": "text/x-python",
   "name": "python",
   "nbconvert_exporter": "python",
   "pygments_lexer": "ipython3",
   "version": "3.12.7"
  }
 },
 "nbformat": 4,
 "nbformat_minor": 5
}
