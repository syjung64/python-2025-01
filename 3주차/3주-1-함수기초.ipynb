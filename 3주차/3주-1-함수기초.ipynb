{
 "cells": [
  {
   "cell_type": "markdown",
   "id": "80991b6f-17c0-4306-ab1c-8c084c9cf64a",
   "metadata": {},
   "source": [
    "# Lecture 1 : 함수 기초\n"
   ]
  },
  {
   "cell_type": "markdown",
   "id": "809d8ef1-89d7-42a7-81cc-db7de8f4e496",
   "metadata": {},
   "source": [
    "#### 1. 함수의 선언과 호출\n",
    "- (함수 정의) 반복적으로 사용 하는 서비스를 함수로 정의\n",
    "- (함수 호출) 함수에게 값을 전달(인자, 파라미터, argument로 불림)하면, 함수는 기능 수행 후 결과 값(반환 값, return 값)을 알려 줌\n",
    "\n",
    "```python\n",
    "### 함수 선언\n",
    "def func_name(parameter_1, parameter_2) :         # 함수 func_name()는 파라미터(parameter_1, parameter_2)를 전달받음\n",
    "    statement_1                                   # 기능 수행\n",
    "    statement_2                                   # 기능 수행\n",
    "    return result_1 result_2                      # 기능 수행후, 결과 값으로 (result_1 result_2)를 알려 줌\n",
    "\n",
    "### 함수 호출\n",
    "# 함수 func_name()에 인자(argument_1, argument_2)를 전달하면, 결과 (ret_1, ret_2)를 알려 줌\n",
    "ret_1, ret_2 = func_name(argument_1, argument_2)  "
   ]
  },
  {
   "cell_type": "code",
   "execution_count": 12,
   "id": "7baf12ea-efc3-4656-ae79-06e1bcf8a881",
   "metadata": {},
   "outputs": [
    {
     "name": "stdin",
     "output_type": "stream",
     "text": [
      "섭씨 온도를 입력하시오 :  23\n"
     ]
    },
    {
     "name": "stdout",
     "output_type": "stream",
     "text": [
      "섭씨 23.0도는 화씨로 73.4도 입니다.\n"
     ]
    },
    {
     "name": "stdin",
     "output_type": "stream",
     "text": [
      "화씨 온도를 입력하시오 :  33\n"
     ]
    },
    {
     "name": "stdout",
     "output_type": "stream",
     "text": [
      "화씨 33.0도는 섭씨로 0.6도 입니다.\n"
     ]
    }
   ],
   "source": [
    "# 3-1 코딩 (p. 103) : 섭씨 화씨 온도 변환\n",
    "\n",
    "## 섭씨를 화씨로 변환하는 함수 c_to_f() 정의\n",
    "# 함수 c_to_f()에게 전달하는 값(인자, 파라미터, argument로 불림) : 섭씨 온도(c)\n",
    "# 함수 c_to_f()가 알려주는 값(반환 값, return 값) : 화씨 온도(f)\n",
    "def c_to_f(c) :\n",
    "    f = (c * 9/5) + 32\n",
    "    return f\n",
    "\n",
    "## 화씨를 섭씨로 변환하는 함수 f_to_c() 정의\n",
    "# 함수 f_to_c()에게 전달하는 값(인자, 파라미터, argument로 불림) : 화씨 온도(f)\n",
    "# 함수 f_to_c()가 알려주는 값(반환 값, return 값) : 섭씨 온도(c)\n",
    "def f_to_c(f) :\n",
    "    c = (f - 32) * 5/9\n",
    "    return c\n",
    "\n",
    "# 사용자로 부터 섭씨 온도 입력 받기\n",
    "celsius = float(input(\"섭씨 온도를 입력하시오 : \"))\n",
    "# 함수 c_to_f()를 호출하여 섭씨온도(celsius)를 전달하면, 함수 c_to_f()는 화씨온도를 알려 줌\n",
    "fahrenheit = c_to_f(celsius)\n",
    "# 결과 출력\n",
    "print(f'섭씨 {celsius}도는 화씨로 {fahrenheit}도 입니다.') \n",
    "\n",
    "# 사용자로 부터 화씨 온도 입력 받기\n",
    "fahrenheit = float(input(\"화씨 온도를 입력하시오 : \"))\n",
    "# 함수 f_to_c()를 호출하여 화씨온도(fahrenheit)를 전달하면, 함수 f_to_c()는 섭씨온도를 알려 줌\n",
    "celsius = f_to_c(fahrenheit)\n",
    "# 결과 출력\n",
    "print(f'화씨 {fahrenheit}도는 섭씨로 {celsius:.1f}도 입니다.') "
   ]
  },
  {
   "cell_type": "markdown",
   "id": "44d702fe-e227-40e6-a1c2-cacf422a9dc4",
   "metadata": {},
   "source": [
    "### LAB-1\n",
    "- 두 개의 숫자를 입력 받아, 두 숫자의 곱을 알아보는 함수를 작성하시오,\n",
    "- 함수 이름 : multiply(a, b)"
   ]
  },
  {
   "cell_type": "markdown",
   "id": "42133a37-b9b9-4e16-a797-28f30dd4ad50",
   "metadata": {},
   "source": [
    "프로그램을 완성하시오\n",
    "```python\n",
    "def multiply(a, b) :\n",
    "    # \n",
    "    # 코딩하세요\n",
    "    # \n",
    "\n",
    "x = int(input(\"첫번째 숫자 입력 : \"))\n",
    "y = # 코딩하세요\n",
    "\n",
    "z = multiply(x, y)\n",
    "\n",
    "print(f'{x} x {y} = {z}') "
   ]
  },
  {
   "cell_type": "markdown",
   "id": "20d027d0-922a-4328-b9d9-45e6fa2c0ab8",
   "metadata": {},
   "source": [
    "### LAB-2\n",
    "- 두 개의 숫자를 입력 받아, 두 숫자의 합(sum)과 곱(multiply)을 알아보는 함수를 작성하시오,\n",
    "- 함수 이름 : calc(a, b)"
   ]
  },
  {
   "cell_type": "markdown",
   "id": "365b3744-4e68-4be1-b75c-1933acf57ffc",
   "metadata": {},
   "source": [
    "프로그램을 완성하시오\n",
    "\n",
    "```python\n",
    "def calc(a, b) :\n",
    "    # \n",
    "    # 코딩하세요\n",
    "    # \n",
    "\n",
    "x = int(input(\"첫번째 숫자 입력 : \"))\n",
    "y = # 코딩하세요\n",
    "\n",
    "s, m = calc(x, y)\n",
    "\n",
    "print(f'{x}와 {y}의 합은 {s}, 곱은 {m}') "
   ]
  },
  {
   "cell_type": "markdown",
   "id": "3ecb59fa-64c3-430c-9d80-6acc803f2ef9",
   "metadata": {},
   "source": [
    "#### 2. 람다 함수 (lambda function) p.104\n",
    "- 이름 없는(anonymous, 익명) 함수\n",
    "- 한 줄로 작성되며\n",
    "- return 문 없이 연산식 반환\n",
    "\n",
    "```python\n",
    "### 람다 함수 선언\n",
    "my_func = lambda parameter_1, parameter_2 : statement_or__expression\n",
    "\n",
    "### 람다 함수 호출\n",
    "my_func(parameter_1, parameter_2)"
   ]
  },
  {
   "cell_type": "code",
   "execution_count": 15,
   "id": "022741a6-63d5-44a3-b856-6be07552a87f",
   "metadata": {},
   "outputs": [
    {
     "name": "stdout",
     "output_type": "stream",
     "text": [
      "Hello\n",
      "11\n",
      "15\n",
      "50\n"
     ]
    }
   ],
   "source": [
    "# 3-2 코딩 (p. 106) : 람다 함수의 정의와 호출\n",
    "\n",
    "hello = lambda : print('Hello')\n",
    "add1 = lambda x : x + 1\n",
    "add2 = lambda x, y : x + y\n",
    "mult2 = lambda x, y : x * y\n",
    "\n",
    "a, b = 10, 5\n",
    "hello()\n",
    "print(add1(a))\n",
    "print(add2(a, b))\n",
    "print(mult2(a, b))\n"
   ]
  },
  {
   "cell_type": "code",
   "execution_count": 2,
   "id": "50b10f20-be68-4638-ae07-cfa51f0b035b",
   "metadata": {},
   "outputs": [
    {
     "name": "stdout",
     "output_type": "stream",
     "text": [
      "[3, 4, 6, 7]\n"
     ]
    }
   ],
   "source": [
    "## 람다 함수(lambda function)의 활용 (p.380)\n",
    "## map(함수, 리스트)\n",
    "\n",
    "lst = [2, 3, 5, 6]\n",
    "new_lst = map(lambda x: x + 1, lst)\n",
    "\n",
    "print(list(new_lst))"
   ]
  },
  {
   "cell_type": "code",
   "execution_count": 11,
   "id": "cf6a66e3-8445-4e6f-8a71-e9581cfaeaa8",
   "metadata": {},
   "outputs": [
    {
     "name": "stdin",
     "output_type": "stream",
     "text": [
      "숫자 열을 입력하세요 :  1 2 3 4\n"
     ]
    },
    {
     "name": "stdout",
     "output_type": "stream",
     "text": [
      "1 2 3 4 <class 'str'>\n",
      "1 <class 'str'>\n",
      "2 <class 'str'>\n",
      "3 <class 'str'>\n",
      "4 <class 'str'>\n",
      "[1, 2, 3, 4] <class 'int'>\n"
     ]
    }
   ],
   "source": [
    "## map() 함수 사용 활용 (고급)\n",
    "data = input(\"숫자 열을 입력하세요 : \")\n",
    "print(data, type(data))\n",
    "my_data = []\n",
    "for item in data.split() :\n",
    "    print(item, type(item))\n",
    "    my_data.append(int(item))\n",
    "print(my_data, type(my_data[0]))"
   ]
  },
  {
   "cell_type": "code",
   "execution_count": 13,
   "id": "e5c9b03d-a79b-4d96-bd7d-3b27a5f11ffd",
   "metadata": {},
   "outputs": [
    {
     "name": "stdin",
     "output_type": "stream",
     "text": [
      "숫자 열을 입력하세요 :  1 2 3 4\n"
     ]
    },
    {
     "name": "stdout",
     "output_type": "stream",
     "text": [
      "[1, 2, 3, 4] <class 'int'>\n"
     ]
    }
   ],
   "source": [
    "## map() 함수 사용 활용 (고급)\n",
    "data = list(map(int, input(\"숫자 열을 입력하세요 : \").split()))\n",
    "print(data, type(data[0]))"
   ]
  },
  {
   "cell_type": "code",
   "execution_count": 22,
   "id": "41bbe3c7-c9bf-4eda-9e9b-54c6006c00a9",
   "metadata": {},
   "outputs": [
    {
     "name": "stdout",
     "output_type": "stream",
     "text": [
      "[2, 4, 6, 8, 10]\n"
     ]
    }
   ],
   "source": [
    "## 람다 함수(lambda function)의 활용\n",
    "## filter(함수, 리스트)\n",
    "\n",
    "lst = [1, 2, 3, 4, 5, 6, 7, 8, 9, 10]\n",
    "my_lst = filter(lambda x: x%2 == 0, lst)\n",
    "\n",
    "print(list(my_lst))"
   ]
  },
  {
   "attachments": {
    "8bd70964-716c-463d-bfc7-ab9bc644ad77.png": {
     "image/png": "[encoded data removed]"
    }
   },
   "cell_type": "markdown",
   "id": "2016f286-d0ea-4812-b671-eb17ec35e336",
   "metadata": {},
   "source": [
    "#### 3. 다양한 내장 함수\n",
    "- 내장 함수 : 표준 파이썬에서 이미 정의해 놓아 바로 사용할 수 있는 함수\n",
    "- https://docs.python.org/ko/3.13/library/functions.html\n",
    "\n",
    "![image.png](attachment:8bd70964-716c-463d-bfc7-ab9bc644ad77.png)"
   ]
  },
  {
   "cell_type": "code",
   "execution_count": 24,
   "id": "af1182c0-c50b-47ff-a164-4992396c7849",
   "metadata": {},
   "outputs": [
    {
     "name": "stdout",
     "output_type": "stream",
     "text": [
      "Help on built-in function abs in module builtins:\n",
      "\n",
      "abs(x, /)\n",
      "    Return the absolute value of the argument.\n",
      "\n"
     ]
    }
   ],
   "source": [
    "help(abs)"
   ]
  },
  {
   "cell_type": "code",
   "execution_count": 25,
   "id": "85ba495a-d9ba-49b8-aabb-f6bbd459cd83",
   "metadata": {},
   "outputs": [
    {
     "data": {
      "text/plain": [
       "7"
      ]
     },
     "execution_count": 25,
     "metadata": {},
     "output_type": "execute_result"
    }
   ],
   "source": [
    "abs(-7)               # 절대 값"
   ]
  },
  {
   "cell_type": "code",
   "execution_count": 26,
   "id": "c38d50d3-ba48-4082-9d62-4e4b66f86340",
   "metadata": {},
   "outputs": [
    {
     "data": {
      "text/plain": [
       "16"
      ]
     },
     "execution_count": 26,
     "metadata": {},
     "output_type": "execute_result"
    }
   ],
   "source": [
    "pow(2, 4)                # 2의 4제곱"
   ]
  },
  {
   "cell_type": "code",
   "execution_count": 27,
   "id": "dbf24eab-b477-40d5-bde1-bbfb5a31a9c9",
   "metadata": {},
   "outputs": [
    {
     "data": {
      "text/plain": [
       "3.142"
      ]
     },
     "execution_count": 27,
     "metadata": {},
     "output_type": "execute_result"
    }
   ],
   "source": [
    "round(3.141592, 3)        # 소수 3자리에서 반올림"
   ]
  },
  {
   "cell_type": "code",
   "execution_count": 28,
   "id": "16ec2b50-11ec-4dc3-8907-9c9f03bbb1a8",
   "metadata": {},
   "outputs": [
    {
     "data": {
      "text/plain": [
       "(3, 2)"
      ]
     },
     "execution_count": 28,
     "metadata": {},
     "output_type": "execute_result"
    }
   ],
   "source": [
    "divmod(20, 6)       # 몫과 나지지"
   ]
  },
  {
   "cell_type": "code",
   "execution_count": 9,
   "id": "4923bca0-468d-4df8-8f91-0beebe485939",
   "metadata": {},
   "outputs": [
    {
     "data": {
      "text/plain": [
       "2"
      ]
     },
     "execution_count": 9,
     "metadata": {},
     "output_type": "execute_result"
    }
   ],
   "source": [
    "min([3.4, 5, 2])       # 시퀀스 객체의 최소 값"
   ]
  },
  {
   "cell_type": "code",
   "execution_count": 8,
   "id": "becf1dd4-a405-47f7-a937-d77de877be3f",
   "metadata": {},
   "outputs": [
    {
     "data": {
      "text/plain": [
       "5"
      ]
     },
     "execution_count": 8,
     "metadata": {},
     "output_type": "execute_result"
    }
   ],
   "source": [
    "max((3.4, 5, 2))      # 시퀀스 객체의 최대 값"
   ]
  },
  {
   "cell_type": "code",
   "execution_count": 1,
   "id": "69837f51-769c-42b9-bb2d-21c18ccf9289",
   "metadata": {},
   "outputs": [
    {
     "data": {
      "text/plain": [
       "6"
      ]
     },
     "execution_count": 1,
     "metadata": {},
     "output_type": "execute_result"
    }
   ],
   "source": [
    "sum((1, 2, 3))     # 시퀀스 객체의 합"
   ]
  },
  {
   "cell_type": "code",
   "execution_count": 2,
   "id": "5d0b5ba1-4b57-4876-849f-f6f79df53367",
   "metadata": {},
   "outputs": [
    {
     "data": {
      "text/plain": [
       "6"
      ]
     },
     "execution_count": 2,
     "metadata": {},
     "output_type": "execute_result"
    }
   ],
   "source": [
    "sum([1, 2, 3])    # 시퀀스 객체의 합"
   ]
  },
  {
   "cell_type": "code",
   "execution_count": 3,
   "id": "49200bd9-82fe-4bf1-bfce-bdc4ba629a00",
   "metadata": {},
   "outputs": [
    {
     "data": {
      "text/plain": [
       "'0b10100'"
      ]
     },
     "execution_count": 3,
     "metadata": {},
     "output_type": "execute_result"
    }
   ],
   "source": [
    "bin(20)  # 2진수로 출력"
   ]
  },
  {
   "cell_type": "code",
   "execution_count": 4,
   "id": "3e54cf00-110c-4823-8899-bdb8de6f3465",
   "metadata": {},
   "outputs": [
    {
     "data": {
      "text/plain": [
       "[3, 5, 6, 9]"
      ]
     },
     "execution_count": 4,
     "metadata": {},
     "output_type": "execute_result"
    }
   ],
   "source": [
    "sorted([5, 3, 9, 6])             # iternal 객체의 항목 정렬"
   ]
  },
  {
   "cell_type": "code",
   "execution_count": 7,
   "id": "c8fbde92-4a1e-4d93-afe5-ad3441168d91",
   "metadata": {},
   "outputs": [
    {
     "data": {
      "text/plain": [
       "True"
      ]
     },
     "execution_count": 7,
     "metadata": {},
     "output_type": "execute_result"
    }
   ],
   "source": [
    "all([3, 5>3, 'py' in 'python', 3 % 2])  # 모든 항목이 참이면 True"
   ]
  },
  {
   "cell_type": "code",
   "execution_count": 11,
   "id": "9d168e43-11ba-47e6-b367-891fb405f4df",
   "metadata": {},
   "outputs": [
    {
     "data": {
      "text/plain": [
       "True"
      ]
     },
     "execution_count": 11,
     "metadata": {},
     "output_type": "execute_result"
    }
   ],
   "source": [
    "any([0, 10 >= 1, ''])    # 요소 값 중 하나라도 참이면 True"
   ]
  },
  {
   "cell_type": "code",
   "execution_count": null,
   "id": "b6b9496f-bf46-4d20-b0af-fdd4200d5cf3",
   "metadata": {},
   "outputs": [],
   "source": []
  }
 ],
 "metadata": {
  "kernelspec": {
   "display_name": "Python 3 (ipykernel)",
   "language": "python",
   "name": "python3"
  },
  "language_info": {
   "codemirror_mode": {
    "name": "ipython",
    "version": 3
   },
   "file_extension": ".py",
   "mimetype": "text/x-python",
   "name": "python",
   "nbconvert_exporter": "python",
   "pygments_lexer": "ipython3",
   "version": "3.12.7"
  }
 },
 "nbformat": 4,
 "nbformat_minor": 5
}
