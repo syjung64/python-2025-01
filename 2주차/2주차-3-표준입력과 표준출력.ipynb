{
 "cells": [
  {
   "cell_type": "markdown",
   "id": "359b943c-20a4-43df-a5f0-5dc1ca750be5",
   "metadata": {},
   "source": [
    "# Lecture 1 : 표준 입력과 표준 출력\n"
   ]
  },
  {
   "cell_type": "markdown",
   "id": "13830b1e-5ba8-45f6-a591-e1137e149d5c",
   "metadata": {},
   "source": [
    "### 1. 자료 입력 input()과 변환함수 int(), float()\n",
    "- input() 키보드의 입력을 반환하는 함수\n",
    "- int(), float() : 수의 형태를 정수나 실수로 변환하는 내장 함수"
   ]
  },
  {
   "cell_type": "code",
   "execution_count": 6,
   "id": "ad25ae35-4709-45a1-8ee6-592d4d75b11c",
   "metadata": {},
   "outputs": [
    {
     "name": "stdin",
     "output_type": "stream",
     "text": [
      "실수로 가로 길이 입력 >>  2.2\n",
      "정수로 세로 길이 입력 >>  2\n"
     ]
    },
    {
     "name": "stdout",
     "output_type": "stream",
     "text": [
      "삼각형 넓이는 : 2.2\n",
      "사각형 넓이는 : 4.4\n"
     ]
    }
   ],
   "source": [
    "### 2-8 코딩 (p.81)\n",
    "\n",
    "# 표준 입력\n",
    "width = float(input(\"실수로 가로 길이 입력 >> \"))\n",
    "height = int(input(\"정수로 세로 길이 입력 >> \"))\n",
    "\n",
    "# 계산 및 출력\n",
    "area = height * width\n",
    "print(\"삼각형 넓이는 :\", area/2);\n",
    "print(\"사각형 넓이는 :\", area);\n",
    "\n",
    "#"
   ]
  },
  {
   "cell_type": "markdown",
   "id": "8f6777de-1fae-4ea6-af27-201b48204c40",
   "metadata": {},
   "source": [
    "### (생각해 보기 - 1)\n",
    "```python\n",
    "width = input(\"실수로 가로 길이 입력 >> \")\n",
    "\n",
    "print(width, type(width))"
   ]
  },
  {
   "cell_type": "markdown",
   "id": "ffd43d33-3b46-4ec3-9240-30af71b48894",
   "metadata": {},
   "source": [
    "### (생각해 보기 - 2)\n",
    "\n",
    "```python\n",
    "width = float(input(\"실수로 가로 길이 입력 >> \"))\n",
    "height = int(input(\"정수로 세로 길이 입력 >> \"))\n",
    "area = height * width\n",
    "\n",
    "print(type(width), type(height), type(area))"
   ]
  },
  {
   "cell_type": "markdown",
   "id": "bf4d9ae2-f1df-4c0d-8a18-6bbe8399493f",
   "metadata": {},
   "source": [
    "### 2. 출력을 위한 문자열 format\n",
    "- str.format()\n",
    "- f-string\n",
    "- % format"
   ]
  },
  {
   "cell_type": "code",
   "execution_count": 22,
   "id": "de9a0d23-181b-4b1b-a99c-b55b30e19fd8",
   "metadata": {},
   "outputs": [
    {
     "name": "stdout",
     "output_type": "stream",
     "text": [
      "가로: 3, 세로: 6, 면적: 18\n"
     ]
    }
   ],
   "source": [
    "### 2-9 코딩 (p.83)\n",
    "\n",
    "# 변수에 가로와 세로 저장\n",
    "width, height = 3, 6\n",
    "\n",
    "# str.format() - {}에 인자 값을 대체 (인자 자동 지정, 0, 1, 2, ..)\n",
    "print('가로: {}, 세로: {}, 면적: {}'.format(width, height, width*height))"
   ]
  },
  {
   "cell_type": "code",
   "execution_count": 36,
   "id": "fbb056ed-0979-4123-b436-c092330f1add",
   "metadata": {},
   "outputs": [
    {
     "name": "stdout",
     "output_type": "stream",
     "text": [
      "가로: 6, 세로: 6, 면적: 18\n"
     ]
    }
   ],
   "source": [
    "### 2-9 코딩 (p.83)\n",
    "\n",
    "# 변수에 가로와 세로 저장\n",
    "width, height = 3, 6\n",
    "\n",
    "# str.format() - {}에 정수로 인자 지정\n",
    "print('가로: {1}, 세로: {1}, 면적: {2}'.format(width, height, width*height))"
   ]
  },
  {
   "cell_type": "code",
   "execution_count": 37,
   "id": "3726e627-f091-4995-a277-5da9eb2f355d",
   "metadata": {},
   "outputs": [
    {
     "name": "stdout",
     "output_type": "stream",
     "text": [
      "가로: 3, 세로: 6, 면적: 18\n",
      "가로: 3, 세로: 6, 면적: 18\n"
     ]
    }
   ],
   "source": [
    "### 2-9 코딩 (p.83)\n",
    "\n",
    "# 변수에 가로와 세로 저장\n",
    "width, height = 3, 6\n",
    "\n",
    "# str.format() - {}에 키워드로 인자 지정\n",
    "print('가로: {}, 세로: {}, 면적: {area}'.format(width, height, area=width*height))\n",
    "print('가로: {}, 세로: {h}, 면적: {area}'.format(width, h=height, area=width*height))"
   ]
  },
  {
   "cell_type": "code",
   "execution_count": 38,
   "id": "b0230d64-5a84-4d88-9dbd-e7ac48dceecb",
   "metadata": {},
   "outputs": [
    {
     "name": "stdout",
     "output_type": "stream",
     "text": [
      "가로: 3, 세로: 6, 면적: 18\n"
     ]
    }
   ],
   "source": [
    "### 2-9 코딩 (p.83)\n",
    "\n",
    "# f-string\n",
    "width, height = 3, 6\n",
    "print(f'가로: {width}, 세로: {height}, 면적: {width*height}')"
   ]
  },
  {
   "cell_type": "code",
   "execution_count": 40,
   "id": "3cbe6f5e-1c7d-435c-b4f5-89808ce87f56",
   "metadata": {},
   "outputs": [
    {
     "name": "stdout",
     "output_type": "stream",
     "text": [
      "가로: 3, 세로: 6.300000, 면적: 18.900000\n"
     ]
    }
   ],
   "source": [
    "### 2-9 코딩 (p.84)\n",
    "\n",
    "# % format\n",
    "width, height = 3, 6.3\n",
    "print('가로: %d, 세로: %f, 면적: %f' % (width, height, width*height))"
   ]
  },
  {
   "cell_type": "markdown",
   "id": "d4d9fe41-f3f5-40d8-8c30-30e0229fc690",
   "metadata": {},
   "source": [
    "### 3. 상세 형식 지정자"
   ]
  },
  {
   "cell_type": "code",
   "execution_count": 48,
   "id": "37fc63fd-57c0-458a-ad08-ba7a11cc16da",
   "metadata": {},
   "outputs": [
    {
     "name": "stdout",
     "output_type": "stream",
     "text": [
      "math.pi : 3.1416 math.e : 2.71828\n"
     ]
    }
   ],
   "source": [
    "### 2-10 코딩 (p.88)\n",
    "\n",
    "# 원주율 pi를 사용하기 위해 모듈 math 불러기기\n",
    "import math\n",
    "\n",
    "# 모듈 math의 원주율 pi와 자연수(오일러 수) e 출력\n",
    "print('math.pi : {:.4f} math.e : {:.5f}'.format(math.pi, math.e))"
   ]
  },
  {
   "cell_type": "markdown",
   "id": "4411dcc5-04ce-4109-8723-b06c5d54bae6",
   "metadata": {},
   "source": [
    "# LAB :  다음 문제를 프로그램 하시오"
   ]
  },
  {
   "cell_type": "markdown",
   "id": "adc0728b-a52c-4879-a82e-746854c78a7e",
   "metadata": {},
   "source": [
    "### 문제 1:(p. 93) 표준 입력으로 거리 마일(mile)을 입력 받은 후 킬로미터로 변환하여 출력하는 프로그램을 작성하시오.\n",
    "- 1 마일(mile)은 1.6km\n",
    "\n",
    "```\n",
    "마일을 입력하시오 >>  80 \n",
    "80.0 마일은 128.7472 킬로미터입니다.\n",
    "```"
   ]
  },
  {
   "cell_type": "code",
   "execution_count": null,
   "id": "741aba15-6a76-4e45-8d92-5b45b520dd2f",
   "metadata": {},
   "outputs": [],
   "source": []
  },
  {
   "cell_type": "code",
   "execution_count": null,
   "id": "381dbee5-307d-4bdd-91ca-46d05f8446dc",
   "metadata": {},
   "outputs": [],
   "source": []
  }
 ],
 "metadata": {
  "kernelspec": {
   "display_name": "Python 3 (ipykernel)",
   "language": "python",
   "name": "python3"
  },
  "language_info": {
   "codemirror_mode": {
    "name": "ipython",
    "version": 3
   },
   "file_extension": ".py",
   "mimetype": "text/x-python",
   "name": "python",
   "nbconvert_exporter": "python",
   "pygments_lexer": "ipython3",
   "version": "3.12.7"
  }
 },
 "nbformat": 4,
 "nbformat_minor": 5
}
